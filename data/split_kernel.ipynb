{
 "cells": [
  {
   "cell_type": "code",
   "execution_count": 1,
   "metadata": {},
   "outputs": [],
   "source": [
    "import numpy as np"
   ]
  },
  {
   "cell_type": "code",
   "execution_count": 2,
   "metadata": {},
   "outputs": [
    {
     "data": {
      "text/plain": [
       "['cifar10_train_kernel',\n",
       " 'cifar10_test_kernel',\n",
       " 'cifar_10_1_test_kernel',\n",
       " 'labels_cifar10_train',\n",
       " 'labels_cifar10_test',\n",
       " 'labels_cifar10_1_test']"
      ]
     },
     "execution_count": 2,
     "metadata": {},
     "output_type": "execute_result"
    }
   ],
   "source": [
    "kernels = np.load('neural_kernels_cifar10.npz')\n",
    "list(kernels)"
   ]
  },
  {
   "cell_type": "code",
   "execution_count": 5,
   "metadata": {},
   "outputs": [
    {
     "data": {
      "text/plain": [
       "(10000, 100000)"
      ]
     },
     "execution_count": 5,
     "metadata": {},
     "output_type": "execute_result"
    }
   ],
   "source": [
    "kernels['cifar10_test_kernel'].shape"
   ]
  },
  {
   "cell_type": "code",
   "execution_count": 7,
   "metadata": {},
   "outputs": [],
   "source": [
    "N = 50000\n",
    "\n",
    "\"\"\"\n",
    "np.savez('kernels_50k.npz', \n",
    "         train_kernel=kernels['cifar10_train_kernel'][:N, :N],\n",
    "         test_kernel=kernels['cifar10_test_kernel'][:, :N],\n",
    "         test_1_kernel=kernels['cifar_10_1_test_kernel'][:, :N],\n",
    "         labels_train=kernels['labels_cifar10_train'][:N],\n",
    "         labels_test=kernels['labels_cifar10_test'][:N],\n",
    "         labels_test_1=kernels['labels_cifar10_1_test'][:N])\n",
    "\"\"\""
   ]
  },
  {
   "cell_type": "code",
   "execution_count": 23,
   "metadata": {},
   "outputs": [
    {
     "data": {
      "text/plain": [
       "['train_kernel',\n",
       " 'test_kernel',\n",
       " 'test_1_kernel',\n",
       " 'labels_train',\n",
       " 'labels_test',\n",
       " 'labels_test_1']"
      ]
     },
     "execution_count": 23,
     "metadata": {},
     "output_type": "execute_result"
    }
   ],
   "source": [
    "kernels_50k = np.load('kernels_50k.npz')\n",
    "list(kernels_50k)"
   ]
  },
  {
   "cell_type": "code",
   "execution_count": 24,
   "metadata": {},
   "outputs": [
    {
     "data": {
      "text/plain": [
       "((50000, 50000), (10000, 50000), (2000, 50000))"
      ]
     },
     "execution_count": 24,
     "metadata": {},
     "output_type": "execute_result"
    }
   ],
   "source": [
    "kernels_50k['train_kernel'].shape, kernels_50k['test_kernel'].shape, kernels_50k['test_1_kernel'].shape"
   ]
  },
  {
   "cell_type": "code",
   "execution_count": 25,
   "metadata": {},
   "outputs": [
    {
     "data": {
      "text/plain": [
       "((50000,), (10000,), (2000,))"
      ]
     },
     "execution_count": 25,
     "metadata": {},
     "output_type": "execute_result"
    }
   ],
   "source": [
    "kernels_50k['labels_train'].shape, kernels_50k['labels_test'].shape, kernels_50k['labels_test_1'].shape"
   ]
  },
  {
   "cell_type": "code",
   "execution_count": 17,
   "metadata": {},
   "outputs": [],
   "source": [
    "N = 12800\n",
    "\"\"\"\n",
    "np.savez('kernels_12k.npz', \n",
    "         train_kernel=kernels_50k['train_kernel'][:N, :N],\n",
    "         test_kernel=kernels_50k['test_kernel'][:, :N],\n",
    "         test_1_kernel=kernels_50k['test_1_kernel'][:, :N],\n",
    "         labels_train=kernels_50k['labels_train'][:N],\n",
    "         labels_test=kernels_50k['labels_test'][:N],\n",
    "         labels_test_1=kernels_50k['labels_test_1'][:N])\n",
    "\"\"\""
   ]
  },
  {
   "cell_type": "code",
   "execution_count": 20,
   "metadata": {},
   "outputs": [
    {
     "data": {
      "text/plain": [
       "['train_kernel',\n",
       " 'test_kernel',\n",
       " 'test_1_kernel',\n",
       " 'labels_train',\n",
       " 'labels_test',\n",
       " 'labels_test_1']"
      ]
     },
     "execution_count": 20,
     "metadata": {},
     "output_type": "execute_result"
    }
   ],
   "source": [
    "kernels_12k = np.load('kernels_12k.npz')\n",
    "list(kernels_12k)"
   ]
  },
  {
   "cell_type": "code",
   "execution_count": 21,
   "metadata": {},
   "outputs": [
    {
     "data": {
      "text/plain": [
       "((12800, 12800), (10000, 12800), (2000, 12800))"
      ]
     },
     "execution_count": 21,
     "metadata": {},
     "output_type": "execute_result"
    }
   ],
   "source": [
    "kernels_12k['train_kernel'].shape, kernels_12k['test_kernel'].shape, kernels_12k['test_1_kernel'].shape"
   ]
  },
  {
   "cell_type": "code",
   "execution_count": 22,
   "metadata": {},
   "outputs": [
    {
     "data": {
      "text/plain": [
       "((12800,), (10000,), (2000,))"
      ]
     },
     "execution_count": 22,
     "metadata": {},
     "output_type": "execute_result"
    }
   ],
   "source": [
    "kernels_12k['labels_train'].shape, kernels_12k['labels_test'].shape, kernels_12k['labels_test_1'].shape"
   ]
  },
  {
   "cell_type": "code",
   "execution_count": 27,
   "metadata": {},
   "outputs": [],
   "source": [
    "train_kernel = kernels_12k['train_kernel']\n",
    "test_kernel  = kernels_12k['test_kernel']\n",
    "\n",
    "labels_train = kernels_12k['labels_train']\n",
    "labels_test  = kernels_12k['labels_test']"
   ]
  },
  {
   "cell_type": "code",
   "execution_count": 28,
   "metadata": {},
   "outputs": [
    {
     "data": {
      "text/plain": [
       "array([[1.        , 0.9970431 , 0.99326016, 0.99775115, 0.99663821],\n",
       "       [0.9970431 , 1.        , 0.99160902, 0.99755973, 0.99511681],\n",
       "       [0.99326016, 0.99160902, 1.        , 0.99146622, 0.99227528],\n",
       "       [0.99775115, 0.99755973, 0.99146622, 1.        , 0.99552235],\n",
       "       [0.99663821, 0.99511681, 0.99227528, 0.99552235, 1.        ]])"
      ]
     },
     "execution_count": 28,
     "metadata": {},
     "output_type": "execute_result"
    }
   ],
   "source": [
    "train_kernel[:5,:5]"
   ]
  },
  {
   "cell_type": "code",
   "execution_count": 35,
   "metadata": {},
   "outputs": [
    {
     "data": {
      "text/plain": [
       "array([[0.9969    , 0.99707096, 0.9932627 , 0.99698512, 0.99480632],\n",
       "       [0.67889957, 0.67897143, 0.67514772, 0.67864657, 0.67992822],\n",
       "       [0.92934084, 0.92932475, 0.92861989, 0.92821194, 0.92760163],\n",
       "       [0.84407326, 0.84456551, 0.84315148, 0.84318096, 0.84261198],\n",
       "       [1.11881171, 1.11868099, 1.11116707, 1.11852208, 1.11591263]])"
      ]
     },
     "execution_count": 35,
     "metadata": {},
     "output_type": "execute_result"
    }
   ],
   "source": [
    "test_kernel[:5,:5] * 0.9969 / 1.11196261"
   ]
  },
  {
   "cell_type": "code",
   "execution_count": 32,
   "metadata": {},
   "outputs": [
    {
     "data": {
      "text/plain": [
       "array([6, 9, 9, 4, 1, 1, 2, 7, 8, 3])"
      ]
     },
     "execution_count": 32,
     "metadata": {},
     "output_type": "execute_result"
    }
   ],
   "source": [
    "labels_train[:10]"
   ]
  },
  {
   "cell_type": "code",
   "execution_count": 31,
   "metadata": {},
   "outputs": [
    {
     "data": {
      "text/plain": [
       "array([3, 8, 8, 0, 6, 6, 1, 6, 3, 1])"
      ]
     },
     "execution_count": 31,
     "metadata": {},
     "output_type": "execute_result"
    }
   ],
   "source": [
    "labels_test[:10]"
   ]
  },
  {
   "cell_type": "code",
   "execution_count": null,
   "metadata": {},
   "outputs": [],
   "source": []
  }
 ],
 "metadata": {
  "kernelspec": {
   "display_name": "Python 3",
   "language": "python",
   "name": "python3"
  },
  "language_info": {
   "codemirror_mode": {
    "name": "ipython",
    "version": 3
   },
   "file_extension": ".py",
   "mimetype": "text/x-python",
   "name": "python",
   "nbconvert_exporter": "python",
   "pygments_lexer": "ipython3",
   "version": "3.6.9"
  }
 },
 "nbformat": 4,
 "nbformat_minor": 4
}
