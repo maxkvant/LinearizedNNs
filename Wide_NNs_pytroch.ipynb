{
  "nbformat": 4,
  "nbformat_minor": 0,
  "metadata": {
    "colab": {
      "name": "Wide-NNs-2.ipynb",
      "provenance": [],
      "collapsed_sections": []
    },
    "kernelspec": {
      "name": "python3",
      "display_name": "Python 3"
    },
    "accelerator": "GPU"
  },
  "cells": [
    {
      "cell_type": "code",
      "metadata": {
        "id": "Y50vxtWiZWLd",
        "colab_type": "code",
        "colab": {}
      },
      "source": [
        "from torchvision.datasets import FashionMNIST\n",
        "from torchvision import transforms\n",
        "import torch\n",
        "from torch import nn\n",
        "import autograd\n",
        "import autograd.numpy as np\n",
        "import matplotlib.pylab as plt\n",
        "import torch.nn.functional as F\n",
        "\n",
        "from torchvision import datasets, models, transforms\n",
        "\n",
        "import matplotlib.pyplot as plt\n",
        "\n",
        "from sklearn.model_selection import train_test_split\n",
        "from scipy.integrate import solve_ivp\n",
        "from sklearn.kernel_ridge import KernelRidge\n",
        "from sklearn.linear_model import Ridge, LinearRegression\n",
        "from sklearn.datasets import load_boston\n",
        "from sklearn.metrics import r2_score\n",
        "from sklearn.svm import SVR\n",
        "from sklearn.neighbors import KNeighborsRegressor\n",
        "from sklearn.ensemble import RandomForestRegressor\n",
        "from sklearn.neural_network import MLPRegressor\n",
        "from scipy.linalg import expm\n",
        "from sklearn.pipeline import Pipeline\n",
        "from sklearn.preprocessing import MinMaxScaler"
      ],
      "execution_count": 0,
      "outputs": []
    },
    {
      "cell_type": "markdown",
      "metadata": {
        "id": "RbZnE_YK6RGx",
        "colab_type": "text"
      },
      "source": [
        "## Load the data"
      ]
    },
    {
      "cell_type": "code",
      "metadata": {
        "id": "i_KgkMiqZ_Fw",
        "colab_type": "code",
        "outputId": "a3604abf-d1bd-491b-d98d-dec7c2a8a572",
        "colab": {
          "base_uri": "https://localhost:8080/",
          "height": 54
        }
      },
      "source": [
        "torch.manual_seed(0)\n",
        "\n",
        "if torch.cuda.is_available():\n",
        "    device = torch.device('cuda:0')\n",
        "else:\n",
        "    device = torch.device('cpu')\n",
        "\n",
        "print('Torch version: {}'.format(torch.__version__))\n",
        "print('Device: {}'.format(device))\n",
        "\n",
        "train_loader = torch.utils.data.DataLoader(\n",
        "    FashionMNIST(root='.', train=True, download=True,\n",
        "          transform=transforms.ToTensor()),\n",
        "    batch_size=10000, shuffle=True, pin_memory=True)\n",
        "\n",
        "test_loader = torch.utils.data.DataLoader(\n",
        "    FashionMNIST(root='.', train=False, transform=transforms.ToTensor()),\n",
        "    batch_size=10000, shuffle=True, pin_memory=True)"
      ],
      "execution_count": 2,
      "outputs": [
        {
          "output_type": "stream",
          "text": [
            "Torch version: 1.4.0\n",
            "Device: cuda:0\n"
          ],
          "name": "stdout"
        }
      ]
    },
    {
      "cell_type": "markdown",
      "metadata": {
        "id": "tNJLHJjJ6Yqe",
        "colab_type": "text"
      },
      "source": [
        "## Model"
      ]
    },
    {
      "cell_type": "code",
      "metadata": {
        "id": "SyWnxwXXbgsz",
        "colab_type": "code",
        "colab": {}
      },
      "source": [
        "n_classes, D = 10, 28\n",
        "\n",
        "class Net(nn.Module):\n",
        "    def __init__(self):\n",
        "        super(Net, self).__init__()\n",
        "        hidden_size = 256\n",
        "\n",
        "        self.net = nn.Sequential(\n",
        "          nn.Linear(D ** 2, hidden_size),\n",
        "          nn.ReLU(),\n",
        "          nn.Linear(hidden_size, n_classes)\n",
        "        )\n",
        "\n",
        "    def forward(self, x):\n",
        "        x = x.view(-1, D ** 2)\n",
        "        return self.net(x)"
      ],
      "execution_count": 0,
      "outputs": []
    },
    {
      "cell_type": "code",
      "metadata": {
        "id": "hk-kchn7c8j1",
        "colab_type": "code",
        "colab": {}
      },
      "source": [
        "model = Net()\n",
        "model = model.to(device)"
      ],
      "execution_count": 0,
      "outputs": []
    },
    {
      "cell_type": "code",
      "metadata": {
        "id": "QtIDkg1LdWQW",
        "colab_type": "code",
        "outputId": "75b35f2f-79e3-4bd9-a13e-f2f5fc24bf81",
        "colab": {
          "base_uri": "https://localhost:8080/",
          "height": 35
        }
      },
      "source": [
        "param_size = 0\n",
        "for p in model.parameters():\n",
        "    param_size += p.nelement()\n",
        "param_size"
      ],
      "execution_count": 5,
      "outputs": [
        {
          "output_type": "execute_result",
          "data": {
            "text/plain": [
              "203530"
            ]
          },
          "metadata": {
            "tags": []
          },
          "execution_count": 5
        }
      ]
    },
    {
      "cell_type": "markdown",
      "metadata": {
        "id": "KIZLVYPn6cqr",
        "colab_type": "text"
      },
      "source": [
        "## Matrix utils"
      ]
    },
    {
      "cell_type": "code",
      "metadata": {
        "id": "ks1LcRnaQnte",
        "colab_type": "code",
        "outputId": "579c9c55-b31e-4964-9733-54798c4ebe00",
        "colab": {
          "base_uri": "https://localhost:8080/",
          "height": 54
        }
      },
      "source": [
        "def matrix_exp(M, device, n_iter=30):\n",
        "  M = M.to(device)\n",
        "  \n",
        "  n = M.size()[0]\n",
        "  norm = torch.sqrt((M ** 2).sum())\n",
        "  steps = 0\n",
        "  while norm > 1e-8:\n",
        "    M /= 2.\n",
        "    norm /= 2.\n",
        "    steps += 1\n",
        "  \n",
        "  \n",
        "  series_sum = torch.eye(n, dtype=torch.float64).to(device)\n",
        "  prod = M.to(device)\n",
        "  for i in range(1, n_iter):\n",
        "    series_sum = (series_sum + prod)\n",
        "    prod = torch.matmul(prod, M) / i\n",
        "\n",
        "  exp = series_sum\n",
        "  for _ in range(steps):\n",
        "    exp = torch.matmul(exp, exp)\n",
        "  return exp\n",
        "\n",
        "a = 30 / 180 * np.pi\n",
        "M = torch.tensor([[0, -1], [1, 0]], dtype=torch.float64) * a\n",
        "matrix_exp(M, device)"
      ],
      "execution_count": 6,
      "outputs": [
        {
          "output_type": "execute_result",
          "data": {
            "text/plain": [
              "tensor([[ 0.8660, -0.5000],\n",
              "        [ 0.5000,  0.8660]], device='cuda:0', dtype=torch.float64)"
            ]
          },
          "metadata": {
            "tags": []
          },
          "execution_count": 6
        }
      ]
    },
    {
      "cell_type": "code",
      "metadata": {
        "id": "NO5IoU6xpG1s",
        "colab_type": "code",
        "outputId": "648c8c20-4a5d-4845-89cb-d1a8ddf1f755",
        "colab": {
          "base_uri": "https://localhost:8080/",
          "height": 54
        }
      },
      "source": [
        "# compute M^-1 * (exp(M) - E) \n",
        "def compute_exp_term(M, device, n_iter=30):\n",
        "  with torch.no_grad():\n",
        "    M = M.to(device)\n",
        "    \n",
        "    n = M.size()[0]\n",
        "    norm = torch.sqrt((M ** 2).sum())\n",
        "    steps = 0\n",
        "    while norm > 1e-8:\n",
        "      M /= 2.\n",
        "      norm /= 2.\n",
        "      steps += 1\n",
        "    \n",
        "    series_sum = torch.zeros([n, n], dtype=torch.float64).to(device)\n",
        "    prod = torch.eye(n, dtype=torch.float64).to(device)\n",
        "    \n",
        "    # series_sum: E + M / 2 + M^2 / 6 + ...\n",
        "    for i in range(1, n_iter):\n",
        "      series_sum = (series_sum + prod)\n",
        "      prod = torch.matmul(prod, M) / (i + 1)\n",
        "\n",
        "    # (exp 0) (exp 0) = (exp^2           0)  \n",
        "    # (sum E) (sum E) = (sum * exp + sum E)\n",
        "    exp = torch.matmul(M, series_sum) + torch.eye(n).to(device)\n",
        "    for step in range(steps):\n",
        "      series_sum = (torch.matmul(series_sum, exp) + series_sum) / 2.\n",
        "      exp = torch.matmul(exp, exp)\n",
        "    \n",
        "    return series_sum\n",
        "\n",
        "a = 30 / 180 * np.pi\n",
        "M = torch.tensor([[0, -1], [1, 0]], dtype=torch.float64) * a\n",
        "torch.matmul(M.to(device), compute_exp_term(M, device)) + torch.eye(2).to(device)"
      ],
      "execution_count": 7,
      "outputs": [
        {
          "output_type": "execute_result",
          "data": {
            "text/plain": [
              "tensor([[ 0.8660, -0.5000],\n",
              "        [ 0.5000,  0.8660]], device='cuda:0', dtype=torch.float64)"
            ]
          },
          "metadata": {
            "tags": []
          },
          "execution_count": 7
        }
      ]
    },
    {
      "cell_type": "code",
      "metadata": {
        "id": "IfoI62tkZbGC",
        "colab_type": "code",
        "colab": {
          "base_uri": "https://localhost:8080/",
          "height": 35
        },
        "outputId": "b671fe6f-a6f2-481b-b78c-32ed8a5abf5a"
      },
      "source": [
        "_, (X, y) = next(enumerate(train_loader))\n",
        "X = X.to(device)\n",
        "y_one_hot = torch.eye(n_classes)[y] * 2 - 1\n",
        "y = y_one_hot.to(device)\n",
        "y.size()"
      ],
      "execution_count": 8,
      "outputs": [
        {
          "output_type": "execute_result",
          "data": {
            "text/plain": [
              "torch.Size([10000, 10])"
            ]
          },
          "metadata": {
            "tags": []
          },
          "execution_count": 8
        }
      ]
    },
    {
      "cell_type": "markdown",
      "metadata": {
        "id": "swLTe6n96iKM",
        "colab_type": "text"
      },
      "source": [
        "## Predictor (via closed form solution)"
      ]
    },
    {
      "cell_type": "code",
      "metadata": {
        "id": "4-UZpo3mQss-",
        "colab_type": "code",
        "colab": {
          "base_uri": "https://localhost:8080/",
          "height": 435
        },
        "outputId": "00b1074e-18c4-44a5-8260-5f0b4a232c50"
      },
      "source": [
        "class Estimator:\n",
        "  def __init__(self, model, device, learning_rate):\n",
        "    self.model = model\n",
        "    self.device = device\n",
        "    self.lr = learning_rate\n",
        "    self.ws = None\n",
        "    self.step = 2000\n",
        "\n",
        "  def one_grad(self, pred_elem):\n",
        "    self.model.zero_grad()\n",
        "    pred_elem.backward(retain_graph=True)\n",
        "    grads = []\n",
        "    for param in self.model.parameters():\n",
        "        cur_grad = param.grad\n",
        "        grads.append(cur_grad.view(-1))\n",
        "    grad = torch.cat(grads).view(-1).detach()\n",
        "    return grad\n",
        "\n",
        "  def grads_x(self, x):\n",
        "    pred = self.model.forward(x)\n",
        "    return torch.stack([self.one_grad(elem) for elem in pred[0]])\n",
        "\n",
        "  def grads(self, X):\n",
        "    return torch.cat([self.grads_x(x) for x in X])\n",
        "\n",
        "  def grads_logit(self, X, logit_i):\n",
        "    pred = self.model.forward(X)[:,logit_i]\n",
        "    return torch.stack([self.one_grad(elem) for elem in pred]).detach()\n",
        "\n",
        "  def compute_Theta_0(self, X, logit_i):\n",
        "    n = X.size()[0]\n",
        "    \n",
        "    Theta_0 = torch.zeros([n,n]).double().to(self.device)\n",
        "    for li in range(0, n, self.step):\n",
        "      ri = min(li + self.step, n)\n",
        "      grads_i = self.grads_logit(X[li:ri], logit_i).double()\n",
        "\n",
        "      for lj in range(0, n, self.step):\n",
        "        rj = min(lj + self.step, n)\n",
        "        grads_j = self.grads_logit(X[lj:rj], logit_i).double()\n",
        "\n",
        "        Theta_0[li:ri, lj:rj] = torch.matmul(grads_i, grads_j.T)\n",
        "        del grads_j\n",
        "      del grads_i\n",
        "    return Theta_0\n",
        "\n",
        "  def fit(self, X, y):\n",
        "    n = len(X)\n",
        "    n_classes = y.size()[1]\n",
        "\n",
        "    ws = []\n",
        "    for i in range(n_classes):\n",
        "      w = None\n",
        "\n",
        "      print(f\"computing grads {i}/{n_classes} ...\")\n",
        "      Theta_0 = self.compute_Theta_0(X, i)\n",
        "      \n",
        "      with torch.no_grad():\n",
        "        f0 = self.model.forward(X)[:,i]\n",
        "        cur_y = y[:,i]\n",
        "        n = len(X)\n",
        "        print(f\"exponentiating kernel matrix ...\")\n",
        "        exp_term = - self.lr * compute_exp_term(- self.lr * Theta_0, self.device)\n",
        "        del Theta_0\n",
        "        right_vector = torch.mv(exp_term, (f0 - cur_y).double())\n",
        "      \n",
        "      for l in range(0, n, self.step):\n",
        "        r = min(l + self.step, n)\n",
        "        grads = self.grads_logit(X[l:r], i).double()\n",
        "        cur_w = torch.mv(grads.T.double(), right_vector[l:r]).detach()\n",
        "        w = cur_w if (w is None) else (w + cur_w)\n",
        "      ws.append(w)\n",
        "    self.ws = torch.stack(ws)\n",
        "  \n",
        "  def predict(self, X):\n",
        "    if self.ws is None:\n",
        "      return self.model.forward(X)\n",
        "    \n",
        "    def predict_one(x):\n",
        "      with torch.no_grad():\n",
        "        f0 = self.model.forward(x)[0]\n",
        "      return f0.double() + (self.grads_x(x).double() * self.ws).sum(dim=1)\n",
        "    return torch.stack([predict_one(x) for x in X])\n",
        "\n",
        "print(\"fitting the model ...\")\n",
        "estimator = Estimator(model, device, learning_rate=1e5)\n",
        "estimator.fit(X, y)\n",
        "\n",
        "print(estimator.predict(X).size())\n",
        "((estimator.predict(X) - y) ** 2).mean()"
      ],
      "execution_count": 9,
      "outputs": [
        {
          "output_type": "stream",
          "text": [
            "fitting the model ...\n",
            "computing grads 0/10 ...\n",
            "exponentiating kernel matrix ...\n",
            "computing grads 1/10 ...\n",
            "exponentiating kernel matrix ...\n",
            "computing grads 2/10 ...\n",
            "exponentiating kernel matrix ...\n",
            "computing grads 3/10 ...\n",
            "exponentiating kernel matrix ...\n",
            "computing grads 4/10 ...\n",
            "exponentiating kernel matrix ...\n",
            "computing grads 5/10 ...\n",
            "exponentiating kernel matrix ...\n",
            "computing grads 6/10 ...\n",
            "exponentiating kernel matrix ...\n",
            "computing grads 7/10 ...\n",
            "exponentiating kernel matrix ...\n",
            "computing grads 8/10 ...\n",
            "exponentiating kernel matrix ...\n",
            "computing grads 9/10 ...\n",
            "exponentiating kernel matrix ...\n",
            "torch.Size([10000, 10])\n"
          ],
          "name": "stdout"
        },
        {
          "output_type": "execute_result",
          "data": {
            "text/plain": [
              "tensor(2.5947e-06, device='cuda:0', dtype=torch.float64)"
            ]
          },
          "metadata": {
            "tags": []
          },
          "execution_count": 9
        }
      ]
    },
    {
      "cell_type": "markdown",
      "metadata": {
        "id": "rggnCTOa69M4",
        "colab_type": "text"
      },
      "source": [
        "## Accuracy"
      ]
    },
    {
      "cell_type": "code",
      "metadata": {
        "id": "XV72Wx11Oc14",
        "colab_type": "code",
        "outputId": "9262fec4-5971-48d6-c165-99065360509b",
        "colab": {
          "base_uri": "https://localhost:8080/",
          "height": 35
        }
      },
      "source": [
        "_, (X, y) = next(enumerate(train_loader))\n",
        "X = X.to(device)\n",
        "y_one_hot = torch.eye(n_classes)[y] * 2 - 1\n",
        "y = y_one_hot.to(device)\n",
        "\n",
        "(torch.argmax(estimator.predict(X), dim=1) == torch.argmax(y, dim=1)).double().mean()"
      ],
      "execution_count": 12,
      "outputs": [
        {
          "output_type": "execute_result",
          "data": {
            "text/plain": [
              "tensor(0.8729, device='cuda:0', dtype=torch.float64)"
            ]
          },
          "metadata": {
            "tags": []
          },
          "execution_count": 12
        }
      ]
    }
  ]
}