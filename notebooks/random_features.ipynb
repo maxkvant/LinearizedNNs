{
 "cells": [
  {
   "cell_type": "markdown",
   "metadata": {},
   "source": [
    "## Download repo"
   ]
  },
  {
   "cell_type": "code",
   "execution_count": 1,
   "metadata": {},
   "outputs": [],
   "source": [
    "import os\n",
    "import shutil\n",
    "import zipfile\n",
    "import urllib.request\n",
    "\n",
    "def download_repo(url, save_to):\n",
    "    zip_filename = save_to + '.zip'\n",
    "    urllib.request.urlretrieve(url, zip_filename)\n",
    "    \n",
    "    if os.path.exists(save_to):\n",
    "        shutil.rmtree(save_to)\n",
    "    with zipfile.ZipFile(zip_filename, 'r') as zip_ref:\n",
    "        zip_ref.extractall('.')\n",
    "    del zip_ref\n",
    "    assert os.path.exists(save_to)"
   ]
  },
  {
   "cell_type": "code",
   "execution_count": 2,
   "metadata": {},
   "outputs": [],
   "source": [
    "REPO_PATH = 'LinearizedNNs-master'\n",
    "\n",
    "# download_repo(url='https://github.com/maxkvant/LinearizedNNs/archive/master.zip', save_to=REPO_PATH)"
   ]
  },
  {
   "cell_type": "markdown",
   "metadata": {},
   "source": [
    "## Imports"
   ]
  },
  {
   "cell_type": "code",
   "execution_count": 3,
   "metadata": {},
   "outputs": [],
   "source": [
    "import sys\n",
    "sys.path.append(f\"{REPO_PATH}/src\")"
   ]
  },
  {
   "cell_type": "code",
   "execution_count": 4,
   "metadata": {},
   "outputs": [],
   "source": [
    "import time\n",
    "import numpy as np\n",
    "import seaborn as sns\n",
    "from PIL import Image\n",
    "import matplotlib.pyplot as plt\n",
    "\n",
    "import torch\n",
    "import torch.nn as nn\n",
    "import torch.nn.functional as F\n",
    "from torchvision import transforms, datasets\n",
    "from torchvision.datasets import FashionMNIST\n",
    "\n",
    "from estimator import Estimator\n",
    "from pytorch_impl.estimators import SgdEstimator\n",
    "from pytorch_impl.nns import Myrtle5, Myrtle7, Myrtle10\n",
    "from pytorch_impl import ClassifierTraining\n",
    "from pytorch_impl.matrix_exp import matrix_exp, compute_exp_term\n",
    "from pytorch_impl.nns.utils import to_one_hot, print_sizes\n",
    "from from_neural_kernels import to_zca, CustomTensorDataset, get_cifar_zca"
   ]
  },
  {
   "cell_type": "code",
   "execution_count": 5,
   "metadata": {},
   "outputs": [
    {
     "data": {
      "text/plain": [
       "device(type='cuda', index=0)"
      ]
     },
     "execution_count": 5,
     "metadata": {},
     "output_type": "execute_result"
    }
   ],
   "source": [
    "device = torch.device('cuda:0') if (torch.cuda.is_available()) else torch.device('cpu')\n",
    "device"
   ]
  },
  {
   "cell_type": "markdown",
   "metadata": {},
   "source": [
    "## Cifar 10"
   ]
  },
  {
   "cell_type": "code",
   "execution_count": 6,
   "metadata": {},
   "outputs": [],
   "source": [
    "class GpEstimator(Estimator):\n",
    "    def __init__(self, models, n_classes, learning_rate, x_example, device):\n",
    "        super(GpEstimator, self).__init__()\n",
    "        self.models    = models\n",
    "        self.lr        = learning_rate\n",
    "        self.n_classes = n_classes\n",
    "        self.device    = device\n",
    "        \n",
    "        n = len(models)\n",
    "        X = torch.stack([x_example]).to(device)\n",
    "        \n",
    "        model = models[0].to(device)\n",
    "        readout_size = model.readout(X).size()[1]\n",
    "    \n",
    "        # TODO: Assert that models have the same readout size\n",
    "        \n",
    "        self.w      = torch.zeros([n, readout_size, n_classes]).to(device)\n",
    "        self.w_size = n * readout_size \n",
    "        \n",
    "    def get_w_update(self, X, right_vector):\n",
    "        with torch.no_grad():\n",
    "            assert len(X) == len(right_vector)\n",
    "\n",
    "            X            = X.to(self.device)\n",
    "            right_vector = right_vector.to(self.device)\n",
    "\n",
    "            n = len(X)\n",
    "            w_updates = []\n",
    "            \n",
    "            for model in models:\n",
    "                features = self.to_model_features(X, model)\n",
    "                update = torch.matmul(features.T, right_vector)\n",
    "                w_updates.append(update)\n",
    "            return torch.stack(w_updates)\n",
    "                                  \n",
    "    def to_model_features(self, X, model):\n",
    "        with torch.no_grad():\n",
    "            model = model.to(device)\n",
    "            return model.readout(X) * (1. / np.sqrt(self.w_size))\n",
    "        \n",
    "    def calc_kernel(self, X):\n",
    "        with torch.no_grad():\n",
    "            X = X.to(device)\n",
    "            \n",
    "            res = torch.zeros([len(X), len(X)]).to(device)\n",
    "            for model in models:\n",
    "                features_x = self.to_model_features(X, model)\n",
    "                \n",
    "                res += torch.matmul(features_x, features_x.T)\n",
    "            return res\n",
    "        \n",
    "    def calc_kernels(self, X_train, X_test):\n",
    "        with torch.no_grad():\n",
    "            X_train = X_train.to(device)\n",
    "            X_test  = X_test.to(device)\n",
    "            \n",
    "            res_train = torch.zeros([len(X_train), len(X_train)]).to(device)\n",
    "            res_test  = torch.zeros([len(X_test),  len(X_train)]).to(device)\n",
    "            for model in models:\n",
    "                features_train = self.to_model_features(X_train, model)\n",
    "                features_test  = self.to_model_features(X_test,  model)\n",
    "                \n",
    "                res_train += torch.matmul(features_train, features_train.T)\n",
    "                res_test  += torch.matmul(features_test,  features_train.T)\n",
    "            return res_train, res_test\n",
    "            \n",
    "    def predict(self, X):\n",
    "        X = X.to(self.device)\n",
    "        with torch.no_grad():\n",
    "            n = len(X)\n",
    "            res = torch.zeros([n, self.n_classes]).to(device)\n",
    "\n",
    "            for model, w in zip(models, self.w):\n",
    "                features = self.to_model_features(X, model)\n",
    "                res += torch.matmul(features, w)\n",
    "            return res"
   ]
  },
  {
   "cell_type": "code",
   "execution_count": 7,
   "metadata": {},
   "outputs": [],
   "source": [
    "def calc_right_vector(kernel, y, learning_rate=1e5, reg_param=0):\n",
    "    with torch.no_grad():\n",
    "        y      = y.to(device)\n",
    "        kernel = kernel.to(device)\n",
    "        \n",
    "        n      = len(kernel)\n",
    "        reg = torch.eye(n).to(device) * reg_param\n",
    "        \n",
    "        exp_term = - learning_rate * compute_exp_term(- learning_rate * (kernel + reg), device)\n",
    "        right_vector = torch.matmul(exp_term, - y)\n",
    "        return right_vector"
   ]
  },
  {
   "cell_type": "code",
   "execution_count": 8,
   "metadata": {},
   "outputs": [
    {
     "name": "stdout",
     "output_type": "stream",
     "text": [
      "Files already downloaded and verified\n",
      "Files already downloaded and verified\n",
      "CPU times: user 3min 56s, sys: 1min 11s, total: 5min 7s\n",
      "Wall time: 1min 17s\n"
     ]
    }
   ],
   "source": [
    "%%time\n",
    "\n",
    "X_train, labels_train, X_test, labels_test = get_cifar_zca()\n",
    "\n",
    "N_train = 12800\n",
    "N_test  = 1000\n",
    "\n",
    "X_train      = torch.tensor(X_train[:N_train]).float()\n",
    "labels_train = torch.tensor(labels_train[:N_train], dtype=torch.long)\n",
    "\n",
    "X_test       = torch.tensor(X_test[:N_test]).float()\n",
    "labels_test  = torch.tensor(labels_test[:N_test],  dtype=torch.long)\n",
    "\n",
    "num_classes = 10\n",
    "\n",
    "y_train = to_one_hot(labels_train, num_classes).to(device)\n",
    "y_test  = to_one_hot(labels_test,  num_classes).to(device)"
   ]
  },
  {
   "cell_type": "code",
   "execution_count": 9,
   "metadata": {},
   "outputs": [
    {
     "name": "stderr",
     "output_type": "stream",
     "text": [
      "/home/maxkvant/.local/lib/python3.6/site-packages/ipykernel_launcher.py:1: UserWarning: To copy construct from a tensor, it is recommended to use sourceTensor.clone().detach() or sourceTensor.clone().detach().requires_grad_(True), rather than torch.tensor(sourceTensor).\n",
      "  \"\"\"Entry point for launching an IPython kernel.\n"
     ]
    }
   ],
   "source": [
    "cifar_train = CustomTensorDataset(torch.tensor(X_train), torch.tensor(labels_train, dtype=torch.long), transform='all')\n",
    "train_loader = torch.utils.data.DataLoader(cifar_train, batch_size=1280)"
   ]
  },
  {
   "cell_type": "markdown",
   "metadata": {},
   "source": [
    "## Kernel method"
   ]
  },
  {
   "cell_type": "code",
   "execution_count": 24,
   "metadata": {},
   "outputs": [],
   "source": [
    "def boosting(estimator, train_loader, X_test, labels_test, learning_rate=1e5, n_iter=10):\n",
    "    with torch.no_grad():\n",
    "        batches_num = 0\n",
    "        for _ in enumerate(train_loader):\n",
    "            batches_num += 1\n",
    "        n_batches = (batches_num * 2) // 3 + 1\n",
    "        \n",
    "        for iter_num  in range(n_iter):\n",
    "            print(f\"iter {iter_num} ==========================\")\n",
    "            \n",
    "            betas = []\n",
    "            w_update = 0\n",
    "            iter_start = time.time()\n",
    "            \n",
    "            for batch_i, (X, labels) in enumerate(train_loader):\n",
    "                \n",
    "                \n",
    "                if batch_i >= n_batches:\n",
    "                    break\n",
    "                \n",
    "                X = X.to(device)\n",
    "                labels = labels.to(device)\n",
    "                \n",
    "                y_pred = estimator.predict(X)\n",
    "                y_residual = y_pred - to_one_hot(labels, num_classes).to(device)\n",
    "                \n",
    "                train_acc = (y_pred.argmax(dim=1) == labels).float().mean().item()\n",
    "                train_mse = (y_residual ** 2).mean().item()\n",
    "                print(f\"batch {batch_i}: train_acc {train_acc:.4f}, train_mse {train_mse:.6f}\")\n",
    "                \n",
    "                kernel = estimator.calc_kernel(X)\n",
    "                right_vector = calc_right_vector(kernel, y_residual, learning_rate=learning_rate)\n",
    "                \n",
    "                cur_w_update = estimator.get_w_update(X, right_vector)\n",
    "                \n",
    "                pred_change = torch.matmul(kernel, right_vector)\n",
    "                cur_beta    = (- y_residual * pred_change).sum() / (pred_change ** 2).sum()\n",
    "                \n",
    "                w_update += cur_w_update\n",
    "                betas.append(cur_beta.item())\n",
    "                \n",
    "            beta = np.average(betas)\n",
    "            estimator.w += w_update * beta / n_batches\n",
    "            \n",
    "            y_pred = estimator.predict(X_test) \n",
    "            test_acc = (y_pred.argmax(dim=1) == labels_test.to(device)).float().mean().item()\n",
    "            \n",
    "            print(f\"iter {iter_num} done. took {time.time() - iter_start:.0f}s test_acc {test_acc:.4f}\")\n",
    "            print()"
   ]
  },
  {
   "cell_type": "code",
   "execution_count": 27,
   "metadata": {},
   "outputs": [],
   "source": [
    "n_models = 500\n",
    "\n",
    "models = [Myrtle5(num_filters=32) for _ in range(n_models)]\n",
    "\n",
    "estimator = GpEstimator(models, num_classes, 0.2, X_train[0], device)"
   ]
  },
  {
   "cell_type": "code",
   "execution_count": 28,
   "metadata": {},
   "outputs": [
    {
     "name": "stdout",
     "output_type": "stream",
     "text": [
      "iter 0 ==========================\n",
      "batch 0: train_acc 0.0992, train_mse 1.000000\n",
      "batch 1: train_acc 0.1023, train_mse 1.000000\n",
      "batch 2: train_acc 0.0867, train_mse 1.000000\n",
      "batch 3: train_acc 0.1023, train_mse 1.000000\n",
      "batch 4: train_acc 0.1063, train_mse 1.000000\n",
      "batch 5: train_acc 0.1055, train_mse 1.000000\n",
      "batch 6: train_acc 0.1086, train_mse 1.000000\n",
      "iter 0 done. test_acc 0.6270\n",
      "iter 1 ==========================\n",
      "batch 0: train_acc 0.6641, train_mse 0.236879\n",
      "batch 1: train_acc 0.6781, train_mse 0.232759\n",
      "batch 2: train_acc 0.6633, train_mse 0.235364\n",
      "batch 3: train_acc 0.6742, train_mse 0.238629\n",
      "batch 4: train_acc 0.6727, train_mse 0.239018\n",
      "batch 5: train_acc 0.6391, train_mse 0.240357\n",
      "batch 6: train_acc 0.6336, train_mse 0.244689\n",
      "iter 1 done. test_acc 0.6670\n",
      "iter 2 ==========================\n",
      "batch 0: train_acc 0.7023, train_mse 0.224735\n",
      "batch 1: train_acc 0.6992, train_mse 0.223519\n",
      "batch 2: train_acc 0.7047, train_mse 0.221432\n",
      "batch 3: train_acc 0.7070, train_mse 0.227155\n",
      "batch 4: train_acc 0.6852, train_mse 0.226337\n",
      "batch 5: train_acc 0.7070, train_mse 0.220568\n",
      "batch 6: train_acc 0.6734, train_mse 0.227978\n",
      "iter 2 done. test_acc 0.6720\n",
      "iter 3 ==========================\n",
      "batch 0: train_acc 0.7461, train_mse 0.212989\n",
      "batch 1: train_acc 0.7422, train_mse 0.213101\n",
      "batch 2: train_acc 0.7250, train_mse 0.217399\n",
      "batch 3: train_acc 0.7188, train_mse 0.222071\n",
      "batch 4: train_acc 0.7195, train_mse 0.217007\n",
      "batch 5: train_acc 0.7281, train_mse 0.216654\n",
      "batch 6: train_acc 0.7133, train_mse 0.220187\n",
      "iter 3 done. test_acc 0.6910\n",
      "iter 4 ==========================\n",
      "batch 0: train_acc 0.7375, train_mse 0.210872\n",
      "batch 1: train_acc 0.7438, train_mse 0.212597\n",
      "batch 2: train_acc 0.7383, train_mse 0.212608\n",
      "batch 3: train_acc 0.7336, train_mse 0.216295\n",
      "batch 4: train_acc 0.7359, train_mse 0.214539\n",
      "batch 5: train_acc 0.7391, train_mse 0.213055\n",
      "batch 6: train_acc 0.7289, train_mse 0.215514\n",
      "iter 4 done. test_acc 0.6950\n",
      "iter 5 ==========================\n",
      "batch 0: train_acc 0.7375, train_mse 0.209996\n",
      "batch 1: train_acc 0.7711, train_mse 0.205087\n",
      "batch 2: train_acc 0.7609, train_mse 0.209265\n",
      "batch 3: train_acc 0.7273, train_mse 0.214084\n",
      "batch 4: train_acc 0.7469, train_mse 0.212567\n",
      "batch 5: train_acc 0.7445, train_mse 0.209964\n",
      "batch 6: train_acc 0.7555, train_mse 0.210051\n",
      "iter 5 done. test_acc 0.6990\n",
      "iter 6 ==========================\n",
      "batch 0: train_acc 0.7680, train_mse 0.202205\n",
      "batch 1: train_acc 0.7773, train_mse 0.204570\n",
      "batch 2: train_acc 0.7680, train_mse 0.205044\n",
      "batch 3: train_acc 0.7398, train_mse 0.213118\n",
      "batch 4: train_acc 0.7742, train_mse 0.203667\n",
      "batch 5: train_acc 0.7641, train_mse 0.205446\n",
      "batch 6: train_acc 0.7781, train_mse 0.206313\n",
      "iter 6 done. test_acc 0.6980\n",
      "iter 7 ==========================\n",
      "batch 0: train_acc 0.7641, train_mse 0.205270\n",
      "batch 1: train_acc 0.7688, train_mse 0.202749\n",
      "batch 2: train_acc 0.7523, train_mse 0.204461\n",
      "batch 3: train_acc 0.7680, train_mse 0.206759\n",
      "batch 4: train_acc 0.7734, train_mse 0.201851\n",
      "batch 5: train_acc 0.7602, train_mse 0.202013\n",
      "batch 6: train_acc 0.7563, train_mse 0.206305\n",
      "iter 7 done. test_acc 0.7080\n",
      "iter 8 ==========================\n",
      "batch 0: train_acc 0.7719, train_mse 0.200851\n",
      "batch 1: train_acc 0.7617, train_mse 0.202112\n",
      "batch 2: train_acc 0.7844, train_mse 0.200929\n",
      "batch 3: train_acc 0.7812, train_mse 0.203469\n",
      "batch 4: train_acc 0.7805, train_mse 0.200424\n",
      "batch 5: train_acc 0.7617, train_mse 0.203462\n",
      "batch 6: train_acc 0.7531, train_mse 0.203918\n",
      "iter 8 done. test_acc 0.6930\n",
      "iter 9 ==========================\n",
      "batch 0: train_acc 0.7758, train_mse 0.200924\n",
      "batch 1: train_acc 0.7953, train_mse 0.199968\n",
      "batch 2: train_acc 0.8008, train_mse 0.196406\n",
      "batch 3: train_acc 0.7734, train_mse 0.206802\n",
      "batch 4: train_acc 0.7797, train_mse 0.199629\n",
      "batch 5: train_acc 0.7750, train_mse 0.201759\n",
      "batch 6: train_acc 0.7688, train_mse 0.201578\n",
      "iter 9 done. test_acc 0.6990\n"
     ]
    }
   ],
   "source": [
    "boosting(estimator, train_loader, X_test, labels_test)"
   ]
  },
  {
   "cell_type": "code",
   "execution_count": 29,
   "metadata": {},
   "outputs": [],
   "source": [
    "n_models = 5000\n",
    "\n",
    "models = [Myrtle5(num_filters=32) for _ in range(n_models)]\n",
    "\n",
    "estimator = GpEstimator(models, num_classes, 0.2, X_train[0], device)"
   ]
  },
  {
   "cell_type": "code",
   "execution_count": null,
   "metadata": {},
   "outputs": [
    {
     "name": "stdout",
     "output_type": "stream",
     "text": [
      "iter 0 ==========================\n",
      "batch 0: train_acc 0.0992, train_mse 1.000000\n",
      "batch 1: train_acc 0.1023, train_mse 1.000000\n",
      "batch 2: train_acc 0.0867, train_mse 1.000000\n",
      "batch 3: train_acc 0.1023, train_mse 1.000000\n",
      "batch 4: train_acc 0.1063, train_mse 1.000000\n",
      "batch 5: train_acc 0.1055, train_mse 1.000000\n",
      "batch 6: train_acc 0.1086, train_mse 1.000000\n",
      "iter 0 done. test_acc 0.6610\n",
      "iter 1 ==========================\n",
      "batch 0: train_acc 0.6898, train_mse 0.228092\n",
      "batch 1: train_acc 0.6898, train_mse 0.229243\n",
      "batch 2: train_acc 0.6852, train_mse 0.231006\n",
      "batch 3: train_acc 0.6664, train_mse 0.232013\n",
      "batch 4: train_acc 0.6750, train_mse 0.231813\n",
      "batch 5: train_acc 0.6703, train_mse 0.232756\n",
      "batch 6: train_acc 0.6609, train_mse 0.234007\n",
      "iter 1 done. test_acc 0.6930\n",
      "iter 2 ==========================\n",
      "batch 0: train_acc 0.7344, train_mse 0.212709\n",
      "batch 1: train_acc 0.7438, train_mse 0.211246\n",
      "batch 2: train_acc 0.7203, train_mse 0.213644\n",
      "batch 3: train_acc 0.7297, train_mse 0.215032\n",
      "batch 4: train_acc 0.7312, train_mse 0.209461\n",
      "batch 5: train_acc 0.7203, train_mse 0.212636\n",
      "batch 6: train_acc 0.7258, train_mse 0.214520\n",
      "iter 2 done. test_acc 0.7080\n",
      "iter 3 ==========================\n",
      "batch 0: train_acc 0.7688, train_mse 0.199916\n",
      "batch 1: train_acc 0.7766, train_mse 0.197256\n",
      "batch 2: train_acc 0.7688, train_mse 0.199618\n",
      "batch 3: train_acc 0.7594, train_mse 0.201165\n",
      "batch 4: train_acc 0.7508, train_mse 0.201875\n",
      "batch 5: train_acc 0.7445, train_mse 0.202120\n",
      "batch 6: train_acc 0.7547, train_mse 0.201036\n",
      "iter 3 done. test_acc 0.7090\n",
      "iter 4 ==========================\n",
      "batch 0: train_acc 0.8078, train_mse 0.189755\n",
      "batch 1: train_acc 0.7797, train_mse 0.193103\n",
      "batch 2: train_acc 0.7844, train_mse 0.194073\n",
      "batch 3: train_acc 0.7719, train_mse 0.195219\n",
      "batch 4: train_acc 0.7758, train_mse 0.193895\n",
      "batch 5: train_acc 0.7844, train_mse 0.191668\n",
      "batch 6: train_acc 0.7695, train_mse 0.194899\n",
      "iter 4 done. test_acc 0.7240\n",
      "iter 5 ==========================\n",
      "batch 0: train_acc 0.8063, train_mse 0.182190\n",
      "batch 1: train_acc 0.8055, train_mse 0.182030\n",
      "batch 2: train_acc 0.8211, train_mse 0.180914\n",
      "batch 3: train_acc 0.8000, train_mse 0.188087\n",
      "batch 4: train_acc 0.7836, train_mse 0.184472\n",
      "batch 5: train_acc 0.7820, train_mse 0.187855\n",
      "batch 6: train_acc 0.7812, train_mse 0.189223\n",
      "iter 5 done. test_acc 0.7290\n",
      "iter 6 ==========================\n",
      "batch 0: train_acc 0.8180, train_mse 0.177095\n",
      "batch 1: train_acc 0.8258, train_mse 0.176912\n",
      "batch 2: train_acc 0.8273, train_mse 0.178322\n",
      "batch 3: train_acc 0.8117, train_mse 0.179879\n",
      "batch 4: train_acc 0.8141, train_mse 0.179542\n",
      "batch 5: train_acc 0.8117, train_mse 0.178235\n",
      "batch 6: train_acc 0.8039, train_mse 0.181385\n",
      "iter 6 done. test_acc 0.7320\n",
      "iter 7 ==========================\n",
      "batch 0: train_acc 0.8258, train_mse 0.174508\n",
      "batch 1: train_acc 0.8367, train_mse 0.173688\n",
      "batch 2: train_acc 0.8352, train_mse 0.172211\n",
      "batch 3: train_acc 0.8375, train_mse 0.177413\n",
      "batch 4: train_acc 0.8070, train_mse 0.176903\n",
      "batch 5: train_acc 0.8188, train_mse 0.175442\n",
      "batch 6: train_acc 0.8273, train_mse 0.177043\n",
      "iter 7 done. test_acc 0.7330\n",
      "iter 8 ==========================\n",
      "batch 0: train_acc 0.8500, train_mse 0.167686\n",
      "batch 1: train_acc 0.8469, train_mse 0.171867\n",
      "batch 2: train_acc 0.8461, train_mse 0.169275\n",
      "batch 3: train_acc 0.8461, train_mse 0.170154\n",
      "batch 4: train_acc 0.8352, train_mse 0.169808\n",
      "batch 5: train_acc 0.8203, train_mse 0.173348\n",
      "batch 6: train_acc 0.8211, train_mse 0.173705\n",
      "iter 8 done. test_acc 0.7430\n",
      "iter 9 ==========================\n",
      "batch 0: train_acc 0.8656, train_mse 0.164371\n",
      "batch 1: train_acc 0.8375, train_mse 0.166409\n",
      "batch 2: train_acc 0.8562, train_mse 0.163375\n",
      "batch 3: train_acc 0.8484, train_mse 0.170163\n",
      "batch 4: train_acc 0.8445, train_mse 0.167020\n"
     ]
    }
   ],
   "source": [
    "boosting(estimator, train_loader, X_test, labels_test)"
   ]
  },
  {
   "cell_type": "code",
   "execution_count": null,
   "metadata": {},
   "outputs": [],
   "source": [
    "cifar_train = CustomTensorDataset(torch.tensor(X_train), torch.tensor(labels_train, dtype=torch.long), transform=None)"
   ]
  },
  {
   "cell_type": "code",
   "execution_count": null,
   "metadata": {},
   "outputs": [],
   "source": [
    "n_models = 5000\n",
    "\n",
    "models = [Myrtle5(num_filters=32) for _ in range(n_models)]\n",
    "\n",
    "estimator = GpEstimator(models, num_classes, 0.2, X_train[0], device)"
   ]
  },
  {
   "cell_type": "code",
   "execution_count": null,
   "metadata": {},
   "outputs": [],
   "source": [
    "boosting(estimator, train_loader, X_test, labels_test)"
   ]
  },
  {
   "cell_type": "markdown",
   "metadata": {},
   "source": [
    "## Log Reg"
   ]
  },
  {
   "cell_type": "code",
   "execution_count": 32,
   "metadata": {},
   "outputs": [
    {
     "name": "stdout",
     "output_type": "stream",
     "text": [
      "iter 0 ======================= \n",
      "train_acc 0.09921874850988388\n",
      "batch_0 took 57.80506658554077s\n",
      "\n",
      "train_acc 0.09140624850988388\n",
      "batch_1 took 55.33869671821594s\n",
      "\n",
      "train_acc 0.1328125\n",
      "batch_2 took 55.32820272445679s\n",
      "\n",
      "train_acc 0.09296875447034836\n",
      "batch_3 took 55.33759117126465s\n",
      "\n",
      "train_acc 0.09375\n",
      "batch_4 took 55.329872846603394s\n",
      "\n",
      "train_acc 0.1171875\n",
      "batch_5 took 55.33920168876648s\n",
      "\n",
      "train_acc 0.09765625\n",
      "batch_6 took 55.32954454421997s\n",
      "\n",
      "train_acc 0.17734375596046448\n",
      "batch_7 took 55.33659553527832s\n",
      "\n",
      "train_acc 0.09375\n",
      "batch_8 took 55.32691836357117s\n",
      "\n",
      "train_acc 0.17499999701976776\n",
      "batch_9 took 55.34224081039429s\n",
      "\n",
      "iter 0 done, test_acc = 0.1120000034570694\n",
      "iter 1 ======================= \n",
      "train_acc 0.11015625298023224\n",
      "batch_0 took 55.32840847969055s\n",
      "\n"
     ]
    },
    {
     "ename": "KeyboardInterrupt",
     "evalue": "",
     "output_type": "error",
     "traceback": [
      "\u001b[0;31m---------------------------------------------------------------------------\u001b[0m",
      "\u001b[0;31mKeyboardInterrupt\u001b[0m                         Traceback (most recent call last)",
      "\u001b[0;32m<ipython-input-32-9519a5e3e32e>\u001b[0m in \u001b[0;36m<module>\u001b[0;34m\u001b[0m\n\u001b[1;32m     17\u001b[0m         \u001b[0mlabels\u001b[0m \u001b[0;34m=\u001b[0m \u001b[0mlabels\u001b[0m\u001b[0;34m.\u001b[0m\u001b[0mto\u001b[0m\u001b[0;34m(\u001b[0m\u001b[0mdevice\u001b[0m\u001b[0;34m)\u001b[0m\u001b[0;34m\u001b[0m\u001b[0;34m\u001b[0m\u001b[0m\n\u001b[1;32m     18\u001b[0m \u001b[0;34m\u001b[0m\u001b[0m\n\u001b[0;32m---> 19\u001b[0;31m         \u001b[0my_pred\u001b[0m \u001b[0;34m=\u001b[0m \u001b[0mestimator\u001b[0m\u001b[0;34m.\u001b[0m\u001b[0mpredict\u001b[0m\u001b[0;34m(\u001b[0m\u001b[0mX\u001b[0m\u001b[0;34m)\u001b[0m\u001b[0;34m\u001b[0m\u001b[0;34m\u001b[0m\u001b[0m\n\u001b[0m\u001b[1;32m     20\u001b[0m         \u001b[0mtrain_acc\u001b[0m \u001b[0;34m=\u001b[0m \u001b[0;34m(\u001b[0m\u001b[0my_pred\u001b[0m\u001b[0;34m.\u001b[0m\u001b[0margmax\u001b[0m\u001b[0;34m(\u001b[0m\u001b[0mdim\u001b[0m\u001b[0;34m=\u001b[0m\u001b[0;36m1\u001b[0m\u001b[0;34m)\u001b[0m \u001b[0;34m==\u001b[0m \u001b[0mlabels\u001b[0m\u001b[0;34m)\u001b[0m\u001b[0;34m.\u001b[0m\u001b[0mfloat\u001b[0m\u001b[0;34m(\u001b[0m\u001b[0;34m)\u001b[0m\u001b[0;34m.\u001b[0m\u001b[0mmean\u001b[0m\u001b[0;34m(\u001b[0m\u001b[0;34m)\u001b[0m\u001b[0;34m.\u001b[0m\u001b[0mitem\u001b[0m\u001b[0;34m(\u001b[0m\u001b[0;34m)\u001b[0m\u001b[0;34m\u001b[0m\u001b[0;34m\u001b[0m\u001b[0m\n\u001b[1;32m     21\u001b[0m         \u001b[0mprint\u001b[0m\u001b[0;34m(\u001b[0m\u001b[0;34mf\"train_acc {train_acc}\"\u001b[0m\u001b[0;34m)\u001b[0m\u001b[0;34m\u001b[0m\u001b[0;34m\u001b[0m\u001b[0m\n",
      "\u001b[0;32m<ipython-input-17-3e9447a2e52e>\u001b[0m in \u001b[0;36mpredict\u001b[0;34m(self, X)\u001b[0m\n\u001b[1;32m     72\u001b[0m \u001b[0;34m\u001b[0m\u001b[0m\n\u001b[1;32m     73\u001b[0m             \u001b[0;32mfor\u001b[0m \u001b[0mmodel\u001b[0m\u001b[0;34m,\u001b[0m \u001b[0mw\u001b[0m \u001b[0;32min\u001b[0m \u001b[0mzip\u001b[0m\u001b[0;34m(\u001b[0m\u001b[0mmodels\u001b[0m\u001b[0;34m,\u001b[0m \u001b[0mself\u001b[0m\u001b[0;34m.\u001b[0m\u001b[0mw\u001b[0m\u001b[0;34m)\u001b[0m\u001b[0;34m:\u001b[0m\u001b[0;34m\u001b[0m\u001b[0;34m\u001b[0m\u001b[0m\n\u001b[0;32m---> 74\u001b[0;31m                 \u001b[0mfeatures\u001b[0m \u001b[0;34m=\u001b[0m \u001b[0mself\u001b[0m\u001b[0;34m.\u001b[0m\u001b[0mto_model_features\u001b[0m\u001b[0;34m(\u001b[0m\u001b[0mX\u001b[0m\u001b[0;34m,\u001b[0m \u001b[0mmodel\u001b[0m\u001b[0;34m)\u001b[0m\u001b[0;34m\u001b[0m\u001b[0;34m\u001b[0m\u001b[0m\n\u001b[0m\u001b[1;32m     75\u001b[0m                 \u001b[0mres\u001b[0m \u001b[0;34m+=\u001b[0m \u001b[0mtorch\u001b[0m\u001b[0;34m.\u001b[0m\u001b[0mmatmul\u001b[0m\u001b[0;34m(\u001b[0m\u001b[0mfeatures\u001b[0m\u001b[0;34m,\u001b[0m \u001b[0mw\u001b[0m\u001b[0;34m)\u001b[0m\u001b[0;34m\u001b[0m\u001b[0;34m\u001b[0m\u001b[0m\n\u001b[1;32m     76\u001b[0m             \u001b[0;32mreturn\u001b[0m \u001b[0mres\u001b[0m\u001b[0;34m\u001b[0m\u001b[0;34m\u001b[0m\u001b[0m\n",
      "\u001b[0;32m<ipython-input-17-3e9447a2e52e>\u001b[0m in \u001b[0;36mto_model_features\u001b[0;34m(self, X, model)\u001b[0m\n\u001b[1;32m     37\u001b[0m         \u001b[0;32mwith\u001b[0m \u001b[0mtorch\u001b[0m\u001b[0;34m.\u001b[0m\u001b[0mno_grad\u001b[0m\u001b[0;34m(\u001b[0m\u001b[0;34m)\u001b[0m\u001b[0;34m:\u001b[0m\u001b[0;34m\u001b[0m\u001b[0;34m\u001b[0m\u001b[0m\n\u001b[1;32m     38\u001b[0m             \u001b[0mmodel\u001b[0m \u001b[0;34m=\u001b[0m \u001b[0mmodel\u001b[0m\u001b[0;34m.\u001b[0m\u001b[0mto\u001b[0m\u001b[0;34m(\u001b[0m\u001b[0mdevice\u001b[0m\u001b[0;34m)\u001b[0m\u001b[0;34m\u001b[0m\u001b[0;34m\u001b[0m\u001b[0m\n\u001b[0;32m---> 39\u001b[0;31m             \u001b[0;32mreturn\u001b[0m \u001b[0mmodel\u001b[0m\u001b[0;34m.\u001b[0m\u001b[0mreadout\u001b[0m\u001b[0;34m(\u001b[0m\u001b[0mX\u001b[0m\u001b[0;34m)\u001b[0m \u001b[0;34m*\u001b[0m \u001b[0;34m(\u001b[0m\u001b[0;36m1.\u001b[0m \u001b[0;34m/\u001b[0m \u001b[0mnp\u001b[0m\u001b[0;34m.\u001b[0m\u001b[0msqrt\u001b[0m\u001b[0;34m(\u001b[0m\u001b[0mself\u001b[0m\u001b[0;34m.\u001b[0m\u001b[0mw_size\u001b[0m\u001b[0;34m)\u001b[0m\u001b[0;34m)\u001b[0m\u001b[0;34m\u001b[0m\u001b[0;34m\u001b[0m\u001b[0m\n\u001b[0m\u001b[1;32m     40\u001b[0m \u001b[0;34m\u001b[0m\u001b[0m\n\u001b[1;32m     41\u001b[0m     \u001b[0;32mdef\u001b[0m \u001b[0mcalc_kernel\u001b[0m\u001b[0;34m(\u001b[0m\u001b[0mself\u001b[0m\u001b[0;34m,\u001b[0m \u001b[0mX\u001b[0m\u001b[0;34m)\u001b[0m\u001b[0;34m:\u001b[0m\u001b[0;34m\u001b[0m\u001b[0;34m\u001b[0m\u001b[0m\n",
      "\u001b[0;31mKeyboardInterrupt\u001b[0m: "
     ]
    }
   ],
   "source": [
    "n_models = 5000\n",
    "\n",
    "models = [Myrtle5(num_filters=32) for _ in range(n_models)]\n",
    "\n",
    "learning_rate = 0.2\n",
    "estimator = GpEstimator(models, num_classes, learning_rate, X_train[0], device)\n",
    "\n",
    "n_iter = 20\n",
    "\n",
    "for iter_ in range(n_iter):\n",
    "    print(f\"iter {iter_} ======================= \")\n",
    "    \n",
    "    for batch_i, (X, labels) in enumerate(train_loader):\n",
    "        batch_start = time.time()\n",
    "        \n",
    "        X      = X.to(device)\n",
    "        labels = labels.to(device)\n",
    "        \n",
    "        y_pred = estimator.predict(X)\n",
    "        train_acc = (y_pred.argmax(dim=1) == labels).float().mean().item()\n",
    "        print(f\"train_acc {train_acc}\")\n",
    "        \n",
    "        y_pred.requires_grad = True\n",
    "\n",
    "        loss = nn.CrossEntropyLoss()(y_pred, labels)\n",
    "        loss.backward()\n",
    "        grad = y_pred.grad\n",
    "        \n",
    "        estimator.w += -learning_rate * estimator.get_w_update(X, grad)\n",
    "        \n",
    "        print(f\"batch_{batch_i} took {time.time() - batch_start:0}s\")\n",
    "        print()\n",
    "        \n",
    "    y_pred = estimator.predict(X_test)\n",
    "    test_acc = (y_pred.argmax(dim=1) == labels_test.to(device)).float().mean().item()\n",
    "    print(f\"iter {iter_} done, test_acc = {test_acc}\")"
   ]
  },
  {
   "cell_type": "markdown",
   "metadata": {},
   "source": [
    "## Matrix exp"
   ]
  },
  {
   "cell_type": "code",
   "execution_count": null,
   "metadata": {},
   "outputs": [],
   "source": [
    "%%time\n",
    "\n",
    "X_train, labels_train, X_test, labels_test = get_cifar_zca()\n",
    "\n",
    "N = 1280\n",
    "\n",
    "X_train      = torch.tensor(X_train[:N]).float()\n",
    "X_test       = torch.tensor(X_test[:N]).float()\n",
    "labels_train = torch.tensor(labels_train[:N], dtype=torch.long)\n",
    "labels_test  = torch.tensor(labels_test[:N],  dtype=torch.long)\n",
    "\n",
    "num_classes = 10\n",
    "\n",
    "y_train = to_one_hot(labels_train, num_classes).to(device)\n",
    "y_test  = to_one_hot(labels_test,  num_classes).to(device)"
   ]
  },
  {
   "cell_type": "code",
   "execution_count": 9,
   "metadata": {},
   "outputs": [],
   "source": [
    "n_models = 5000\n",
    "\n",
    "models = [Myrtle5(num_filters=32) for _ in range(n_models)]\n",
    "\n",
    "estimator = GpEstimator(models, num_classes, 1e4, X_train[0], device)"
   ]
  },
  {
   "cell_type": "code",
   "execution_count": 10,
   "metadata": {},
   "outputs": [
    {
     "name": "stdout",
     "output_type": "stream",
     "text": [
      "tensor(0.6102)\n",
      "\n",
      "CPU times: user 1min 16s, sys: 25.5 s, total: 1min 42s\n",
      "Wall time: 1min 42s\n"
     ]
    }
   ],
   "source": [
    "%%time\n",
    "train_kernel, test_kernel = estimator.calc_kernels(X_train, X_test)\n",
    "\n",
    "right_vector = calc_right_vector(train_kernel, y_train, learning_rate=1e5, reg_param=0)\n",
    "y_pred = torch.matmul(test_kernel, right_vector).argmax(dim=1)\n",
    "\n",
    "test_acc = (y_pred.cpu() == labels_test).float().mean()\n",
    "print(test_acc)\n",
    "print()"
   ]
  },
  {
   "cell_type": "code",
   "execution_count": 11,
   "metadata": {},
   "outputs": [
    {
     "name": "stdout",
     "output_type": "stream",
     "text": [
      "torch.Size([5000, 32, 10])\n",
      "\n",
      "CPU times: user 34.7 s, sys: 14.7 s, total: 49.4 s\n",
      "Wall time: 49.4 s\n"
     ]
    }
   ],
   "source": [
    "%%time\n",
    "w_update = estimator.get_w_update(X_train, right_vector)\n",
    "\n",
    "print(w_update.size())\n",
    "print()"
   ]
  },
  {
   "cell_type": "code",
   "execution_count": 12,
   "metadata": {},
   "outputs": [],
   "source": [
    "estimator.w = w_update"
   ]
  },
  {
   "cell_type": "code",
   "execution_count": 13,
   "metadata": {},
   "outputs": [
    {
     "name": "stdout",
     "output_type": "stream",
     "text": [
      "tensor(0.6102)\n",
      "\n",
      "CPU times: user 35.2 s, sys: 14.9 s, total: 50.1 s\n",
      "Wall time: 50 s\n"
     ]
    }
   ],
   "source": [
    "%%time\n",
    "\n",
    "y_pred = estimator.predict(X_test).argmax(dim=1)\n",
    "\n",
    "test_acc = (y_pred.cpu() == labels_test).float().mean()\n",
    "print(test_acc)\n",
    "print()"
   ]
  }
 ],
 "metadata": {
  "kernelspec": {
   "display_name": "Python 3",
   "language": "python",
   "name": "python3"
  },
  "language_info": {
   "codemirror_mode": {
    "name": "ipython",
    "version": 3
   },
   "file_extension": ".py",
   "mimetype": "text/x-python",
   "name": "python",
   "nbconvert_exporter": "python",
   "pygments_lexer": "ipython3",
   "version": "3.6.9"
  }
 },
 "nbformat": 4,
 "nbformat_minor": 4
}
