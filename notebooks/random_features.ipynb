{
 "cells": [
  {
   "cell_type": "code",
   "execution_count": 1,
   "metadata": {},
   "outputs": [],
   "source": [
    "import os\n",
    "import shutil\n",
    "import zipfile\n",
    "import urllib.request\n",
    "\n",
    "def download_repo(url, save_to):\n",
    "    zip_filename = save_to + '.zip'\n",
    "    urllib.request.urlretrieve(url, zip_filename)\n",
    "    \n",
    "    if os.path.exists(save_to):\n",
    "        shutil.rmtree(save_to)\n",
    "    with zipfile.ZipFile(zip_filename, 'r') as zip_ref:\n",
    "        zip_ref.extractall('.')\n",
    "    del zip_ref\n",
    "    assert os.path.exists(save_to)"
   ]
  },
  {
   "cell_type": "code",
   "execution_count": 2,
   "metadata": {},
   "outputs": [],
   "source": [
    "REPO_PATH = 'LinearizedNNs-master'\n",
    "\n",
    "# download_repo(url='https://github.com/maxkvant/LinearizedNNs/archive/master.zip', save_to=REPO_PATH)"
   ]
  },
  {
   "cell_type": "code",
   "execution_count": 3,
   "metadata": {},
   "outputs": [],
   "source": [
    "import sys\n",
    "sys.path.append(f\"{REPO_PATH}/src\")"
   ]
  },
  {
   "cell_type": "code",
   "execution_count": 4,
   "metadata": {},
   "outputs": [],
   "source": [
    "import time\n",
    "import numpy as np\n",
    "import seaborn as sns\n",
    "from PIL import Image\n",
    "import matplotlib.pyplot as plt\n",
    "\n",
    "import torch\n",
    "import torch.nn as nn\n",
    "import torch.nn.functional as F\n",
    "from torchvision import transforms, datasets\n",
    "from torchvision.datasets import FashionMNIST\n",
    "\n",
    "from estimator import Estimator\n",
    "from pytorch_impl.estimators import SgdEstimator\n",
    "from pytorch_impl.nns import Myrtle5, Myrtle7, Myrtle10\n",
    "from pytorch_impl import ClassifierTraining\n",
    "from pytorch_impl.matrix_exp import matrix_exp, compute_exp_term\n",
    "from pytorch_impl.nns.utils import to_one_hot, print_sizes\n",
    "from from_neural_kernels import to_zca, CustomTensorDataset, get_cifar_zca"
   ]
  },
  {
   "cell_type": "code",
   "execution_count": 5,
   "metadata": {},
   "outputs": [
    {
     "data": {
      "text/plain": [
       "device(type='cuda', index=0)"
      ]
     },
     "execution_count": 5,
     "metadata": {},
     "output_type": "execute_result"
    }
   ],
   "source": [
    "device = torch.device('cuda:0') if (torch.cuda.is_available()) else torch.device('cpu')\n",
    "device"
   ]
  },
  {
   "cell_type": "code",
   "execution_count": 6,
   "metadata": {},
   "outputs": [
    {
     "data": {
      "text/plain": [
       "['train_kernel',\n",
       " 'test_kernel',\n",
       " 'test_1_kernel',\n",
       " 'labels_train',\n",
       " 'labels_test',\n",
       " 'labels_test_1']"
      ]
     },
     "execution_count": 6,
     "metadata": {},
     "output_type": "execute_result"
    }
   ],
   "source": [
    "kernels_12k = np.load('../data/kernels_12k.npz')\n",
    "list(kernels_12k)"
   ]
  },
  {
   "cell_type": "code",
   "execution_count": 7,
   "metadata": {},
   "outputs": [
    {
     "data": {
      "text/plain": [
       "12800"
      ]
     },
     "execution_count": 7,
     "metadata": {},
     "output_type": "execute_result"
    }
   ],
   "source": [
    "train_kernel = kernels_12k['train_kernel']\n",
    "\n",
    "N = len(train_kernel)\n",
    "N"
   ]
  },
  {
   "cell_type": "code",
   "execution_count": 81,
   "metadata": {},
   "outputs": [],
   "source": [
    "class GpEstimator(Estimator):\n",
    "    def __init__(self, models, n_classes, learning_rate, x_example, device):\n",
    "        super(GpEstimator, self).__init__()\n",
    "        self.models    = models\n",
    "        self.lr        = learning_rate\n",
    "        self.n_classes = n_classes\n",
    "        self.device    = device\n",
    "        \n",
    "        n = len(models)\n",
    "        X = torch.stack([x_example]).to(device)\n",
    "        \n",
    "        model = models[0].to(device)\n",
    "        readout_size = model.readout(X).size()[1]\n",
    "\n",
    "        \n",
    "        self.w      = torch.zeros([n, readout_size, n_classes])\n",
    "        self.w_size = n * readout_size\n",
    "        \n",
    "    def get_w_update(self, X, kernel, y):\n",
    "        with torch.no_grad():\n",
    "            assert len(X) == len(kernel)\n",
    "\n",
    "            X      = X.to(self.device) \n",
    "            y      = y.to(self.device)\n",
    "            kernel = kernel.to(self.device)\n",
    "\n",
    "            n = len(X)\n",
    "            w_updates = []\n",
    "\n",
    "            exp_term = - self.lr * compute_exp_term(- self.lr * kernel, device)\n",
    "            right_vector = torch.matmul(exp_term, - y_train)\n",
    "            \n",
    "            for model in models:\n",
    "                features = self.to_model_features(X, model)\n",
    "                update = torch.matmul(features.T, right_vector)\n",
    "            \n",
    "                w_updates.append(update)\n",
    "            return torch.stack(w_updates)\n",
    "                                  \n",
    "    def to_model_features(self, X, model):\n",
    "        with torch.no_grad():\n",
    "            model = model.to(device)\n",
    "            return model.readout(X) * (1. / np.sqrt(self.w_size))\n",
    "        \n",
    "    def calc_kernel(self, X):\n",
    "        with torch.no_grad():\n",
    "            X = X.to(device)\n",
    "            n = len(X)\n",
    "            res = torch.zeros([n, n]).to(device)\n",
    "            for model in models:\n",
    "                features = self.to_model_features(X, model)\n",
    "                res += torch.matmul(features, features.T)\n",
    "            return res\n",
    "            \n",
    "    def predict(self, X):\n",
    "        X = X.to(self.device)\n",
    "        with torch.no_grad():\n",
    "            n = len(X)\n",
    "            res = torch.zeros([n, self.n_classes]).to(device)\n",
    "\n",
    "            for model, w in zip(models, self.w):\n",
    "                features = self.to_model_features(X, model)\n",
    "                res += torch.matmul(features, w)\n",
    "            return res"
   ]
  },
  {
   "cell_type": "code",
   "execution_count": 53,
   "metadata": {},
   "outputs": [
    {
     "name": "stdout",
     "output_type": "stream",
     "text": [
      "Files already downloaded and verified\n",
      "Files already downloaded and verified\n",
      "CPU times: user 3min 51s, sys: 1min 2s, total: 4min 53s\n",
      "Wall time: 43.9 s\n"
     ]
    }
   ],
   "source": [
    "%%time\n",
    "\n",
    "X_train, labels_train, X_test, labels_test = get_cifar_zca()"
   ]
  },
  {
   "cell_type": "code",
   "execution_count": 54,
   "metadata": {},
   "outputs": [],
   "source": [
    "N = 1280\n",
    "\n",
    "X_train      = torch.tensor(X_train[:N]).float()\n",
    "X_test       = torch.tensor(X_test[:N]).float()\n",
    "labels_train = torch.tensor(labels_train[:N], dtype=torch.long)\n",
    "labels_test  = torch.tensor(labels_test[:N],  dtype=torch.long)\n",
    "\n",
    "num_classes = 10\n",
    "\n",
    "y_train = to_one_hot(labels_train, num_classes).to(device)\n",
    "y_test  = to_one_hot(labels_test,  num_classes).to(device)"
   ]
  },
  {
   "cell_type": "code",
   "execution_count": 55,
   "metadata": {},
   "outputs": [
    {
     "data": {
      "text/plain": [
       "torch.Size([1280, 1280])"
      ]
     },
     "execution_count": 55,
     "metadata": {},
     "output_type": "execute_result"
    }
   ],
   "source": [
    "train_kernel = torch.tensor(kernels_12k['train_kernel'][:N,:N])\n",
    "train_kernel.size()"
   ]
  },
  {
   "cell_type": "code",
   "execution_count": 89,
   "metadata": {},
   "outputs": [],
   "source": [
    "n_models = 5000\n",
    "\n",
    "models = [Myrtle10(num_filters=32) for _ in range(n_models)]"
   ]
  },
  {
   "cell_type": "code",
   "execution_count": 90,
   "metadata": {},
   "outputs": [],
   "source": [
    "estimator = GpEstimator(models, num_classes, 1e4, X_train[0], device)"
   ]
  },
  {
   "cell_type": "code",
   "execution_count": 91,
   "metadata": {},
   "outputs": [],
   "source": [
    "w_update = estimator.get_w_update(X_train, estimator.calc_kernel(X_train), y_train)"
   ]
  },
  {
   "cell_type": "code",
   "execution_count": 92,
   "metadata": {},
   "outputs": [
    {
     "data": {
      "text/plain": [
       "torch.Size([5000, 32, 10])"
      ]
     },
     "execution_count": 92,
     "metadata": {},
     "output_type": "execute_result"
    }
   ],
   "source": [
    "w_update.size()"
   ]
  },
  {
   "cell_type": "code",
   "execution_count": 93,
   "metadata": {},
   "outputs": [],
   "source": [
    "estimator.w = w_update"
   ]
  },
  {
   "cell_type": "code",
   "execution_count": 94,
   "metadata": {},
   "outputs": [],
   "source": [
    "y_pred = estimator.predict(X_test).argmax(dim=1)"
   ]
  },
  {
   "cell_type": "code",
   "execution_count": 95,
   "metadata": {},
   "outputs": [
    {
     "data": {
      "text/plain": [
       "tensor(0.5898)"
      ]
     },
     "execution_count": 95,
     "metadata": {},
     "output_type": "execute_result"
    }
   ],
   "source": [
    "(y_pred.cpu() == labels_test).float().mean()"
   ]
  },
  {
   "cell_type": "code",
   "execution_count": null,
   "metadata": {},
   "outputs": [],
   "source": []
  }
 ],
 "metadata": {
  "kernelspec": {
   "display_name": "Python 3",
   "language": "python",
   "name": "python3"
  },
  "language_info": {
   "codemirror_mode": {
    "name": "ipython",
    "version": 3
   },
   "file_extension": ".py",
   "mimetype": "text/x-python",
   "name": "python",
   "nbconvert_exporter": "python",
   "pygments_lexer": "ipython3",
   "version": "3.6.9"
  }
 },
 "nbformat": 4,
 "nbformat_minor": 4
}
