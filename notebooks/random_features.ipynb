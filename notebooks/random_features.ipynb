{
 "cells": [
  {
   "cell_type": "markdown",
   "metadata": {},
   "source": [
    "## Download repo"
   ]
  },
  {
   "cell_type": "code",
   "execution_count": 1,
   "metadata": {},
   "outputs": [],
   "source": [
    "import os\n",
    "import shutil\n",
    "import zipfile\n",
    "import urllib.request\n",
    "\n",
    "def download_repo(url, save_to):\n",
    "    zip_filename = save_to + '.zip'\n",
    "    urllib.request.urlretrieve(url, zip_filename)\n",
    "    \n",
    "    if os.path.exists(save_to):\n",
    "        shutil.rmtree(save_to)\n",
    "    with zipfile.ZipFile(zip_filename, 'r') as zip_ref:\n",
    "        zip_ref.extractall('.')\n",
    "    del zip_ref\n",
    "    assert os.path.exists(save_to)"
   ]
  },
  {
   "cell_type": "code",
   "execution_count": 2,
   "metadata": {},
   "outputs": [],
   "source": [
    "REPO_PATH = 'LinearizedNNs-master'\n",
    "\n",
    "# download_repo(url='https://github.com/maxkvant/LinearizedNNs/archive/master.zip', save_to=REPO_PATH)"
   ]
  },
  {
   "cell_type": "markdown",
   "metadata": {},
   "source": [
    "## Imports"
   ]
  },
  {
   "cell_type": "code",
   "execution_count": 3,
   "metadata": {},
   "outputs": [],
   "source": [
    "import sys\n",
    "sys.path.append(f\"{REPO_PATH}/src\")"
   ]
  },
  {
   "cell_type": "code",
   "execution_count": 4,
   "metadata": {},
   "outputs": [],
   "source": [
    "import time\n",
    "import numpy as np\n",
    "import seaborn as sns\n",
    "from PIL import Image\n",
    "import matplotlib.pyplot as plt\n",
    "\n",
    "import torch\n",
    "import torch.nn as nn\n",
    "import torch.nn.functional as F\n",
    "from torchvision import transforms, datasets\n",
    "from torchvision.datasets import FashionMNIST\n",
    "\n",
    "from estimator import Estimator\n",
    "from pytorch_impl.estimators import SgdEstimator\n",
    "from pytorch_impl.nns import Myrtle5, Myrtle7, Myrtle10\n",
    "from pytorch_impl import ClassifierTraining\n",
    "from pytorch_impl.matrix_exp import matrix_exp, compute_exp_term\n",
    "from pytorch_impl.nns.utils import to_one_hot, print_sizes\n",
    "from from_neural_kernels import to_zca, CustomTensorDataset, get_cifar_zca"
   ]
  },
  {
   "cell_type": "code",
   "execution_count": 5,
   "metadata": {},
   "outputs": [
    {
     "data": {
      "text/plain": [
       "device(type='cuda', index=0)"
      ]
     },
     "execution_count": 5,
     "metadata": {},
     "output_type": "execute_result"
    }
   ],
   "source": [
    "device = torch.device('cuda:0') if (torch.cuda.is_available()) else torch.device('cpu')\n",
    "device"
   ]
  },
  {
   "cell_type": "markdown",
   "metadata": {},
   "source": [
    "## Cifar 10"
   ]
  },
  {
   "cell_type": "code",
   "execution_count": 36,
   "metadata": {},
   "outputs": [],
   "source": [
    "class GpEstimator(Estimator):\n",
    "    def __init__(self, models, n_classes, learning_rate, x_example, device):\n",
    "        super(GpEstimator, self).__init__()\n",
    "        self.models    = models\n",
    "        self.lr        = learning_rate\n",
    "        self.n_classes = n_classes\n",
    "        self.device    = device\n",
    "        \n",
    "        n = len(models)\n",
    "        X = torch.stack([x_example]).to(device)\n",
    "        \n",
    "        model = models[0].to(device)\n",
    "        readout_size = model.readout(X).size()[1]\n",
    "    \n",
    "        # TODO: Assert that models have the same readout size\n",
    "        \n",
    "        self.w      = torch.zeros([n, readout_size, n_classes]).to(device)\n",
    "        self.w_size = n * readout_size \n",
    "        \n",
    "    def get_w_update(self, X, right_vector):\n",
    "        with torch.no_grad():\n",
    "            assert len(X) == len(right_vector)\n",
    "\n",
    "            X            = X.to(self.device)\n",
    "            right_vector = right_vector.to(self.device)\n",
    "\n",
    "            n = len(X)\n",
    "            w_updates = []\n",
    "            \n",
    "            for model in models:\n",
    "                features = self.to_model_features(X, model)\n",
    "                update = torch.matmul(features.T, right_vector)\n",
    "                w_updates.append(update)\n",
    "            return torch.stack(w_updates)\n",
    "                                  \n",
    "    def to_model_features(self, X, model):\n",
    "        with torch.no_grad():\n",
    "            model = model.to(device)\n",
    "            return model.readout(X) * (1. / np.sqrt(self.w_size))\n",
    "        \n",
    "    def calc_kernel(self, X):\n",
    "        with torch.no_grad():\n",
    "            X = X.to(device)\n",
    "            \n",
    "            res = torch.zeros([len(X), len(X)]).to(device)\n",
    "            for model in models:\n",
    "                features_x = self.to_model_features(X, model)\n",
    "                \n",
    "                res += torch.matmul(features_x, features_x.T)\n",
    "            return res\n",
    "        \n",
    "    def calc_kernel_pred(self, X):\n",
    "        with torch.no_grad():\n",
    "            X = X.to(device)\n",
    "            \n",
    "            n = len(X)\n",
    "            y_pred = torch.zeros([n, self.n_classes]).to(device)\n",
    "            kernel = torch.zeros([len(X), len(X)]).to(device)\n",
    "            \n",
    "            for model, w in zip(models, self.w):\n",
    "                features = self.to_model_features(X, model)\n",
    "                \n",
    "                kernel += torch.matmul(features, features.T)\n",
    "                y_pred += torch.matmul(features, w)\n",
    "            return kernel, y_pred\n",
    "        \n",
    "    def calc_kernels(self, X_train, X_test):\n",
    "        with torch.no_grad():\n",
    "            X_train = X_train.to(device)\n",
    "            X_test  = X_test.to(device)\n",
    "            \n",
    "            res_train = torch.zeros([len(X_train), len(X_train)]).to(device)\n",
    "            res_test  = torch.zeros([len(X_test),  len(X_train)]).to(device)\n",
    "            for model in models:\n",
    "                features_train = self.to_model_features(X_train, model)\n",
    "                features_test  = self.to_model_features(X_test,  model)\n",
    "                \n",
    "                res_train += torch.matmul(features_train, features_train.T)\n",
    "                res_test  += torch.matmul(features_test,  features_train.T)\n",
    "            return res_train, res_test\n",
    "            \n",
    "    def predict(self, X):\n",
    "        X = X.to(self.device)\n",
    "        with torch.no_grad():\n",
    "            n = len(X)\n",
    "            res = torch.zeros([n, self.n_classes]).to(device)\n",
    "\n",
    "            for model, w in zip(models, self.w):\n",
    "                features = self.to_model_features(X, model)\n",
    "                res += torch.matmul(features, w)\n",
    "            return res"
   ]
  },
  {
   "cell_type": "code",
   "execution_count": 7,
   "metadata": {},
   "outputs": [],
   "source": [
    "def calc_right_vector(kernel, y, learning_rate=1e5, reg_param=0):\n",
    "    with torch.no_grad():\n",
    "        y      = y.to(device)\n",
    "        kernel = kernel.to(device)\n",
    "        \n",
    "        n      = len(kernel)\n",
    "        reg = torch.eye(n).to(device) * reg_param\n",
    "        \n",
    "        exp_term = - learning_rate * compute_exp_term(- learning_rate * (kernel + reg), device)\n",
    "        right_vector = torch.matmul(exp_term, - y)\n",
    "        return right_vector"
   ]
  },
  {
   "cell_type": "code",
   "execution_count": 8,
   "metadata": {},
   "outputs": [
    {
     "name": "stdout",
     "output_type": "stream",
     "text": [
      "Files already downloaded and verified\n",
      "Files already downloaded and verified\n",
      "CPU times: user 4min, sys: 1min 11s, total: 5min 12s\n",
      "Wall time: 50.5 s\n"
     ]
    }
   ],
   "source": [
    "%%time\n",
    "\n",
    "X_train, labels_train, X_test, labels_test = get_cifar_zca()\n",
    "\n",
    "N_train = 12800\n",
    "N_test  = 1000\n",
    "\n",
    "X_train      = torch.tensor(X_train[:N_train]).float()\n",
    "labels_train = torch.tensor(labels_train[:N_train], dtype=torch.long)\n",
    "\n",
    "X_test       = torch.tensor(X_test[:N_test]).float()\n",
    "labels_test  = torch.tensor(labels_test[:N_test],  dtype=torch.long)\n",
    "\n",
    "num_classes = 10\n",
    "\n",
    "y_train = to_one_hot(labels_train, num_classes).to(device)\n",
    "y_test  = to_one_hot(labels_test,  num_classes).to(device)"
   ]
  },
  {
   "cell_type": "code",
   "execution_count": 19,
   "metadata": {},
   "outputs": [],
   "source": [
    "y_train = np.load('../data/cifar10_targets.npz')['targets'][:N_train]"
   ]
  },
  {
   "cell_type": "code",
   "execution_count": 43,
   "metadata": {},
   "outputs": [
    {
     "name": "stderr",
     "output_type": "stream",
     "text": [
      "/home/maxkvant/.local/lib/python3.6/site-packages/ipykernel_launcher.py:1: UserWarning: To copy construct from a tensor, it is recommended to use sourceTensor.clone().detach() or sourceTensor.clone().detach().requires_grad_(True), rather than torch.tensor(sourceTensor).\n",
      "  \"\"\"Entry point for launching an IPython kernel.\n"
     ]
    }
   ],
   "source": [
    "cifar_train = CustomTensorDataset(torch.tensor(X_train), torch.tensor(y_train).float(), transform='all')\n",
    "train_loader = torch.utils.data.DataLoader(cifar_train, batch_size=1280 * 4)"
   ]
  },
  {
   "cell_type": "markdown",
   "metadata": {},
   "source": [
    "## Kernel method"
   ]
  },
  {
   "cell_type": "code",
   "execution_count": 37,
   "metadata": {},
   "outputs": [],
   "source": [
    "def boosting(estimator, train_loader, X_test, labels_test, learning_rate=1e5, n_iter=10):\n",
    "    with torch.no_grad():\n",
    "        batches_num = 0\n",
    "        for _ in enumerate(train_loader):\n",
    "            batches_num += 1\n",
    "        n_batches = (batches_num * 2) // 3 + 1\n",
    "        \n",
    "        for iter_num  in range(n_iter):\n",
    "            print(f\"iter {iter_num} ==========================\")\n",
    "            \n",
    "            betas = []\n",
    "            w_update = 0\n",
    "            iter_start = time.time()\n",
    "            \n",
    "            for batch_i, (X, y) in enumerate(train_loader):\n",
    "                if batch_i >= n_batches:\n",
    "                    break\n",
    "                \n",
    "                X = X.to(device)\n",
    "                y = y.to(device)\n",
    "                \n",
    "                kernel, y_pred = estimator.calc_kernel_pred(X)\n",
    "                \n",
    "                y_residual = y_pred - y\n",
    "                \n",
    "                train_acc = (y_pred.argmax(dim=1) == y.argmax(dim=1)).float().mean().item()\n",
    "                train_mse = (y_residual ** 2).mean().item()\n",
    "                print(f\"batch {batch_i}: train_acc {train_acc:.4f}, train_mse {train_mse:.6f}\")\n",
    "                \n",
    "                right_vector = calc_right_vector(kernel, y_residual, learning_rate=learning_rate)\n",
    "                \n",
    "                cur_w_update = estimator.get_w_update(X, right_vector)\n",
    "                \n",
    "                pred_change = torch.matmul(kernel, right_vector)\n",
    "                cur_beta    = (- y_residual * pred_change).sum() / (pred_change ** 2).sum()\n",
    "                \n",
    "                w_update += cur_w_update\n",
    "                betas.append(cur_beta.item())\n",
    "                \n",
    "            beta = np.average(betas)\n",
    "            estimator.w += w_update * beta / n_batches\n",
    "            \n",
    "            y_pred = estimator.predict(X_test) \n",
    "            test_acc = (y_pred.argmax(dim=1) == labels_test.to(device)).float().mean().item()\n",
    "            \n",
    "            print(f\"iter {iter_num} done. took {time.time() - iter_start:.0f}s test_acc {test_acc:.4f}\")\n",
    "            print()"
   ]
  },
  {
   "cell_type": "code",
   "execution_count": 44,
   "metadata": {},
   "outputs": [],
   "source": [
    "n_models = 500\n",
    "\n",
    "models = [Myrtle5(num_filters=32) for _ in range(n_models)]\n",
    "\n",
    "estimator = GpEstimator(models, num_classes, 0.2, X_train[0], device)"
   ]
  },
  {
   "cell_type": "code",
   "execution_count": 45,
   "metadata": {},
   "outputs": [
    {
     "name": "stdout",
     "output_type": "stream",
     "text": [
      "iter 0 ==========================\n",
      "batch 0: train_acc 0.0977, train_mse 6.658212\n",
      "batch 1: train_acc 0.1039, train_mse 6.654397\n",
      "batch 2: train_acc 0.0977, train_mse 6.673571\n",
      "iter 0 done. took 168s test_acc 0.6880\n",
      "\n",
      "iter 1 ==========================\n"
     ]
    },
    {
     "ename": "KeyboardInterrupt",
     "evalue": "",
     "output_type": "error",
     "traceback": [
      "\u001b[0;31m---------------------------------------------------------------------------\u001b[0m",
      "\u001b[0;31mKeyboardInterrupt\u001b[0m                         Traceback (most recent call last)",
      "\u001b[0;32m<ipython-input-45-c889e14dfbc4>\u001b[0m in \u001b[0;36m<module>\u001b[0;34m\u001b[0m\n\u001b[0;32m----> 1\u001b[0;31m \u001b[0mboosting\u001b[0m\u001b[0;34m(\u001b[0m\u001b[0mestimator\u001b[0m\u001b[0;34m,\u001b[0m \u001b[0mtrain_loader\u001b[0m\u001b[0;34m,\u001b[0m \u001b[0mX_test\u001b[0m\u001b[0;34m,\u001b[0m \u001b[0mlabels_test\u001b[0m\u001b[0;34m)\u001b[0m\u001b[0;34m\u001b[0m\u001b[0;34m\u001b[0m\u001b[0m\n\u001b[0m",
      "\u001b[0;32m<ipython-input-37-9e2578bd3f09>\u001b[0m in \u001b[0;36mboosting\u001b[0;34m(estimator, train_loader, X_test, labels_test, learning_rate, n_iter)\u001b[0m\n\u001b[1;32m     20\u001b[0m                 \u001b[0my\u001b[0m \u001b[0;34m=\u001b[0m \u001b[0my\u001b[0m\u001b[0;34m.\u001b[0m\u001b[0mto\u001b[0m\u001b[0;34m(\u001b[0m\u001b[0mdevice\u001b[0m\u001b[0;34m)\u001b[0m\u001b[0;34m\u001b[0m\u001b[0;34m\u001b[0m\u001b[0m\n\u001b[1;32m     21\u001b[0m \u001b[0;34m\u001b[0m\u001b[0m\n\u001b[0;32m---> 22\u001b[0;31m                 \u001b[0mkernel\u001b[0m\u001b[0;34m,\u001b[0m \u001b[0my_pred\u001b[0m \u001b[0;34m=\u001b[0m \u001b[0mestimator\u001b[0m\u001b[0;34m.\u001b[0m\u001b[0mcalc_kernel_pred\u001b[0m\u001b[0;34m(\u001b[0m\u001b[0mX\u001b[0m\u001b[0;34m)\u001b[0m\u001b[0;34m\u001b[0m\u001b[0;34m\u001b[0m\u001b[0m\n\u001b[0m\u001b[1;32m     23\u001b[0m \u001b[0;34m\u001b[0m\u001b[0m\n\u001b[1;32m     24\u001b[0m                 \u001b[0my_residual\u001b[0m \u001b[0;34m=\u001b[0m \u001b[0my_pred\u001b[0m \u001b[0;34m-\u001b[0m \u001b[0my\u001b[0m\u001b[0;34m\u001b[0m\u001b[0;34m\u001b[0m\u001b[0m\n",
      "\u001b[0;32m<ipython-input-36-d977f18838cf>\u001b[0m in \u001b[0;36mcalc_kernel_pred\u001b[0;34m(self, X)\u001b[0m\n\u001b[1;32m     59\u001b[0m \u001b[0;34m\u001b[0m\u001b[0m\n\u001b[1;32m     60\u001b[0m             \u001b[0;32mfor\u001b[0m \u001b[0mmodel\u001b[0m\u001b[0;34m,\u001b[0m \u001b[0mw\u001b[0m \u001b[0;32min\u001b[0m \u001b[0mzip\u001b[0m\u001b[0;34m(\u001b[0m\u001b[0mmodels\u001b[0m\u001b[0;34m,\u001b[0m \u001b[0mself\u001b[0m\u001b[0;34m.\u001b[0m\u001b[0mw\u001b[0m\u001b[0;34m)\u001b[0m\u001b[0;34m:\u001b[0m\u001b[0;34m\u001b[0m\u001b[0;34m\u001b[0m\u001b[0m\n\u001b[0;32m---> 61\u001b[0;31m                 \u001b[0mfeatures\u001b[0m \u001b[0;34m=\u001b[0m \u001b[0mself\u001b[0m\u001b[0;34m.\u001b[0m\u001b[0mto_model_features\u001b[0m\u001b[0;34m(\u001b[0m\u001b[0mX\u001b[0m\u001b[0;34m,\u001b[0m \u001b[0mmodel\u001b[0m\u001b[0;34m)\u001b[0m\u001b[0;34m\u001b[0m\u001b[0;34m\u001b[0m\u001b[0m\n\u001b[0m\u001b[1;32m     62\u001b[0m \u001b[0;34m\u001b[0m\u001b[0m\n\u001b[1;32m     63\u001b[0m                 \u001b[0mkernel\u001b[0m \u001b[0;34m+=\u001b[0m \u001b[0mtorch\u001b[0m\u001b[0;34m.\u001b[0m\u001b[0mmatmul\u001b[0m\u001b[0;34m(\u001b[0m\u001b[0mfeatures\u001b[0m\u001b[0;34m,\u001b[0m \u001b[0mfeatures\u001b[0m\u001b[0;34m.\u001b[0m\u001b[0mT\u001b[0m\u001b[0;34m)\u001b[0m\u001b[0;34m\u001b[0m\u001b[0;34m\u001b[0m\u001b[0m\n",
      "\u001b[0;32m<ipython-input-36-d977f18838cf>\u001b[0m in \u001b[0;36mto_model_features\u001b[0;34m(self, X, model)\u001b[0m\n\u001b[1;32m     37\u001b[0m         \u001b[0;32mwith\u001b[0m \u001b[0mtorch\u001b[0m\u001b[0;34m.\u001b[0m\u001b[0mno_grad\u001b[0m\u001b[0;34m(\u001b[0m\u001b[0;34m)\u001b[0m\u001b[0;34m:\u001b[0m\u001b[0;34m\u001b[0m\u001b[0;34m\u001b[0m\u001b[0m\n\u001b[1;32m     38\u001b[0m             \u001b[0mmodel\u001b[0m \u001b[0;34m=\u001b[0m \u001b[0mmodel\u001b[0m\u001b[0;34m.\u001b[0m\u001b[0mto\u001b[0m\u001b[0;34m(\u001b[0m\u001b[0mdevice\u001b[0m\u001b[0;34m)\u001b[0m\u001b[0;34m\u001b[0m\u001b[0;34m\u001b[0m\u001b[0m\n\u001b[0;32m---> 39\u001b[0;31m             \u001b[0;32mreturn\u001b[0m \u001b[0mmodel\u001b[0m\u001b[0;34m.\u001b[0m\u001b[0mreadout\u001b[0m\u001b[0;34m(\u001b[0m\u001b[0mX\u001b[0m\u001b[0;34m)\u001b[0m \u001b[0;34m*\u001b[0m \u001b[0;34m(\u001b[0m\u001b[0;36m1.\u001b[0m \u001b[0;34m/\u001b[0m \u001b[0mnp\u001b[0m\u001b[0;34m.\u001b[0m\u001b[0msqrt\u001b[0m\u001b[0;34m(\u001b[0m\u001b[0mself\u001b[0m\u001b[0;34m.\u001b[0m\u001b[0mw_size\u001b[0m\u001b[0;34m)\u001b[0m\u001b[0;34m)\u001b[0m\u001b[0;34m\u001b[0m\u001b[0;34m\u001b[0m\u001b[0m\n\u001b[0m\u001b[1;32m     40\u001b[0m \u001b[0;34m\u001b[0m\u001b[0m\n\u001b[1;32m     41\u001b[0m     \u001b[0;32mdef\u001b[0m \u001b[0mcalc_kernel\u001b[0m\u001b[0;34m(\u001b[0m\u001b[0mself\u001b[0m\u001b[0;34m,\u001b[0m \u001b[0mX\u001b[0m\u001b[0;34m)\u001b[0m\u001b[0;34m:\u001b[0m\u001b[0;34m\u001b[0m\u001b[0;34m\u001b[0m\u001b[0m\n",
      "\u001b[0;32m~/repos/LinearizedNNs/notebooks/LinearizedNNs-master/src/pytorch_impl/nns/myrtle.py\u001b[0m in \u001b[0;36mreadout\u001b[0;34m(self, x)\u001b[0m\n\u001b[1;32m     27\u001b[0m \u001b[0;34m\u001b[0m\u001b[0m\n\u001b[1;32m     28\u001b[0m     \u001b[0;32mdef\u001b[0m \u001b[0mreadout\u001b[0m\u001b[0;34m(\u001b[0m\u001b[0mself\u001b[0m\u001b[0;34m,\u001b[0m \u001b[0mx\u001b[0m\u001b[0;34m)\u001b[0m\u001b[0;34m:\u001b[0m\u001b[0;34m\u001b[0m\u001b[0;34m\u001b[0m\u001b[0m\n\u001b[0;32m---> 29\u001b[0;31m         \u001b[0;32mreturn\u001b[0m \u001b[0mself\u001b[0m\u001b[0;34m.\u001b[0m\u001b[0mlayers\u001b[0m\u001b[0;34m(\u001b[0m\u001b[0mx\u001b[0m\u001b[0;34m)\u001b[0m\u001b[0;34m\u001b[0m\u001b[0;34m\u001b[0m\u001b[0m\n\u001b[0m\u001b[1;32m     30\u001b[0m \u001b[0;34m\u001b[0m\u001b[0m\n\u001b[1;32m     31\u001b[0m     \u001b[0;32mdef\u001b[0m \u001b[0mforward\u001b[0m\u001b[0;34m(\u001b[0m\u001b[0mself\u001b[0m\u001b[0;34m,\u001b[0m \u001b[0mx\u001b[0m\u001b[0;34m)\u001b[0m\u001b[0;34m:\u001b[0m\u001b[0;34m\u001b[0m\u001b[0;34m\u001b[0m\u001b[0m\n",
      "\u001b[0;32m~/.local/lib/python3.6/site-packages/torch/nn/modules/module.py\u001b[0m in \u001b[0;36m__call__\u001b[0;34m(self, *input, **kwargs)\u001b[0m\n\u001b[1;32m    548\u001b[0m             \u001b[0mresult\u001b[0m \u001b[0;34m=\u001b[0m \u001b[0mself\u001b[0m\u001b[0;34m.\u001b[0m\u001b[0m_slow_forward\u001b[0m\u001b[0;34m(\u001b[0m\u001b[0;34m*\u001b[0m\u001b[0minput\u001b[0m\u001b[0;34m,\u001b[0m \u001b[0;34m**\u001b[0m\u001b[0mkwargs\u001b[0m\u001b[0;34m)\u001b[0m\u001b[0;34m\u001b[0m\u001b[0;34m\u001b[0m\u001b[0m\n\u001b[1;32m    549\u001b[0m         \u001b[0;32melse\u001b[0m\u001b[0;34m:\u001b[0m\u001b[0;34m\u001b[0m\u001b[0;34m\u001b[0m\u001b[0m\n\u001b[0;32m--> 550\u001b[0;31m             \u001b[0mresult\u001b[0m \u001b[0;34m=\u001b[0m \u001b[0mself\u001b[0m\u001b[0;34m.\u001b[0m\u001b[0mforward\u001b[0m\u001b[0;34m(\u001b[0m\u001b[0;34m*\u001b[0m\u001b[0minput\u001b[0m\u001b[0;34m,\u001b[0m \u001b[0;34m**\u001b[0m\u001b[0mkwargs\u001b[0m\u001b[0;34m)\u001b[0m\u001b[0;34m\u001b[0m\u001b[0;34m\u001b[0m\u001b[0m\n\u001b[0m\u001b[1;32m    551\u001b[0m         \u001b[0;32mfor\u001b[0m \u001b[0mhook\u001b[0m \u001b[0;32min\u001b[0m \u001b[0mself\u001b[0m\u001b[0;34m.\u001b[0m\u001b[0m_forward_hooks\u001b[0m\u001b[0;34m.\u001b[0m\u001b[0mvalues\u001b[0m\u001b[0;34m(\u001b[0m\u001b[0;34m)\u001b[0m\u001b[0;34m:\u001b[0m\u001b[0;34m\u001b[0m\u001b[0;34m\u001b[0m\u001b[0m\n\u001b[1;32m    552\u001b[0m             \u001b[0mhook_result\u001b[0m \u001b[0;34m=\u001b[0m \u001b[0mhook\u001b[0m\u001b[0;34m(\u001b[0m\u001b[0mself\u001b[0m\u001b[0;34m,\u001b[0m \u001b[0minput\u001b[0m\u001b[0;34m,\u001b[0m \u001b[0mresult\u001b[0m\u001b[0;34m)\u001b[0m\u001b[0;34m\u001b[0m\u001b[0;34m\u001b[0m\u001b[0m\n",
      "\u001b[0;32m~/.local/lib/python3.6/site-packages/torch/nn/modules/container.py\u001b[0m in \u001b[0;36mforward\u001b[0;34m(self, input)\u001b[0m\n\u001b[1;32m     98\u001b[0m     \u001b[0;32mdef\u001b[0m \u001b[0mforward\u001b[0m\u001b[0;34m(\u001b[0m\u001b[0mself\u001b[0m\u001b[0;34m,\u001b[0m \u001b[0minput\u001b[0m\u001b[0;34m)\u001b[0m\u001b[0;34m:\u001b[0m\u001b[0;34m\u001b[0m\u001b[0;34m\u001b[0m\u001b[0m\n\u001b[1;32m     99\u001b[0m         \u001b[0;32mfor\u001b[0m \u001b[0mmodule\u001b[0m \u001b[0;32min\u001b[0m \u001b[0mself\u001b[0m\u001b[0;34m:\u001b[0m\u001b[0;34m\u001b[0m\u001b[0;34m\u001b[0m\u001b[0m\n\u001b[0;32m--> 100\u001b[0;31m             \u001b[0minput\u001b[0m \u001b[0;34m=\u001b[0m \u001b[0mmodule\u001b[0m\u001b[0;34m(\u001b[0m\u001b[0minput\u001b[0m\u001b[0;34m)\u001b[0m\u001b[0;34m\u001b[0m\u001b[0;34m\u001b[0m\u001b[0m\n\u001b[0m\u001b[1;32m    101\u001b[0m         \u001b[0;32mreturn\u001b[0m \u001b[0minput\u001b[0m\u001b[0;34m\u001b[0m\u001b[0;34m\u001b[0m\u001b[0m\n\u001b[1;32m    102\u001b[0m \u001b[0;34m\u001b[0m\u001b[0m\n",
      "\u001b[0;32m~/.local/lib/python3.6/site-packages/torch/nn/modules/module.py\u001b[0m in \u001b[0;36m__call__\u001b[0;34m(self, *input, **kwargs)\u001b[0m\n\u001b[1;32m    548\u001b[0m             \u001b[0mresult\u001b[0m \u001b[0;34m=\u001b[0m \u001b[0mself\u001b[0m\u001b[0;34m.\u001b[0m\u001b[0m_slow_forward\u001b[0m\u001b[0;34m(\u001b[0m\u001b[0;34m*\u001b[0m\u001b[0minput\u001b[0m\u001b[0;34m,\u001b[0m \u001b[0;34m**\u001b[0m\u001b[0mkwargs\u001b[0m\u001b[0;34m)\u001b[0m\u001b[0;34m\u001b[0m\u001b[0;34m\u001b[0m\u001b[0m\n\u001b[1;32m    549\u001b[0m         \u001b[0;32melse\u001b[0m\u001b[0;34m:\u001b[0m\u001b[0;34m\u001b[0m\u001b[0;34m\u001b[0m\u001b[0m\n\u001b[0;32m--> 550\u001b[0;31m             \u001b[0mresult\u001b[0m \u001b[0;34m=\u001b[0m \u001b[0mself\u001b[0m\u001b[0;34m.\u001b[0m\u001b[0mforward\u001b[0m\u001b[0;34m(\u001b[0m\u001b[0;34m*\u001b[0m\u001b[0minput\u001b[0m\u001b[0;34m,\u001b[0m \u001b[0;34m**\u001b[0m\u001b[0mkwargs\u001b[0m\u001b[0;34m)\u001b[0m\u001b[0;34m\u001b[0m\u001b[0;34m\u001b[0m\u001b[0m\n\u001b[0m\u001b[1;32m    551\u001b[0m         \u001b[0;32mfor\u001b[0m \u001b[0mhook\u001b[0m \u001b[0;32min\u001b[0m \u001b[0mself\u001b[0m\u001b[0;34m.\u001b[0m\u001b[0m_forward_hooks\u001b[0m\u001b[0;34m.\u001b[0m\u001b[0mvalues\u001b[0m\u001b[0;34m(\u001b[0m\u001b[0;34m)\u001b[0m\u001b[0;34m:\u001b[0m\u001b[0;34m\u001b[0m\u001b[0;34m\u001b[0m\u001b[0m\n\u001b[1;32m    552\u001b[0m             \u001b[0mhook_result\u001b[0m \u001b[0;34m=\u001b[0m \u001b[0mhook\u001b[0m\u001b[0;34m(\u001b[0m\u001b[0mself\u001b[0m\u001b[0;34m,\u001b[0m \u001b[0minput\u001b[0m\u001b[0;34m,\u001b[0m \u001b[0mresult\u001b[0m\u001b[0;34m)\u001b[0m\u001b[0;34m\u001b[0m\u001b[0;34m\u001b[0m\u001b[0m\n",
      "\u001b[0;32m~/.local/lib/python3.6/site-packages/torch/nn/modules/conv.py\u001b[0m in \u001b[0;36mforward\u001b[0;34m(self, input)\u001b[0m\n\u001b[1;32m    347\u001b[0m \u001b[0;34m\u001b[0m\u001b[0m\n\u001b[1;32m    348\u001b[0m     \u001b[0;32mdef\u001b[0m \u001b[0mforward\u001b[0m\u001b[0;34m(\u001b[0m\u001b[0mself\u001b[0m\u001b[0;34m,\u001b[0m \u001b[0minput\u001b[0m\u001b[0;34m)\u001b[0m\u001b[0;34m:\u001b[0m\u001b[0;34m\u001b[0m\u001b[0;34m\u001b[0m\u001b[0m\n\u001b[0;32m--> 349\u001b[0;31m         \u001b[0;32mreturn\u001b[0m \u001b[0mself\u001b[0m\u001b[0;34m.\u001b[0m\u001b[0m_conv_forward\u001b[0m\u001b[0;34m(\u001b[0m\u001b[0minput\u001b[0m\u001b[0;34m,\u001b[0m \u001b[0mself\u001b[0m\u001b[0;34m.\u001b[0m\u001b[0mweight\u001b[0m\u001b[0;34m)\u001b[0m\u001b[0;34m\u001b[0m\u001b[0;34m\u001b[0m\u001b[0m\n\u001b[0m\u001b[1;32m    350\u001b[0m \u001b[0;34m\u001b[0m\u001b[0m\n\u001b[1;32m    351\u001b[0m \u001b[0;32mclass\u001b[0m \u001b[0mConv3d\u001b[0m\u001b[0;34m(\u001b[0m\u001b[0m_ConvNd\u001b[0m\u001b[0;34m)\u001b[0m\u001b[0;34m:\u001b[0m\u001b[0;34m\u001b[0m\u001b[0;34m\u001b[0m\u001b[0m\n",
      "\u001b[0;32m~/.local/lib/python3.6/site-packages/torch/nn/modules/conv.py\u001b[0m in \u001b[0;36m_conv_forward\u001b[0;34m(self, input, weight)\u001b[0m\n\u001b[1;32m    344\u001b[0m                             _pair(0), self.dilation, self.groups)\n\u001b[1;32m    345\u001b[0m         return F.conv2d(input, weight, self.bias, self.stride,\n\u001b[0;32m--> 346\u001b[0;31m                         self.padding, self.dilation, self.groups)\n\u001b[0m\u001b[1;32m    347\u001b[0m \u001b[0;34m\u001b[0m\u001b[0m\n\u001b[1;32m    348\u001b[0m     \u001b[0;32mdef\u001b[0m \u001b[0mforward\u001b[0m\u001b[0;34m(\u001b[0m\u001b[0mself\u001b[0m\u001b[0;34m,\u001b[0m \u001b[0minput\u001b[0m\u001b[0;34m)\u001b[0m\u001b[0;34m:\u001b[0m\u001b[0;34m\u001b[0m\u001b[0;34m\u001b[0m\u001b[0m\n",
      "\u001b[0;31mKeyboardInterrupt\u001b[0m: "
     ]
    }
   ],
   "source": [
    "boosting(estimator, train_loader, X_test, labels_test)"
   ]
  },
  {
   "cell_type": "code",
   "execution_count": null,
   "metadata": {},
   "outputs": [],
   "source": [
    "n_models = 5000\n",
    "\n",
    "models = [Myrtle5(num_filters=32) for _ in range(n_models)]\n",
    "\n",
    "estimator = GpEstimator(models, num_classes, 0.2, X_train[0], device)"
   ]
  },
  {
   "cell_type": "code",
   "execution_count": 30,
   "metadata": {},
   "outputs": [
    {
     "name": "stdout",
     "output_type": "stream",
     "text": [
      "iter 0 ==========================\n",
      "batch 0: train_acc 0.0992, train_mse 1.000000\n",
      "batch 1: train_acc 0.1023, train_mse 1.000000\n",
      "batch 2: train_acc 0.0867, train_mse 1.000000\n",
      "batch 3: train_acc 0.1023, train_mse 1.000000\n",
      "batch 4: train_acc 0.1063, train_mse 1.000000\n",
      "batch 5: train_acc 0.1055, train_mse 1.000000\n",
      "batch 6: train_acc 0.1086, train_mse 1.000000\n",
      "iter 0 done. test_acc 0.6610\n",
      "iter 1 ==========================\n",
      "batch 0: train_acc 0.6898, train_mse 0.228092\n",
      "batch 1: train_acc 0.6898, train_mse 0.229243\n",
      "batch 2: train_acc 0.6852, train_mse 0.231006\n",
      "batch 3: train_acc 0.6664, train_mse 0.232013\n",
      "batch 4: train_acc 0.6750, train_mse 0.231813\n",
      "batch 5: train_acc 0.6703, train_mse 0.232756\n",
      "batch 6: train_acc 0.6609, train_mse 0.234007\n",
      "iter 1 done. test_acc 0.6930\n",
      "iter 2 ==========================\n",
      "batch 0: train_acc 0.7344, train_mse 0.212709\n",
      "batch 1: train_acc 0.7438, train_mse 0.211246\n",
      "batch 2: train_acc 0.7203, train_mse 0.213644\n",
      "batch 3: train_acc 0.7297, train_mse 0.215032\n",
      "batch 4: train_acc 0.7312, train_mse 0.209461\n",
      "batch 5: train_acc 0.7203, train_mse 0.212636\n",
      "batch 6: train_acc 0.7258, train_mse 0.214520\n",
      "iter 2 done. test_acc 0.7080\n",
      "iter 3 ==========================\n",
      "batch 0: train_acc 0.7688, train_mse 0.199916\n",
      "batch 1: train_acc 0.7766, train_mse 0.197256\n",
      "batch 2: train_acc 0.7688, train_mse 0.199618\n",
      "batch 3: train_acc 0.7594, train_mse 0.201165\n",
      "batch 4: train_acc 0.7508, train_mse 0.201875\n",
      "batch 5: train_acc 0.7445, train_mse 0.202120\n",
      "batch 6: train_acc 0.7547, train_mse 0.201036\n",
      "iter 3 done. test_acc 0.7090\n",
      "iter 4 ==========================\n",
      "batch 0: train_acc 0.8078, train_mse 0.189755\n",
      "batch 1: train_acc 0.7797, train_mse 0.193103\n",
      "batch 2: train_acc 0.7844, train_mse 0.194073\n",
      "batch 3: train_acc 0.7719, train_mse 0.195219\n",
      "batch 4: train_acc 0.7758, train_mse 0.193895\n",
      "batch 5: train_acc 0.7844, train_mse 0.191668\n",
      "batch 6: train_acc 0.7695, train_mse 0.194899\n",
      "iter 4 done. test_acc 0.7240\n",
      "iter 5 ==========================\n",
      "batch 0: train_acc 0.8063, train_mse 0.182190\n",
      "batch 1: train_acc 0.8055, train_mse 0.182030\n",
      "batch 2: train_acc 0.8211, train_mse 0.180914\n",
      "batch 3: train_acc 0.8000, train_mse 0.188087\n",
      "batch 4: train_acc 0.7836, train_mse 0.184472\n",
      "batch 5: train_acc 0.7820, train_mse 0.187855\n",
      "batch 6: train_acc 0.7812, train_mse 0.189223\n",
      "iter 5 done. test_acc 0.7290\n",
      "iter 6 ==========================\n",
      "batch 0: train_acc 0.8180, train_mse 0.177095\n",
      "batch 1: train_acc 0.8258, train_mse 0.176912\n",
      "batch 2: train_acc 0.8273, train_mse 0.178322\n",
      "batch 3: train_acc 0.8117, train_mse 0.179879\n",
      "batch 4: train_acc 0.8141, train_mse 0.179542\n",
      "batch 5: train_acc 0.8117, train_mse 0.178235\n",
      "batch 6: train_acc 0.8039, train_mse 0.181385\n",
      "iter 6 done. test_acc 0.7320\n",
      "iter 7 ==========================\n",
      "batch 0: train_acc 0.8258, train_mse 0.174508\n",
      "batch 1: train_acc 0.8367, train_mse 0.173688\n",
      "batch 2: train_acc 0.8352, train_mse 0.172211\n",
      "batch 3: train_acc 0.8375, train_mse 0.177413\n",
      "batch 4: train_acc 0.8070, train_mse 0.176903\n",
      "batch 5: train_acc 0.8188, train_mse 0.175442\n",
      "batch 6: train_acc 0.8273, train_mse 0.177043\n",
      "iter 7 done. test_acc 0.7330\n",
      "iter 8 ==========================\n",
      "batch 0: train_acc 0.8500, train_mse 0.167686\n",
      "batch 1: train_acc 0.8469, train_mse 0.171867\n",
      "batch 2: train_acc 0.8461, train_mse 0.169275\n",
      "batch 3: train_acc 0.8461, train_mse 0.170154\n",
      "batch 4: train_acc 0.8352, train_mse 0.169808\n",
      "batch 5: train_acc 0.8203, train_mse 0.173348\n",
      "batch 6: train_acc 0.8211, train_mse 0.173705\n",
      "iter 8 done. test_acc 0.7430\n",
      "iter 9 ==========================\n",
      "batch 0: train_acc 0.8656, train_mse 0.164371\n",
      "batch 1: train_acc 0.8375, train_mse 0.166409\n",
      "batch 2: train_acc 0.8562, train_mse 0.163375\n",
      "batch 3: train_acc 0.8484, train_mse 0.170163\n",
      "batch 4: train_acc 0.8445, train_mse 0.167020\n",
      "batch 5: train_acc 0.8250, train_mse 0.169003\n",
      "batch 6: train_acc 0.8391, train_mse 0.168518\n",
      "iter 9 done. test_acc 0.7460\n"
     ]
    }
   ],
   "source": [
    "boosting(estimator, train_loader, X_test, labels_test)"
   ]
  },
  {
   "cell_type": "code",
   "execution_count": 11,
   "metadata": {},
   "outputs": [
    {
     "name": "stderr",
     "output_type": "stream",
     "text": [
      "/home/maxkvant/.local/lib/python3.6/site-packages/ipykernel_launcher.py:1: UserWarning: To copy construct from a tensor, it is recommended to use sourceTensor.clone().detach() or sourceTensor.clone().detach().requires_grad_(True), rather than torch.tensor(sourceTensor).\n",
      "  \"\"\"Entry point for launching an IPython kernel.\n"
     ]
    }
   ],
   "source": [
    "cifar_train = CustomTensorDataset(torch.tensor(X_train), torch.tensor(labels_train, dtype=torch.long), transform=None)"
   ]
  },
  {
   "cell_type": "code",
   "execution_count": 12,
   "metadata": {},
   "outputs": [],
   "source": [
    "n_models = 5000\n",
    "\n",
    "models = [Myrtle5(num_filters=32) for _ in range(n_models)]\n",
    "\n",
    "estimator = GpEstimator(models, num_classes, 0.2, X_train[0], device)"
   ]
  },
  {
   "cell_type": "code",
   "execution_count": 13,
   "metadata": {},
   "outputs": [
    {
     "name": "stdout",
     "output_type": "stream",
     "text": [
      "iter 0 ==========================\n",
      "batch 0: train_acc 0.0992, train_mse 1.000000\n",
      "batch 1: train_acc 0.1023, train_mse 1.000000\n",
      "batch 2: train_acc 0.0867, train_mse 1.000000\n",
      "batch 3: train_acc 0.1023, train_mse 1.000000\n",
      "batch 4: train_acc 0.1063, train_mse 1.000000\n",
      "batch 5: train_acc 0.1055, train_mse 1.000000\n",
      "batch 6: train_acc 0.1086, train_mse 1.000000\n",
      "iter 0 done. took 630s test_acc 0.6570\n",
      "\n",
      "iter 1 ==========================\n",
      "batch 0: train_acc 0.6945, train_mse 0.230021\n",
      "batch 1: train_acc 0.6820, train_mse 0.229634\n",
      "batch 2: train_acc 0.6617, train_mse 0.232192\n",
      "batch 3: train_acc 0.6844, train_mse 0.231658\n",
      "batch 4: train_acc 0.6617, train_mse 0.233073\n",
      "batch 5: train_acc 0.6609, train_mse 0.234637\n",
      "batch 6: train_acc 0.6672, train_mse 0.234089\n",
      "iter 1 done. took 627s test_acc 0.6890\n",
      "\n",
      "iter 2 ==========================\n",
      "batch 0: train_acc 0.7398, train_mse 0.210167\n",
      "batch 1: train_acc 0.7594, train_mse 0.208906\n",
      "batch 2: train_acc 0.7469, train_mse 0.209019\n",
      "batch 3: train_acc 0.7258, train_mse 0.212323\n",
      "batch 4: train_acc 0.7227, train_mse 0.214496\n",
      "batch 5: train_acc 0.7148, train_mse 0.212550\n",
      "batch 6: train_acc 0.7289, train_mse 0.212665\n",
      "iter 2 done. took 627s test_acc 0.7060\n",
      "\n",
      "iter 3 ==========================\n",
      "batch 0: train_acc 0.7734, train_mse 0.197508\n",
      "batch 1: train_acc 0.7727, train_mse 0.197043\n",
      "batch 2: train_acc 0.7625, train_mse 0.198872\n",
      "batch 3: train_acc 0.7523, train_mse 0.201083\n",
      "batch 4: train_acc 0.7609, train_mse 0.201622\n",
      "batch 5: train_acc 0.7602, train_mse 0.199801\n",
      "batch 6: train_acc 0.7336, train_mse 0.205749\n",
      "iter 3 done. took 627s test_acc 0.7090\n",
      "\n",
      "iter 4 ==========================\n",
      "batch 0: train_acc 0.7977, train_mse 0.188870\n",
      "batch 1: train_acc 0.8070, train_mse 0.189177\n",
      "batch 2: train_acc 0.7906, train_mse 0.192542\n",
      "batch 3: train_acc 0.7750, train_mse 0.196690\n",
      "batch 4: train_acc 0.7727, train_mse 0.194398\n",
      "batch 5: train_acc 0.7727, train_mse 0.191532\n",
      "batch 6: train_acc 0.7672, train_mse 0.195072\n",
      "iter 4 done. took 627s test_acc 0.7140\n",
      "\n",
      "iter 5 ==========================\n",
      "batch 0: train_acc 0.7875, train_mse 0.187409\n",
      "batch 1: train_acc 0.8063, train_mse 0.182657\n",
      "batch 2: train_acc 0.8195, train_mse 0.180106\n",
      "batch 3: train_acc 0.7961, train_mse 0.188681\n",
      "batch 4: train_acc 0.7961, train_mse 0.186156\n",
      "batch 5: train_acc 0.8008, train_mse 0.186560\n",
      "batch 6: train_acc 0.7945, train_mse 0.187475\n",
      "iter 5 done. took 627s test_acc 0.7170\n",
      "\n",
      "iter 6 ==========================\n",
      "batch 0: train_acc 0.8250, train_mse 0.179773\n",
      "batch 1: train_acc 0.8297, train_mse 0.178388\n",
      "batch 2: train_acc 0.8305, train_mse 0.178857\n",
      "batch 3: train_acc 0.8016, train_mse 0.183270\n",
      "batch 4: train_acc 0.8047, train_mse 0.184140\n",
      "batch 5: train_acc 0.8156, train_mse 0.180444\n",
      "batch 6: train_acc 0.8055, train_mse 0.180003\n",
      "iter 6 done. took 627s test_acc 0.7240\n",
      "\n",
      "iter 7 ==========================\n",
      "batch 0: train_acc 0.8219, train_mse 0.176705\n",
      "batch 1: train_acc 0.8344, train_mse 0.172505\n",
      "batch 2: train_acc 0.8422, train_mse 0.172355\n",
      "batch 3: train_acc 0.8266, train_mse 0.176559\n",
      "batch 4: train_acc 0.8125, train_mse 0.178289\n",
      "batch 5: train_acc 0.8266, train_mse 0.175365\n",
      "batch 6: train_acc 0.8078, train_mse 0.179144\n",
      "iter 7 done. took 627s test_acc 0.7320\n",
      "\n",
      "iter 8 ==========================\n",
      "batch 0: train_acc 0.8422, train_mse 0.173064\n",
      "batch 1: train_acc 0.8383, train_mse 0.171276\n",
      "batch 2: train_acc 0.8406, train_mse 0.168334\n",
      "batch 3: train_acc 0.8344, train_mse 0.171212\n",
      "batch 4: train_acc 0.8234, train_mse 0.171870\n",
      "batch 5: train_acc 0.8414, train_mse 0.168768\n",
      "batch 6: train_acc 0.8328, train_mse 0.173765\n",
      "iter 8 done. took 627s test_acc 0.7340\n",
      "\n",
      "iter 9 ==========================\n",
      "batch 0: train_acc 0.8500, train_mse 0.164879\n",
      "batch 1: train_acc 0.8609, train_mse 0.164670\n",
      "batch 2: train_acc 0.8602, train_mse 0.165061\n",
      "batch 3: train_acc 0.8469, train_mse 0.169882\n",
      "batch 4: train_acc 0.8641, train_mse 0.168871\n",
      "batch 5: train_acc 0.8445, train_mse 0.168475\n",
      "batch 6: train_acc 0.8281, train_mse 0.170304\n",
      "iter 9 done. took 627s test_acc 0.7300\n",
      "\n"
     ]
    }
   ],
   "source": [
    "boosting(estimator, train_loader, X_test, labels_test)"
   ]
  },
  {
   "cell_type": "code",
   "execution_count": 14,
   "metadata": {},
   "outputs": [
    {
     "name": "stdout",
     "output_type": "stream",
     "text": [
      "iter 0 ==========================\n",
      "batch 0: train_acc 0.8664, train_mse 0.160979\n",
      "batch 1: train_acc 0.8602, train_mse 0.162237\n",
      "batch 2: train_acc 0.8539, train_mse 0.163230\n",
      "batch 3: train_acc 0.8453, train_mse 0.167403\n",
      "batch 4: train_acc 0.8555, train_mse 0.163886\n",
      "batch 5: train_acc 0.8516, train_mse 0.164142\n",
      "batch 6: train_acc 0.8484, train_mse 0.163351\n",
      "iter 0 done. took 628s test_acc 0.7280\n",
      "\n",
      "iter 1 ==========================\n",
      "batch 0: train_acc 0.8641, train_mse 0.158279\n",
      "batch 1: train_acc 0.8680, train_mse 0.157631\n",
      "batch 2: train_acc 0.8727, train_mse 0.158165\n",
      "batch 3: train_acc 0.8672, train_mse 0.160398\n",
      "batch 4: train_acc 0.8695, train_mse 0.161058\n",
      "batch 5: train_acc 0.8625, train_mse 0.159203\n",
      "batch 6: train_acc 0.8688, train_mse 0.160781\n",
      "iter 1 done. took 627s test_acc 0.7360\n",
      "\n",
      "iter 2 ==========================\n",
      "batch 0: train_acc 0.8781, train_mse 0.157369\n",
      "batch 1: train_acc 0.8758, train_mse 0.155880\n",
      "batch 2: train_acc 0.8727, train_mse 0.156660\n",
      "batch 3: train_acc 0.8602, train_mse 0.157308\n",
      "batch 4: train_acc 0.8578, train_mse 0.160059\n",
      "batch 5: train_acc 0.8625, train_mse 0.159050\n",
      "batch 6: train_acc 0.8727, train_mse 0.158291\n",
      "iter 2 done. took 627s test_acc 0.7420\n",
      "\n",
      "iter 3 ==========================\n",
      "batch 0: train_acc 0.8797, train_mse 0.155567\n",
      "batch 1: train_acc 0.8781, train_mse 0.153480\n",
      "batch 2: train_acc 0.9031, train_mse 0.151057\n",
      "batch 3: train_acc 0.8742, train_mse 0.157775\n",
      "batch 4: train_acc 0.8766, train_mse 0.156732\n",
      "batch 5: train_acc 0.8719, train_mse 0.155898\n",
      "batch 6: train_acc 0.8570, train_mse 0.158740\n",
      "iter 3 done. took 627s test_acc 0.7430\n",
      "\n",
      "iter 4 ==========================\n",
      "batch 0: train_acc 0.8859, train_mse 0.152688\n",
      "batch 1: train_acc 0.8953, train_mse 0.150113\n",
      "batch 2: train_acc 0.8922, train_mse 0.150463\n",
      "batch 3: train_acc 0.8836, train_mse 0.153402\n",
      "batch 4: train_acc 0.8898, train_mse 0.150868\n",
      "batch 5: train_acc 0.8922, train_mse 0.149789\n",
      "batch 6: train_acc 0.8633, train_mse 0.154158\n",
      "iter 4 done. took 627s test_acc 0.7460\n",
      "\n"
     ]
    }
   ],
   "source": [
    "boosting(estimator, train_loader, X_test, labels_test, n_iter=5)"
   ]
  },
  {
   "cell_type": "markdown",
   "metadata": {},
   "source": [
    "## Full Cifar"
   ]
  },
  {
   "cell_type": "code",
   "execution_count": 53,
   "metadata": {},
   "outputs": [
    {
     "name": "stdout",
     "output_type": "stream",
     "text": [
      "Files already downloaded and verified\n",
      "Files already downloaded and verified\n",
      "CPU times: user 3min 53s, sys: 1min 4s, total: 4min 57s\n",
      "Wall time: 44.7 s\n"
     ]
    }
   ],
   "source": [
    "%%time\n",
    "\n",
    "X_train, labels_train, X_test, labels_test = get_cifar_zca()\n",
    "\n",
    "X_train      = torch.tensor(X_train).float()\n",
    "labels_train = torch.tensor(labels_train, dtype=torch.long)\n",
    "\n",
    "X_test       = torch.tensor(X_test).float()\n",
    "labels_test  = torch.tensor(labels_test,  dtype=torch.long)\n",
    "\n",
    "num_classes = 10\n",
    "\n",
    "y_train = np.load('../data/cifar10_targets_2.npz')['targets']"
   ]
  },
  {
   "cell_type": "code",
   "execution_count": 54,
   "metadata": {},
   "outputs": [
    {
     "name": "stderr",
     "output_type": "stream",
     "text": [
      "/home/maxkvant/.local/lib/python3.6/site-packages/ipykernel_launcher.py:1: UserWarning: To copy construct from a tensor, it is recommended to use sourceTensor.clone().detach() or sourceTensor.clone().detach().requires_grad_(True), rather than torch.tensor(sourceTensor).\n",
      "  \"\"\"Entry point for launching an IPython kernel.\n"
     ]
    }
   ],
   "source": [
    "cifar_train = CustomTensorDataset(torch.tensor(X_train), torch.tensor(y_train).float(), transform='all')\n",
    "train_loader = torch.utils.data.DataLoader(cifar_train, batch_size=1280 * 4)"
   ]
  },
  {
   "cell_type": "code",
   "execution_count": 55,
   "metadata": {},
   "outputs": [],
   "source": [
    "n_models = 5000\n",
    "\n",
    "models = [Myrtle5(num_filters=32) for _ in range(n_models)]\n",
    "\n",
    "estimator = GpEstimator(models, num_classes, 0.2, X_train[0], device)"
   ]
  },
  {
   "cell_type": "code",
   "execution_count": null,
   "metadata": {},
   "outputs": [
    {
     "name": "stdout",
     "output_type": "stream",
     "text": [
      "iter 0 ==========================\n",
      "batch 0: train_acc 0.0977, train_mse 7.183765\n",
      "batch 1: train_acc 0.1037, train_mse 7.173288\n",
      "batch 2: train_acc 0.1029, train_mse 7.183653\n",
      "batch 3: train_acc 0.1004, train_mse 7.181955\n",
      "batch 4: train_acc 0.1016, train_mse 7.197064\n",
      "batch 5: train_acc 0.1010, train_mse 7.201131\n",
      "batch 6: train_acc 0.0965, train_mse 7.186081\n",
      "iter 0 done. took 1963s test_acc 0.7551\n",
      "\n",
      "iter 1 ==========================\n",
      "batch 0: train_acc 0.7465, train_mse 3.208277\n",
      "batch 1: train_acc 0.7422, train_mse 3.197524\n",
      "batch 2: train_acc 0.7396, train_mse 3.212036\n",
      "batch 3: train_acc 0.7422, train_mse 3.225447\n",
      "batch 4: train_acc 0.7465, train_mse 3.165678\n",
      "batch 5: train_acc 0.7535, train_mse 3.169508\n",
      "batch 6: train_acc 0.7311, train_mse 3.251191\n",
      "iter 1 done. took 1961s test_acc 0.7846\n",
      "\n",
      "iter 2 ==========================\n",
      "batch 0: train_acc 0.7871, train_mse 2.955115\n",
      "batch 1: train_acc 0.7787, train_mse 2.925481\n",
      "batch 2: train_acc 0.7879, train_mse 2.927252\n",
      "batch 3: train_acc 0.7828, train_mse 2.987892\n",
      "batch 4: train_acc 0.7807, train_mse 2.910008\n",
      "batch 5: train_acc 0.7789, train_mse 2.939340\n",
      "batch 6: train_acc 0.7729, train_mse 2.977910\n",
      "iter 2 done. took 1961s test_acc 0.7937\n",
      "\n",
      "iter 3 ==========================\n",
      "batch 0: train_acc 0.8082, train_mse 2.802777\n",
      "batch 1: train_acc 0.7963, train_mse 2.777289\n",
      "batch 2: train_acc 0.8023, train_mse 2.775754\n",
      "batch 3: train_acc 0.8064, train_mse 2.828832\n",
      "batch 4: train_acc 0.7990, train_mse 2.770394\n",
      "batch 5: train_acc 0.8096, train_mse 2.769467\n",
      "batch 6: train_acc 0.8000, train_mse 2.826620\n",
      "iter 3 done. took 1961s test_acc 0.8019\n",
      "\n",
      "iter 4 ==========================\n",
      "batch 0: train_acc 0.8209, train_mse 2.698126\n",
      "batch 1: train_acc 0.8189, train_mse 2.672081\n",
      "batch 2: train_acc 0.8152, train_mse 2.718831\n",
      "batch 3: train_acc 0.8158, train_mse 2.692998\n",
      "batch 4: train_acc 0.8139, train_mse 2.657627\n",
      "batch 5: train_acc 0.8154, train_mse 2.701698\n",
      "batch 6: train_acc 0.8148, train_mse 2.719766\n",
      "iter 4 done. took 1961s test_acc 0.8092\n",
      "\n",
      "iter 5 ==========================\n",
      "batch 0: train_acc 0.8287, train_mse 2.617955\n",
      "batch 1: train_acc 0.8148, train_mse 2.644360\n",
      "batch 2: train_acc 0.8268, train_mse 2.655775\n",
      "batch 3: train_acc 0.8344, train_mse 2.604686\n",
      "batch 4: train_acc 0.8324, train_mse 2.588923\n",
      "batch 5: train_acc 0.8307, train_mse 2.609386\n",
      "batch 6: train_acc 0.8262, train_mse 2.655993\n",
      "iter 5 done. took 1961s test_acc 0.8129\n",
      "\n",
      "iter 6 ==========================\n",
      "batch 0: train_acc 0.8395, train_mse 2.556474\n",
      "batch 1: train_acc 0.8361, train_mse 2.555691\n",
      "batch 2: train_acc 0.8268, train_mse 2.569592\n",
      "batch 3: train_acc 0.8471, train_mse 2.571348\n",
      "batch 4: train_acc 0.8396, train_mse 2.518626\n",
      "batch 5: train_acc 0.8424, train_mse 2.558311\n",
      "batch 6: train_acc 0.8301, train_mse 2.599141\n",
      "iter 6 done. took 1961s test_acc 0.8158\n",
      "\n",
      "iter 7 ==========================\n",
      "batch 0: train_acc 0.8479, train_mse 2.509522\n",
      "batch 1: train_acc 0.8398, train_mse 2.487020\n",
      "batch 2: train_acc 0.8412, train_mse 2.504255\n",
      "batch 3: train_acc 0.8408, train_mse 2.525179\n",
      "batch 4: train_acc 0.8514, train_mse 2.456285\n",
      "batch 5: train_acc 0.8453, train_mse 2.510275\n",
      "batch 6: train_acc 0.8408, train_mse 2.529348\n",
      "iter 7 done. took 1961s test_acc 0.8171\n",
      "\n",
      "iter 8 ==========================\n",
      "batch 0: train_acc 0.8508, train_mse 2.452471\n",
      "batch 1: train_acc 0.8404, train_mse 2.473105\n",
      "batch 2: train_acc 0.8477, train_mse 2.455289\n",
      "batch 3: train_acc 0.8516, train_mse 2.485857\n",
      "batch 4: train_acc 0.8535, train_mse 2.447262\n",
      "batch 5: train_acc 0.8564, train_mse 2.473212\n",
      "batch 6: train_acc 0.8449, train_mse 2.508057\n",
      "iter 8 done. took 1961s test_acc 0.8187\n",
      "\n",
      "iter 9 ==========================\n",
      "batch 0: train_acc 0.8545, train_mse 2.454274\n",
      "batch 1: train_acc 0.8471, train_mse 2.433986\n",
      "batch 2: train_acc 0.8518, train_mse 2.445002\n",
      "batch 3: train_acc 0.8580, train_mse 2.451249\n",
      "batch 4: train_acc 0.8598, train_mse 2.401463\n",
      "batch 5: train_acc 0.8590, train_mse 2.426768\n",
      "batch 6: train_acc 0.8572, train_mse 2.437868\n",
      "iter 9 done. took 1961s test_acc 0.8188\n",
      "\n",
      "iter 10 ==========================\n",
      "batch 0: train_acc 0.8586, train_mse 2.406268\n",
      "batch 1: train_acc 0.8576, train_mse 2.380362\n",
      "batch 2: train_acc 0.8600, train_mse 2.416378\n",
      "batch 3: train_acc 0.8627, train_mse 2.402477\n",
      "batch 4: train_acc 0.8604, train_mse 2.356282\n",
      "batch 5: train_acc 0.8637, train_mse 2.384617\n",
      "batch 6: train_acc 0.8652, train_mse 2.424578\n",
      "iter 10 done. took 1961s test_acc 0.8230\n",
      "\n",
      "iter 11 ==========================\n",
      "batch 0: train_acc 0.8725, train_mse 2.351239\n",
      "batch 1: train_acc 0.8564, train_mse 2.404457\n",
      "batch 2: train_acc 0.8598, train_mse 2.399886\n",
      "batch 3: train_acc 0.8584, train_mse 2.403200\n",
      "batch 4: train_acc 0.8637, train_mse 2.355557\n",
      "batch 5: train_acc 0.8678, train_mse 2.356431\n",
      "batch 6: train_acc 0.8559, train_mse 2.409061\n",
      "iter 11 done. took 1961s test_acc 0.8233\n",
      "\n",
      "iter 12 ==========================\n",
      "batch 0: train_acc 0.8695, train_mse 2.367687\n",
      "batch 1: train_acc 0.8682, train_mse 2.334985\n",
      "batch 2: train_acc 0.8631, train_mse 2.366822\n",
      "batch 3: train_acc 0.8658, train_mse 2.360280\n",
      "batch 4: train_acc 0.8746, train_mse 2.313313\n",
      "batch 5: train_acc 0.8783, train_mse 2.350461\n",
      "batch 6: train_acc 0.8678, train_mse 2.351865\n",
      "iter 12 done. took 1961s test_acc 0.8265\n",
      "\n",
      "iter 13 ==========================\n",
      "batch 0: train_acc 0.8738, train_mse 2.318328\n",
      "batch 1: train_acc 0.8697, train_mse 2.302518\n",
      "batch 2: train_acc 0.8723, train_mse 2.327796\n",
      "batch 3: train_acc 0.8672, train_mse 2.349604\n",
      "batch 4: train_acc 0.8703, train_mse 2.321295\n",
      "batch 5: train_acc 0.8754, train_mse 2.304821\n",
      "batch 6: train_acc 0.8664, train_mse 2.337545\n"
     ]
    }
   ],
   "source": [
    "boosting(estimator, train_loader, X_test, labels_test, n_iter=96)"
   ]
  },
  {
   "cell_type": "markdown",
   "metadata": {},
   "source": [
    "## Log Reg"
   ]
  },
  {
   "cell_type": "code",
   "execution_count": 32,
   "metadata": {},
   "outputs": [
    {
     "name": "stdout",
     "output_type": "stream",
     "text": [
      "iter 0 ======================= \n",
      "train_acc 0.09921874850988388\n",
      "batch_0 took 57.80506658554077s\n",
      "\n",
      "train_acc 0.09140624850988388\n",
      "batch_1 took 55.33869671821594s\n",
      "\n",
      "train_acc 0.1328125\n",
      "batch_2 took 55.32820272445679s\n",
      "\n",
      "train_acc 0.09296875447034836\n",
      "batch_3 took 55.33759117126465s\n",
      "\n",
      "train_acc 0.09375\n",
      "batch_4 took 55.329872846603394s\n",
      "\n",
      "train_acc 0.1171875\n",
      "batch_5 took 55.33920168876648s\n",
      "\n",
      "train_acc 0.09765625\n",
      "batch_6 took 55.32954454421997s\n",
      "\n",
      "train_acc 0.17734375596046448\n",
      "batch_7 took 55.33659553527832s\n",
      "\n",
      "train_acc 0.09375\n",
      "batch_8 took 55.32691836357117s\n",
      "\n",
      "train_acc 0.17499999701976776\n",
      "batch_9 took 55.34224081039429s\n",
      "\n",
      "iter 0 done, test_acc = 0.1120000034570694\n",
      "iter 1 ======================= \n",
      "train_acc 0.11015625298023224\n",
      "batch_0 took 55.32840847969055s\n",
      "\n"
     ]
    },
    {
     "ename": "KeyboardInterrupt",
     "evalue": "",
     "output_type": "error",
     "traceback": [
      "\u001b[0;31m---------------------------------------------------------------------------\u001b[0m",
      "\u001b[0;31mKeyboardInterrupt\u001b[0m                         Traceback (most recent call last)",
      "\u001b[0;32m<ipython-input-32-9519a5e3e32e>\u001b[0m in \u001b[0;36m<module>\u001b[0;34m\u001b[0m\n\u001b[1;32m     17\u001b[0m         \u001b[0mlabels\u001b[0m \u001b[0;34m=\u001b[0m \u001b[0mlabels\u001b[0m\u001b[0;34m.\u001b[0m\u001b[0mto\u001b[0m\u001b[0;34m(\u001b[0m\u001b[0mdevice\u001b[0m\u001b[0;34m)\u001b[0m\u001b[0;34m\u001b[0m\u001b[0;34m\u001b[0m\u001b[0m\n\u001b[1;32m     18\u001b[0m \u001b[0;34m\u001b[0m\u001b[0m\n\u001b[0;32m---> 19\u001b[0;31m         \u001b[0my_pred\u001b[0m \u001b[0;34m=\u001b[0m \u001b[0mestimator\u001b[0m\u001b[0;34m.\u001b[0m\u001b[0mpredict\u001b[0m\u001b[0;34m(\u001b[0m\u001b[0mX\u001b[0m\u001b[0;34m)\u001b[0m\u001b[0;34m\u001b[0m\u001b[0;34m\u001b[0m\u001b[0m\n\u001b[0m\u001b[1;32m     20\u001b[0m         \u001b[0mtrain_acc\u001b[0m \u001b[0;34m=\u001b[0m \u001b[0;34m(\u001b[0m\u001b[0my_pred\u001b[0m\u001b[0;34m.\u001b[0m\u001b[0margmax\u001b[0m\u001b[0;34m(\u001b[0m\u001b[0mdim\u001b[0m\u001b[0;34m=\u001b[0m\u001b[0;36m1\u001b[0m\u001b[0;34m)\u001b[0m \u001b[0;34m==\u001b[0m \u001b[0mlabels\u001b[0m\u001b[0;34m)\u001b[0m\u001b[0;34m.\u001b[0m\u001b[0mfloat\u001b[0m\u001b[0;34m(\u001b[0m\u001b[0;34m)\u001b[0m\u001b[0;34m.\u001b[0m\u001b[0mmean\u001b[0m\u001b[0;34m(\u001b[0m\u001b[0;34m)\u001b[0m\u001b[0;34m.\u001b[0m\u001b[0mitem\u001b[0m\u001b[0;34m(\u001b[0m\u001b[0;34m)\u001b[0m\u001b[0;34m\u001b[0m\u001b[0;34m\u001b[0m\u001b[0m\n\u001b[1;32m     21\u001b[0m         \u001b[0mprint\u001b[0m\u001b[0;34m(\u001b[0m\u001b[0;34mf\"train_acc {train_acc}\"\u001b[0m\u001b[0;34m)\u001b[0m\u001b[0;34m\u001b[0m\u001b[0;34m\u001b[0m\u001b[0m\n",
      "\u001b[0;32m<ipython-input-17-3e9447a2e52e>\u001b[0m in \u001b[0;36mpredict\u001b[0;34m(self, X)\u001b[0m\n\u001b[1;32m     72\u001b[0m \u001b[0;34m\u001b[0m\u001b[0m\n\u001b[1;32m     73\u001b[0m             \u001b[0;32mfor\u001b[0m \u001b[0mmodel\u001b[0m\u001b[0;34m,\u001b[0m \u001b[0mw\u001b[0m \u001b[0;32min\u001b[0m \u001b[0mzip\u001b[0m\u001b[0;34m(\u001b[0m\u001b[0mmodels\u001b[0m\u001b[0;34m,\u001b[0m \u001b[0mself\u001b[0m\u001b[0;34m.\u001b[0m\u001b[0mw\u001b[0m\u001b[0;34m)\u001b[0m\u001b[0;34m:\u001b[0m\u001b[0;34m\u001b[0m\u001b[0;34m\u001b[0m\u001b[0m\n\u001b[0;32m---> 74\u001b[0;31m                 \u001b[0mfeatures\u001b[0m \u001b[0;34m=\u001b[0m \u001b[0mself\u001b[0m\u001b[0;34m.\u001b[0m\u001b[0mto_model_features\u001b[0m\u001b[0;34m(\u001b[0m\u001b[0mX\u001b[0m\u001b[0;34m,\u001b[0m \u001b[0mmodel\u001b[0m\u001b[0;34m)\u001b[0m\u001b[0;34m\u001b[0m\u001b[0;34m\u001b[0m\u001b[0m\n\u001b[0m\u001b[1;32m     75\u001b[0m                 \u001b[0mres\u001b[0m \u001b[0;34m+=\u001b[0m \u001b[0mtorch\u001b[0m\u001b[0;34m.\u001b[0m\u001b[0mmatmul\u001b[0m\u001b[0;34m(\u001b[0m\u001b[0mfeatures\u001b[0m\u001b[0;34m,\u001b[0m \u001b[0mw\u001b[0m\u001b[0;34m)\u001b[0m\u001b[0;34m\u001b[0m\u001b[0;34m\u001b[0m\u001b[0m\n\u001b[1;32m     76\u001b[0m             \u001b[0;32mreturn\u001b[0m \u001b[0mres\u001b[0m\u001b[0;34m\u001b[0m\u001b[0;34m\u001b[0m\u001b[0m\n",
      "\u001b[0;32m<ipython-input-17-3e9447a2e52e>\u001b[0m in \u001b[0;36mto_model_features\u001b[0;34m(self, X, model)\u001b[0m\n\u001b[1;32m     37\u001b[0m         \u001b[0;32mwith\u001b[0m \u001b[0mtorch\u001b[0m\u001b[0;34m.\u001b[0m\u001b[0mno_grad\u001b[0m\u001b[0;34m(\u001b[0m\u001b[0;34m)\u001b[0m\u001b[0;34m:\u001b[0m\u001b[0;34m\u001b[0m\u001b[0;34m\u001b[0m\u001b[0m\n\u001b[1;32m     38\u001b[0m             \u001b[0mmodel\u001b[0m \u001b[0;34m=\u001b[0m \u001b[0mmodel\u001b[0m\u001b[0;34m.\u001b[0m\u001b[0mto\u001b[0m\u001b[0;34m(\u001b[0m\u001b[0mdevice\u001b[0m\u001b[0;34m)\u001b[0m\u001b[0;34m\u001b[0m\u001b[0;34m\u001b[0m\u001b[0m\n\u001b[0;32m---> 39\u001b[0;31m             \u001b[0;32mreturn\u001b[0m \u001b[0mmodel\u001b[0m\u001b[0;34m.\u001b[0m\u001b[0mreadout\u001b[0m\u001b[0;34m(\u001b[0m\u001b[0mX\u001b[0m\u001b[0;34m)\u001b[0m \u001b[0;34m*\u001b[0m \u001b[0;34m(\u001b[0m\u001b[0;36m1.\u001b[0m \u001b[0;34m/\u001b[0m \u001b[0mnp\u001b[0m\u001b[0;34m.\u001b[0m\u001b[0msqrt\u001b[0m\u001b[0;34m(\u001b[0m\u001b[0mself\u001b[0m\u001b[0;34m.\u001b[0m\u001b[0mw_size\u001b[0m\u001b[0;34m)\u001b[0m\u001b[0;34m)\u001b[0m\u001b[0;34m\u001b[0m\u001b[0;34m\u001b[0m\u001b[0m\n\u001b[0m\u001b[1;32m     40\u001b[0m \u001b[0;34m\u001b[0m\u001b[0m\n\u001b[1;32m     41\u001b[0m     \u001b[0;32mdef\u001b[0m \u001b[0mcalc_kernel\u001b[0m\u001b[0;34m(\u001b[0m\u001b[0mself\u001b[0m\u001b[0;34m,\u001b[0m \u001b[0mX\u001b[0m\u001b[0;34m)\u001b[0m\u001b[0;34m:\u001b[0m\u001b[0;34m\u001b[0m\u001b[0;34m\u001b[0m\u001b[0m\n",
      "\u001b[0;31mKeyboardInterrupt\u001b[0m: "
     ]
    }
   ],
   "source": [
    "n_models = 5000\n",
    "\n",
    "models = [Myrtle5(num_filters=32) for _ in range(n_models)]\n",
    "\n",
    "learning_rate = 0.2\n",
    "estimator = GpEstimator(models, num_classes, learning_rate, X_train[0], device)\n",
    "\n",
    "n_iter = 20\n",
    "\n",
    "for iter_ in range(n_iter):\n",
    "    print(f\"iter {iter_} ======================= \")\n",
    "    \n",
    "    for batch_i, (X, labels) in enumerate(train_loader):\n",
    "        batch_start = time.time()\n",
    "        \n",
    "        X      = X.to(device)\n",
    "        labels = labels.to(device)\n",
    "        \n",
    "        y_pred = estimator.predict(X)\n",
    "        train_acc = (y_pred.argmax(dim=1) == labels).float().mean().item()\n",
    "        print(f\"train_acc {train_acc}\")\n",
    "        \n",
    "        y_pred.requires_grad = True\n",
    "\n",
    "        loss = nn.CrossEntropyLoss()(y_pred, labels)\n",
    "        loss.backward()\n",
    "        grad = y_pred.grad\n",
    "        \n",
    "        estimator.w += -learning_rate * estimator.get_w_update(X, grad)\n",
    "        \n",
    "        print(f\"batch_{batch_i} took {time.time() - batch_start:0}s\")\n",
    "        print()\n",
    "        \n",
    "    y_pred = estimator.predict(X_test)\n",
    "    test_acc = (y_pred.argmax(dim=1) == labels_test.to(device)).float().mean().item()\n",
    "    print(f\"iter {iter_} done, test_acc = {test_acc}\")"
   ]
  },
  {
   "cell_type": "markdown",
   "metadata": {},
   "source": [
    "## Matrix exp"
   ]
  },
  {
   "cell_type": "code",
   "execution_count": null,
   "metadata": {},
   "outputs": [],
   "source": [
    "%%time\n",
    "\n",
    "X_train, labels_train, X_test, labels_test = get_cifar_zca()\n",
    "\n",
    "N = 1280\n",
    "\n",
    "X_train      = torch.tensor(X_train[:N]).float()\n",
    "X_test       = torch.tensor(X_test[:N]).float()\n",
    "labels_train = torch.tensor(labels_train[:N], dtype=torch.long)\n",
    "labels_test  = torch.tensor(labels_test[:N],  dtype=torch.long)\n",
    "\n",
    "num_classes = 10\n",
    "\n",
    "y_train = to_one_hot(labels_train, num_classes).to(device)\n",
    "y_test  = to_one_hot(labels_test,  num_classes).to(device)"
   ]
  },
  {
   "cell_type": "code",
   "execution_count": 9,
   "metadata": {},
   "outputs": [],
   "source": [
    "n_models = 5000\n",
    "\n",
    "models = [Myrtle5(num_filters=32) for _ in range(n_models)]\n",
    "\n",
    "estimator = GpEstimator(models, num_classes, 1e4, X_train[0], device)"
   ]
  },
  {
   "cell_type": "code",
   "execution_count": 10,
   "metadata": {},
   "outputs": [
    {
     "name": "stdout",
     "output_type": "stream",
     "text": [
      "tensor(0.6102)\n",
      "\n",
      "CPU times: user 1min 16s, sys: 25.5 s, total: 1min 42s\n",
      "Wall time: 1min 42s\n"
     ]
    }
   ],
   "source": [
    "%%time\n",
    "train_kernel, test_kernel = estimator.calc_kernels(X_train, X_test)\n",
    "\n",
    "right_vector = calc_right_vector(train_kernel, y_train, learning_rate=1e5, reg_param=0)\n",
    "y_pred = torch.matmul(test_kernel, right_vector).argmax(dim=1)\n",
    "\n",
    "test_acc = (y_pred.cpu() == labels_test).float().mean()\n",
    "print(test_acc)\n",
    "print()"
   ]
  },
  {
   "cell_type": "code",
   "execution_count": 11,
   "metadata": {},
   "outputs": [
    {
     "name": "stdout",
     "output_type": "stream",
     "text": [
      "torch.Size([5000, 32, 10])\n",
      "\n",
      "CPU times: user 34.7 s, sys: 14.7 s, total: 49.4 s\n",
      "Wall time: 49.4 s\n"
     ]
    }
   ],
   "source": [
    "%%time\n",
    "w_update = estimator.get_w_update(X_train, right_vector)\n",
    "\n",
    "print(w_update.size())\n",
    "print()"
   ]
  },
  {
   "cell_type": "code",
   "execution_count": 12,
   "metadata": {},
   "outputs": [],
   "source": [
    "estimator.w = w_update"
   ]
  },
  {
   "cell_type": "code",
   "execution_count": 13,
   "metadata": {},
   "outputs": [
    {
     "name": "stdout",
     "output_type": "stream",
     "text": [
      "tensor(0.6102)\n",
      "\n",
      "CPU times: user 35.2 s, sys: 14.9 s, total: 50.1 s\n",
      "Wall time: 50 s\n"
     ]
    }
   ],
   "source": [
    "%%time\n",
    "\n",
    "y_pred = estimator.predict(X_test).argmax(dim=1)\n",
    "\n",
    "test_acc = (y_pred.cpu() == labels_test).float().mean()\n",
    "print(test_acc)\n",
    "print()"
   ]
  }
 ],
 "metadata": {
  "kernelspec": {
   "display_name": "Python 3",
   "language": "python",
   "name": "python3"
  },
  "language_info": {
   "codemirror_mode": {
    "name": "ipython",
    "version": 3
   },
   "file_extension": ".py",
   "mimetype": "text/x-python",
   "name": "python",
   "nbconvert_exporter": "python",
   "pygments_lexer": "ipython3",
   "version": "3.6.9"
  }
 },
 "nbformat": 4,
 "nbformat_minor": 4
}
