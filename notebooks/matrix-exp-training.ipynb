{
 "cells": [
  {
   "cell_type": "code",
   "execution_count": 1,
   "metadata": {},
   "outputs": [],
   "source": [
    "import sys\n",
    "sys.path.append(\"../src\")"
   ]
  },
  {
   "cell_type": "code",
   "execution_count": 2,
   "metadata": {},
   "outputs": [],
   "source": [
    "%load_ext autoreload"
   ]
  },
  {
   "cell_type": "code",
   "execution_count": 34,
   "metadata": {},
   "outputs": [],
   "source": [
    "%autoreload 2\n",
    "\n",
    "import sys\n",
    "import numpy as np\n",
    "from PIL import Image\n",
    "\n",
    "import torch\n",
    "import torch.nn as nn\n",
    "from torchvision import transforms, datasets\n",
    "from torchvision.datasets import FashionMNIST\n",
    "\n",
    "import matplotlib.pyplot as plt\n",
    "from pytorch_impl.nns import FCN\n",
    "from pytorch_impl.nns import warm_up_batch_norm\n",
    "from pytorch_impl.estimators import MatrixExpEstimator\n",
    "from pytorch_impl import ClassifierTraining"
   ]
  },
  {
   "cell_type": "code",
   "execution_count": 35,
   "metadata": {},
   "outputs": [
    {
     "name": "stdout",
     "output_type": "stream",
     "text": [
      "Torch version: 1.3.1\n",
      "Device: cuda:0\n"
     ]
    },
    {
     "data": {
      "text/plain": [
       "device(type='cuda', index=0)"
      ]
     },
     "execution_count": 35,
     "metadata": {},
     "output_type": "execute_result"
    }
   ],
   "source": [
    "torch.manual_seed(0)\n",
    "\n",
    "num_classes = 10\n",
    "\n",
    "if torch.cuda.is_available():\n",
    "    device = torch.device('cuda:0')\n",
    "else:\n",
    "    device = torch.device('cpu')\n",
    "\n",
    "print('Torch version: {}'.format(torch.__version__))\n",
    "print('Device: {}'.format(device))\n",
    "\n",
    "train_loader = torch.utils.data.DataLoader(\n",
    "    FashionMNIST(root='.', train=True, download=True,\n",
    "          transform=transforms.ToTensor()),\n",
    "    batch_size=128, shuffle=True, pin_memory=True)\n",
    "\n",
    "test_loader = torch.utils.data.DataLoader(\n",
    "    FashionMNIST(root='.', train=False, transform=transforms.ToTensor()),\n",
    "    batch_size=128, shuffle=True, pin_memory=True)\n",
    "\n",
    "device"
   ]
  },
  {
   "cell_type": "code",
   "execution_count": 36,
   "metadata": {},
   "outputs": [],
   "source": [
    "D = 28\n",
    "\n",
    "model     = FCN(1, D * D).to(device)\n",
    "estimator = MatrixExpEstimator(model, num_classes, device, learning_rate=1.)"
   ]
  },
  {
   "cell_type": "code",
   "execution_count": 37,
   "metadata": {},
   "outputs": [
    {
     "name": "stdout",
     "output_type": "stream",
     "text": [
      "computing grads ... 1s\n",
      "exponentiating kernel matrix ... 1s\n"
     ]
    },
    {
     "data": {
      "text/plain": [
       "tensor([[-1.0166, -0.9979, -0.9911,  ..., -1.0180,  0.9994, -1.0009],\n",
       "        [-0.8780, -1.0145, -1.0089,  ..., -0.9971, -0.9901, -1.0115],\n",
       "        [-1.0338, -1.0043, -0.9544,  ...,  0.8854, -0.9954, -0.9459],\n",
       "        ...,\n",
       "        [-0.9925, -0.9975, -0.9937,  ..., -1.0044, -0.9993,  1.0045],\n",
       "        [ 1.0100, -1.0143, -1.0069,  ..., -0.9940, -1.0202, -1.0140],\n",
       "        [-0.9679,  1.0196, -1.0290,  ..., -0.9937, -0.9908, -1.0155]],\n",
       "       device='cuda:0', dtype=torch.float64)"
      ]
     },
     "execution_count": 37,
     "metadata": {},
     "output_type": "execute_result"
    }
   ],
   "source": [
    "_, (X, y) = next(enumerate(train_loader))\n",
    "X, y = X.to(device), y.to(device)\n",
    "\n",
    "estimator.predict(X)\n",
    "estimator.fit(X, y)\n",
    "estimator.predict(X)"
   ]
  },
  {
   "cell_type": "code",
   "execution_count": null,
   "metadata": {},
   "outputs": [],
   "source": []
  }
 ],
 "metadata": {
  "kernelspec": {
   "display_name": "Python 3",
   "language": "python",
   "name": "python3"
  },
  "language_info": {
   "codemirror_mode": {
    "name": "ipython",
    "version": 3
   },
   "file_extension": ".py",
   "mimetype": "text/x-python",
   "name": "python",
   "nbconvert_exporter": "python",
   "pygments_lexer": "ipython3",
   "version": "3.6.7"
  }
 },
 "nbformat": 4,
 "nbformat_minor": 2
}
