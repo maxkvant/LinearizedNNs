{
 "cells": [
  {
   "cell_type": "markdown",
   "metadata": {
    "colab_type": "text",
    "id": "QO6TsBeCK5Sq"
   },
   "source": [
    "## Download repo\n"
   ]
  },
  {
   "cell_type": "code",
   "execution_count": 1,
   "metadata": {
    "colab": {},
    "colab_type": "code",
    "id": "_Uua_GEmJuZJ"
   },
   "outputs": [],
   "source": [
    "import os\n",
    "import shutil\n",
    "import zipfile\n",
    "import urllib.request\n",
    "\n",
    "def download_repo(url, save_to):\n",
    "    zip_filename = save_to + '.zip'\n",
    "    urllib.request.urlretrieve(url, zip_filename)\n",
    "    \n",
    "    if os.path.exists(save_to):\n",
    "        shutil.rmtree(save_to)\n",
    "    with zipfile.ZipFile(zip_filename, 'r') as zip_ref:\n",
    "        zip_ref.extractall('.')\n",
    "    del zip_ref\n",
    "    assert os.path.exists(save_to)"
   ]
  },
  {
   "cell_type": "code",
   "execution_count": null,
   "metadata": {},
   "outputs": [],
   "source": [
    "REPO_PATH = 'LinearizedNNs-master'\n",
    "\n",
    "download_repo(url='https://github.com/maxkvant/LinearizedNNs/archive/master.zip',\n",
    "              save_to=REPO_PATH)"
   ]
  },
  {
   "cell_type": "markdown",
   "metadata": {
    "colab_type": "text",
    "id": "WTefKYSkK97l"
   },
   "source": [
    "## Imports"
   ]
  },
  {
   "cell_type": "code",
   "execution_count": 3,
   "metadata": {
    "colab": {},
    "colab_type": "code",
    "id": "2GUZzUEyJuA6"
   },
   "outputs": [],
   "source": [
    "import sys\n",
    "sys.path.append(f\"{REPO_PATH}/src\")"
   ]
  },
  {
   "cell_type": "code",
   "execution_count": 4,
   "metadata": {
    "colab": {
     "base_uri": "https://localhost:8080/",
     "height": 74
    },
    "colab_type": "code",
    "id": "RucjmvnTKf9T",
    "outputId": "c3d68fea-e033-4a76-e685-f0e670145b86"
   },
   "outputs": [],
   "source": [
    "import time\n",
    "import numpy as np\n",
    "import seaborn as sns\n",
    "from PIL import Image\n",
    "import matplotlib.pyplot as plt\n",
    "\n",
    "import torch\n",
    "import torch.nn as nn\n",
    "import torch.nn.functional as F\n",
    "from torchvision import transforms, datasets\n",
    "from torchvision.datasets import FashionMNIST\n",
    "\n",
    "\n",
    "from pytorch_impl.estimators import SgdEstimator\n",
    "from pytorch_impl.nns import warm_up_batch_norm\n",
    "from pytorch_impl import ClassifierTraining\n",
    "from pytorch_impl.matrix_exp import matrix_exp, compute_exp_term\n",
    "from pytorch_impl.nns.utils import to_one_hot\n",
    "from from_neural_kernels import to_zca, CustomTensorDataset"
   ]
  },
  {
   "cell_type": "code",
   "execution_count": 5,
   "metadata": {
    "colab": {},
    "colab_type": "code",
    "id": "yGDlFtGDJs9X"
   },
   "outputs": [],
   "source": []
  },
  {
   "cell_type": "code",
   "execution_count": 6,
   "metadata": {},
   "outputs": [],
   "source": [
<<<<<<< HEAD
    "class Flatten(nn.Module):\n",
    "    def forward(self, input):\n",
    "        return input.view(input.size(0), -1)\n",
    "\n",
    "def Conv(in_filters, out_filters, groups=1):\n",
    "    conv = nn.Conv2d(in_filters, out_filters, kernel_size=3, stride=1, padding=1, groups=groups, bias=False)\n",
    "    conv.weight.data *= np.sqrt(3)\n",
    "    return conv  \n",
    "\n",
    "class Normalize(nn.Module):\n",
    "    def forward(self, input):\n",
    "        return nn.functional.normalize(input, p=2, dim=1, eps=1e-8)  \n",
    "\n",
    "class ReLU2(nn.Module):\n",
    "    C = np.sqrt(2)\n",
    "\n",
    "    def forward(self, input):\n",
    "        return F.relu(input, inplace=True) * self.C\n",
    "\n",
    "class ResidualConnection(nn.Module):\n",
    "    def __init__(self, *layers):\n",
    "        super(ResidualConnection, self).__init__()\n",
    "        self.layers = nn.Sequential(*layers)\n",
    "    \n",
    "    def forward(self, input):\n",
    "        return (input + self.layers(input)) / 2."
   ]
  },
  {
   "cell_type": "code",
   "execution_count": 6,
   "metadata": {},
   "outputs": [],
   "source": [
=======
>>>>>>> 8920c23b834fc1dd74eef9ed31772cdb36c58afa
    "class Myrtle10(nn.Module):\n",
    "    def __init__(self, num_classes=10, input_filters=3, num_filters=256, groups=1):\n",
    "        super(Myrtle10, self).__init__()\n",
    "        filters = num_filters * groups\n",
    "\n",
    "        def Activation():\n",
    "            return ReLU2()\n",
    "\n",
    "        self.layers = nn.Sequential(\n",
    "            Conv(input_filters, filters), Activation(),\n",
    "\n",
    "            Conv(filters, filters, groups), Activation(),\n",
    "            Conv(filters, filters, groups), Activation(),\n",
    "            nn.AvgPool2d(kernel_size=2, stride=2),\n",
    "            \n",
    "            Conv(filters, filters, groups), Activation(),\n",
    "            Conv(filters, filters, groups), Activation(),\n",
    "            Conv(filters, filters, groups), Activation(),\n",
    "            nn.AvgPool2d(kernel_size=2, stride=2),\n",
    "            \n",
    "            Conv(filters, filters, groups), Activation(),\n",
    "            Conv(filters, filters, groups), Activation(),\n",
    "            Conv(filters, filters, groups), Activation(),\n",
    "            nn.AvgPool2d(kernel_size=8, stride=8),\n",
    "            \n",
    "            Normalize(),\n",
    "            Flatten()\n",
    "        )\n",
    "        self.classifier =  nn.Linear(num_filters, num_classes, bias=True)\n",
    "        \n",
    "    def readout(self, x):\n",
    "        return self.layers(x)\n",
    "\n",
    "    def forward(self, x):\n",
    "        x = self.readout(x)\n",
    "        return self.classifier(x)"
   ]
  },
  {
   "cell_type": "code",
   "execution_count": 7,
   "metadata": {
    "colab": {},
    "colab_type": "code",
    "id": "bxXS-6Im9WI_"
   },
   "outputs": [],
   "source": [
    "class Myrtle5(nn.Module):\n",
    "    def __init__(self, num_classes=10, input_filters=3, num_filters=256, groups=1):\n",
    "        super(Myrtle5, self).__init__()\n",
    "        filters = num_filters * groups\n",
    "\n",
    "        def Activation():\n",
    "            return ReLU2()\n",
    "\n",
    "        self.layers = nn.Sequential(\n",
    "            Conv(input_filters, filters),   Activation(),\n",
    "            Conv(filters, filters, groups), Activation(),\n",
    "            nn.AvgPool2d(kernel_size=2, stride=2),\n",
    "            \n",
    "            Conv(filters, filters, groups), Activation(),\n",
    "            nn.AvgPool2d(kernel_size=2, stride=2),\n",
    "            \n",
    "            Conv(filters, filters, groups), Activation(),\n",
    "            nn.AvgPool2d(kernel_size=8, stride=8),\n",
    "            \n",
    "            Normalize(),\n",
    "            Flatten()\n",
    "        )\n",
    "        self.classifier =  nn.Linear(num_filters, num_classes, bias=True)\n",
    "        \n",
    "    def readout(self, x):\n",
    "        return self.layers(x)\n",
    "\n",
    "    def forward(self, x):\n",
    "        x = self.readout(x)\n",
    "        return self.classifier(x)"
   ]
  },
  {
   "cell_type": "code",
   "execution_count": 8,
   "metadata": {
    "colab": {},
    "colab_type": "code",
    "id": "fB-JSFBGHn7A"
   },
   "outputs": [],
   "source": [
    "class Myrtle7(nn.Module):\n",
    "    def __init__(self, num_classes=10, input_filters=3, num_filters=256, groups=1):\n",
    "        super(Myrtle7, self).__init__()\n",
    "        filters = num_filters * groups\n",
    "\n",
    "        def Activation():\n",
    "            return ReLU2()\n",
    "\n",
    "        self.layers = nn.Sequential(\n",
    "            Conv(input_filters, filters),   Activation(),\n",
    "            Conv(filters, filters, groups), Activation(),\n",
    "            nn.AvgPool2d(kernel_size=2, stride=2),\n",
    "            \n",
    "            Conv(filters, filters, groups), Activation(),\n",
    "            Conv(filters, filters, groups), Activation(),\n",
    "            nn.AvgPool2d(kernel_size=2, stride=2),\n",
    "            \n",
    "            Conv(filters, filters, groups), Activation(),\n",
    "            Conv(filters, filters, groups), Activation(),\n",
    "            nn.AvgPool2d(kernel_size=8, stride=8),\n",
    "            \n",
    "            Normalize(),\n",
    "            Flatten()\n",
    "        )\n",
    "        self.classifier =  nn.Linear(num_filters, num_classes, bias=True)\n",
    "        \n",
    "    def readout(self, x):\n",
    "        return self.layers(x)\n",
    "\n",
    "    def forward(self, x):\n",
    "        x = self.readout(x)\n",
    "        return self.classifier(x)"
   ]
  },
  {
   "cell_type": "markdown",
   "metadata": {
    "colab_type": "text",
    "id": "o57Es5Z9ST6b"
   },
   "source": [
    "## Cifar10"
   ]
  },
  {
   "cell_type": "code",
   "execution_count": 9,
   "metadata": {
    "colab": {},
    "colab_type": "code",
    "id": "JnRBr9JvvTXN"
   },
   "outputs": [],
   "source": [
    "def get_cifar_zca():\n",
    "    trainset = datasets.CIFAR10(root='./data', train=True, download=True, transform=None)\n",
    "    testset  = datasets.CIFAR10(root='./data', train=False, download=True, transform=None)\n",
    "\n",
    "    X_train = np.asarray(trainset.data).astype(np.float64)\n",
    "    y_train = np.asarray(trainset.targets)\n",
    "    X_test  = np.asarray(testset.data).astype(np.float64)\n",
    "    y_test  = np.asarray(testset.targets)\n",
    "\n",
    "    (X_train, X_test), global_ZCA = to_zca(X_train, X_test)\n",
    "\n",
    "    X_train = np.transpose(X_train, (0,3,1,2))\n",
    "    X_test  = np.transpose(X_test,  (0,3,1,2))\n",
    "\n",
    "    return X_train, y_train, X_test, y_test"
   ]
  },
  {
   "cell_type": "code",
   "execution_count": 10,
   "metadata": {
    "colab": {
     "base_uri": "https://localhost:8080/",
     "height": 90
    },
    "colab_type": "code",
    "id": "W-q8tpxOvNz4",
    "outputId": "0b23a6bd-0655-4946-b0c6-40bf68599def"
   },
   "outputs": [
    {
     "name": "stdout",
     "output_type": "stream",
     "text": [
      "Files already downloaded and verified\n",
      "Files already downloaded and verified\n",
      "CPU times: user 3min 56s, sys: 1min 10s, total: 5min 6s\n",
      "Wall time: 46.6 s\n"
     ]
    }
   ],
   "source": [
    "%%time\n",
    "\n",
    "X_train, y_train, X_test, y_test = get_cifar_zca()"
   ]
  },
  {
   "cell_type": "code",
   "execution_count": 11,
   "metadata": {
    "colab": {
     "base_uri": "https://localhost:8080/",
     "height": 35
    },
    "colab_type": "code",
    "id": "IsQiD_vMYrep",
    "outputId": "72d0a95f-ab52-4c69-a7cb-8b344e82d0d0"
   },
   "outputs": [
    {
     "data": {
      "text/plain": [
       "device(type='cuda', index=0)"
      ]
     },
     "execution_count": 11,
     "metadata": {},
     "output_type": "execute_result"
    }
   ],
   "source": [
    "torch.manual_seed(0)\n",
    "\n",
    "if torch.cuda.is_available():\n",
    "    device = torch.device('cuda:0')\n",
    "else:\n",
    "    device = torch.device('cpu')\n",
    "\n",
    "cifar_train = CustomTensorDataset(torch.tensor(X_train), torch.tensor(y_train, dtype=torch.long), transform='all')\n",
    "cifar_test  = CustomTensorDataset(torch.tensor(X_test), torch.tensor(y_test, dtype=torch.long), transform=None)\n",
    "\n",
    "train_loader = torch.utils.data.DataLoader(cifar_train, batch_size=128, shuffle=True)\n",
    "test_loader  = torch.utils.data.DataLoader(cifar_test,  batch_size=128, shuffle=True)\n",
    "\n",
    "device"
   ]
  },
  {
   "cell_type": "code",
   "execution_count": 12,
   "metadata": {
    "colab": {
     "base_uri": "https://localhost:8080/",
     "height": 284
    },
    "colab_type": "code",
    "id": "zPAY9M9OBACI",
    "outputId": "5f66443b-e4bd-46a3-cd39-a8832358270d"
   },
   "outputs": [
    {
     "data": {
      "text/plain": [
       "0.046019558"
      ]
     },
     "execution_count": 12,
     "metadata": {},
     "output_type": "execute_result"
    },
    {
     "data": {
      "image/png": "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\n",
      "text/plain": [
       "<Figure size 432x288 with 1 Axes>"
      ]
     },
     "metadata": {
      "needs_background": "light"
     },
     "output_type": "display_data"
    }
   ],
   "source": [
    "model = Myrtle10(num_filters=128, groups=2).to(device)\n",
    "for batch_id, (X, y) in enumerate(train_loader):\n",
    "    if batch_id > 20:\n",
    "        break\n",
    "    X, y = X.to(device), y.to(device)\n",
    "    model.readout(X)\n",
    "\n",
    "_, (X, y) = next(enumerate(train_loader))\n",
    "X, y = X.to(device), y.to(device)\n",
    "\n",
    "\n",
    "output = model.readout(X).detach().cpu().numpy()\n",
    "sns.distplot(output.reshape(-1))\n",
    "\n",
    "np.std(output.reshape(-1))"
   ]
  },
  {
   "cell_type": "code",
   "execution_count": 13,
   "metadata": {
    "colab": {
     "base_uri": "https://localhost:8080/",
     "height": 254
    },
    "colab_type": "code",
    "id": "3UjKNNB55UcK",
    "outputId": "fd172ec4-e69a-4dc2-b325-b6387bbb6bab"
   },
   "outputs": [
    {
     "name": "stdout",
     "output_type": "stream",
     "text": [
      "torch.Size([64, 3, 3, 3])\n",
      "torch.Size([64, 64, 3, 3])\n",
      "torch.Size([64, 64, 3, 3])\n",
      "torch.Size([64, 64, 3, 3])\n",
      "torch.Size([64, 64, 3, 3])\n",
      "torch.Size([64, 64, 3, 3])\n",
      "torch.Size([64, 64, 3, 3])\n",
      "torch.Size([64, 64, 3, 3])\n",
      "torch.Size([64, 64, 3, 3])\n",
      "torch.Size([10, 64])\n",
      "torch.Size([10])\n",
      "297290\n"
     ]
    },
    {
     "data": {
      "text/plain": [
       "297290"
      ]
     },
     "execution_count": 13,
     "metadata": {},
     "output_type": "execute_result"
    }
   ],
   "source": [
    "from pytorch_impl.nns.utils import print_sizes\n",
    "\n",
    "print_sizes(Myrtle10(num_filters=64).to(device))"
   ]
  },
  {
   "cell_type": "code",
   "execution_count": 14,
   "metadata": {
    "colab": {},
    "colab_type": "code",
    "id": "mmwUlcrWPPQt"
   },
   "outputs": [],
   "source": [
    "model = Myrtle10(num_filters=256).to(device)\n",
    "\n",
    "learning_rate = 0.07\n",
    "\n",
    "estimator = SgdEstimator(model, nn.CrossEntropyLoss(), learning_rate)\n",
    "training  = ClassifierTraining(estimator, device)\n",
    "\n",
    "# training.train(train_loader, test_loader, num_epochs=30, learning_rate=learning_rate)"
   ]
  },
  {
   "cell_type": "code",
   "execution_count": 15,
   "metadata": {
    "colab": {},
    "colab_type": "code",
    "id": "RCVsNNKdbaZh"
   },
   "outputs": [],
   "source": [
    "# ClassifierTraining(estimator, device).get_accuracy(test_loader)"
   ]
  },
  {
   "cell_type": "code",
   "execution_count": 16,
   "metadata": {
    "colab": {
     "base_uri": "https://localhost:8080/",
     "height": 90
    },
    "colab_type": "code",
    "id": "l6lV0QkGBg-8",
    "outputId": "08a39365-a527-47fc-dbd4-feddb393e805"
   },
   "outputs": [
    {
     "name": "stdout",
     "output_type": "stream",
     "text": [
      "Files already downloaded and verified\n",
      "Files already downloaded and verified\n",
      "CPU times: user 3min 52s, sys: 1min 4s, total: 4min 56s\n",
      "Wall time: 45 s\n"
     ]
    }
   ],
   "source": [
    "%%time\n",
    "\n",
    "X_train, labels_train, X_test, labels_test = get_cifar_zca()"
   ]
  },
  {
   "cell_type": "code",
   "execution_count": 17,
   "metadata": {
    "colab": {},
    "colab_type": "code",
    "id": "aUiYk3vjZ4tQ"
   },
   "outputs": [],
   "source": [
    "N = 1280\n",
    "\n",
    "X_train      = torch.tensor(X_train[:N]).float()\n",
    "X_test       = torch.tensor(X_test[:N]).float()\n",
    "labels_train = torch.tensor(labels_train[:N], dtype=torch.long)\n",
    "labels_test  = torch.tensor(labels_test[:N],  dtype=torch.long)"
   ]
  },
  {
   "cell_type": "code",
   "execution_count": 18,
   "metadata": {
    "colab": {
     "base_uri": "https://localhost:8080/",
     "height": 35
    },
    "colab_type": "code",
    "id": "HpGzq3CIZhWA",
    "outputId": "5b3e2226-30ea-42b2-9671-e4f8dfe092d1"
   },
   "outputs": [
    {
     "data": {
      "text/plain": [
       "tensor([6, 9, 9, 4, 1, 1, 2, 7, 8, 3])"
      ]
     },
     "execution_count": 18,
     "metadata": {},
     "output_type": "execute_result"
    }
   ],
   "source": [
    "labels_train[:10]"
   ]
  },
  {
   "cell_type": "code",
   "execution_count": 19,
   "metadata": {
    "colab": {
     "base_uri": "https://localhost:8080/",
     "height": 35
    },
    "colab_type": "code",
    "id": "V_jcnc_wZ8kE",
    "outputId": "39b43ec2-dce7-4cf7-9537-26db2198d249"
   },
   "outputs": [
    {
     "data": {
      "text/plain": [
       "tensor([3, 8, 8, 0, 6, 6, 1, 6, 3, 1])"
      ]
     },
     "execution_count": 19,
     "metadata": {},
     "output_type": "execute_result"
    }
   ],
   "source": [
    "labels_test[:10]"
   ]
  },
  {
   "cell_type": "code",
   "execution_count": 20,
   "metadata": {
    "colab": {
     "base_uri": "https://localhost:8080/",
     "height": 35
    },
    "colab_type": "code",
    "id": "vloo3zxHGmmo",
    "outputId": "5d98b46e-0f03-4271-c6fc-8fb2d2ccaada"
   },
   "outputs": [
    {
     "data": {
      "text/plain": [
       "device(type='cuda', index=0)"
      ]
     },
     "execution_count": 20,
     "metadata": {},
     "output_type": "execute_result"
    }
   ],
   "source": [
    "torch.manual_seed(0)\n",
    "device = torch.device('cuda:0') if (torch.cuda.is_available()) else torch.device('cpu')\n",
    "device"
   ]
  },
  {
   "cell_type": "code",
   "execution_count": 21,
   "metadata": {
    "colab": {},
    "colab_type": "code",
    "id": "sriHlV_-ILz5"
   },
   "outputs": [],
   "source": [
    "def compute_kernels(models, X_train, X_test, device):\n",
    "    with torch.no_grad():\n",
    "        X_train = X_train.to(device)\n",
    "        X_test  = X_test.to(device)\n",
    "\n",
    "        n_train = len(X_train)\n",
    "        n_test  = len(X_test)\n",
    "\n",
    "        train_kernel = torch.zeros([n_train, n_train]).to(device)\n",
    "        test_kernel  = torch.zeros([n_test,  n_train]).to(device)\n",
    "\n",
    "        scale = np.sqrt(.5 / 0.0156249953)\n",
    "\n",
    "        m = 0\n",
    "        start_time = time.time()\n",
    "\n",
    "        for model_i, model in enumerate(models):\n",
    "            model = model.to(device)\n",
    "            if model_i & (model_i - 1) == 0:\n",
    "                print(f\"{model_i} models done. time {time.time() - start_time:.0f}s\")\n",
    "\n",
    "            train_features = scale * model.readout(X_train) \n",
    "            test_features  = scale * model.readout(X_test)\n",
    "\n",
    "            m += train_features.size()[1]\n",
    "\n",
    "            train_kernel += torch.matmul(train_features, train_features.T)\n",
    "            test_kernel  += torch.matmul(test_features,  train_features.T)\n",
    "\n",
    "        train_kernel /= m\n",
    "        test_kernel  /= m\n",
    "\n",
    "        return train_kernel, test_kernel"
   ]
  },
  {
   "cell_type": "code",
   "execution_count": 22,
   "metadata": {
    "colab": {},
    "colab_type": "code",
    "id": "DFK4RZoU2-OP"
   },
   "outputs": [],
   "source": [
    "n_models = 10000\n",
    "\n",
    "# 5000 * 32 = 160k\n",
    "\n",
    "models = [Myrtle10(num_filters=32) for _ in range(n_models)]"
   ]
  },
  {
   "cell_type": "code",
   "execution_count": 23,
   "metadata": {
    "colab": {
     "base_uri": "https://localhost:8080/",
     "height": 308
    },
    "colab_type": "code",
    "id": "gfoLvIho77hY",
    "outputId": "24b15ef9-dbb8-401b-e1ba-9e47ab24567f"
   },
   "outputs": [
    {
     "name": "stdout",
     "output_type": "stream",
     "text": [
      "0 models done. time 0s\n",
      "1 models done. time 0s\n",
      "2 models done. time 0s\n",
      "4 models done. time 0s\n",
      "8 models done. time 0s\n",
      "16 models done. time 1s\n",
      "32 models done. time 1s\n",
      "64 models done. time 2s\n",
      "128 models done. time 5s\n",
      "256 models done. time 9s\n",
      "512 models done. time 18s\n",
      "1024 models done. time 37s\n",
      "2048 models done. time 74s\n",
      "4096 models done. time 148s\n",
      "8192 models done. time 295s\n",
      "CPU times: user 4min 32s, sys: 1min 28s, total: 6min\n",
      "Wall time: 6min\n"
     ]
    }
   ],
   "source": [
    "%%time\n",
    "\n",
    "num_classes = 10\n",
    "\n",
    "y_train = to_one_hot(labels_train, num_classes).to(device)\n",
    "y_test  = to_one_hot(labels_test,  num_classes).to(device)\n",
    "\n",
    "train_kernel, test_kernel = compute_kernels(models, X_train, X_test, device)"
   ]
  },
  {
   "cell_type": "code",
   "execution_count": 24,
   "metadata": {
    "colab": {
     "base_uri": "https://localhost:8080/",
     "height": 108
    },
    "colab_type": "code",
    "id": "r_4o9XWILTWP",
    "outputId": "1983743d-ab2b-4e18-d660-f91ef6777600"
   },
   "outputs": [
    {
     "data": {
      "text/plain": [
       "tensor([[1.0000, 0.9970, 0.9938, 0.9978, 0.9968],\n",
       "        [0.9970, 1.0000, 0.9928, 0.9974, 0.9955],\n",
       "        [0.9938, 0.9928, 1.0000, 0.9929, 0.9928],\n",
       "        [0.9978, 0.9974, 0.9929, 1.0000, 0.9961],\n",
       "        [0.9968, 0.9955, 0.9928, 0.9961, 1.0000]], device='cuda:0')"
      ]
     },
     "execution_count": 24,
     "metadata": {},
     "output_type": "execute_result"
    }
   ],
   "source": [
    "train_kernel[:5,:5]"
   ]
  },
  {
   "cell_type": "code",
   "execution_count": 25,
   "metadata": {
    "colab": {
     "base_uri": "https://localhost:8080/",
     "height": 108
    },
    "colab_type": "code",
    "id": "57eWORmdLwei",
    "outputId": "1e892aad-4485-48c4-a024-edc5bd726f40"
   },
   "outputs": [
    {
     "data": {
      "text/plain": [
       "tensor([[0.9969, 0.9972, 0.9939, 0.9971, 0.9953],\n",
       "        [0.9955, 0.9958, 0.9909, 0.9954, 0.9965],\n",
       "        [0.9958, 0.9962, 0.9956, 0.9951, 0.9943],\n",
       "        [0.9961, 0.9966, 0.9942, 0.9955, 0.9951],\n",
       "        [0.9974, 0.9974, 0.9920, 0.9971, 0.9954]], device='cuda:0')"
      ]
     },
     "execution_count": 25,
     "metadata": {},
     "output_type": "execute_result"
    }
   ],
   "source": [
    "test_kernel[:5,:5]"
   ]
  },
  {
   "cell_type": "code",
   "execution_count": 64,
   "metadata": {
    "colab": {
     "base_uri": "https://localhost:8080/",
     "height": 35
    },
    "colab_type": "code",
    "id": "3KBjPusiBD8r",
    "outputId": "8ed4b0a6-c640-45bc-b63a-a82be61a314a"
   },
   "outputs": [
    {
     "data": {
      "text/plain": [
       "tensor(0.6148, device='cuda:0')"
      ]
     },
     "execution_count": 64,
     "metadata": {},
     "output_type": "execute_result"
    }
   ],
   "source": [
    "lr = 3e4\n",
    "\n",
    "n = len(train_kernel)\n",
    "reg = torch.eye(n).to(device) * 3e-4\n",
    "\n",
    "exp_term = - lr * compute_exp_term(- lr * (train_kernel + reg), device)\n",
    "y_pred = torch.matmul(test_kernel, torch.matmul(exp_term, - y_train))\n",
    "(y_pred.argmax(dim=1) == labels_test.to(device)).float().mean()"
   ]
  },
  {
   "cell_type": "code",
   "execution_count": null,
   "metadata": {},
   "outputs": [],
   "source": []
  },
  {
   "cell_type": "code",
   "execution_count": null,
   "metadata": {},
   "outputs": [],
   "source": []
  }
 ],
 "metadata": {
  "accelerator": "GPU",
  "colab": {
   "collapsed_sections": [],
   "name": "Myrtle10.ipynb",
   "provenance": []
  },
  "kernelspec": {
   "display_name": "Python 3",
   "language": "python",
   "name": "python3"
  },
  "language_info": {
   "codemirror_mode": {
    "name": "ipython",
    "version": 3
   },
   "file_extension": ".py",
   "mimetype": "text/x-python",
   "name": "python",
   "nbconvert_exporter": "python",
   "pygments_lexer": "ipython3",
   "version": "3.6.9"
  }
 },
 "nbformat": 4,
 "nbformat_minor": 4
}
