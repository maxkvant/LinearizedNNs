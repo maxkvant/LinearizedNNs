{
 "cells": [
  {
   "cell_type": "markdown",
   "metadata": {
    "colab_type": "text",
    "id": "QO6TsBeCK5Sq"
   },
   "source": [
    "## Download repo\n"
   ]
  },
  {
   "cell_type": "code",
   "execution_count": 1,
   "metadata": {
    "colab": {},
    "colab_type": "code",
    "id": "_Uua_GEmJuZJ"
   },
   "outputs": [],
   "source": [
    "import os\n",
    "import shutil\n",
    "import zipfile\n",
    "import urllib.request\n",
    "\n",
    "def download_repo(url, save_to):\n",
    "    zip_filename = save_to + '.zip'\n",
    "    urllib.request.urlretrieve(url, zip_filename)\n",
    "    \n",
    "    if os.path.exists(save_to):\n",
    "        shutil.rmtree(save_to)\n",
    "    with zipfile.ZipFile(zip_filename, 'r') as zip_ref:\n",
    "        zip_ref.extractall('.')\n",
    "    del zip_ref\n",
    "    assert os.path.exists(save_to)"
   ]
  },
  {
   "cell_type": "code",
   "execution_count": 2,
   "metadata": {},
   "outputs": [],
   "source": [
    "REPO_PATH = 'LinearizedNNs-master'\n",
    "\n",
    "download_repo(url='https://github.com/maxkvant/LinearizedNNs/archive/master.zip',\n",
    "              save_to=REPO_PATH)"
   ]
  },
  {
   "cell_type": "markdown",
   "metadata": {
    "colab_type": "text",
    "id": "WTefKYSkK97l"
   },
   "source": [
    "## Imports"
   ]
  },
  {
   "cell_type": "code",
   "execution_count": 3,
   "metadata": {
    "colab": {},
    "colab_type": "code",
    "id": "2GUZzUEyJuA6"
   },
   "outputs": [],
   "source": [
    "import sys\n",
    "sys.path.append(f\"{REPO_PATH}/src\")"
   ]
  },
  {
   "cell_type": "code",
   "execution_count": 4,
   "metadata": {
    "colab": {
     "base_uri": "https://localhost:8080/",
     "height": 74
    },
    "colab_type": "code",
    "id": "RucjmvnTKf9T",
    "outputId": "c3d68fea-e033-4a76-e685-f0e670145b86"
   },
   "outputs": [],
   "source": [
    "import time\n",
    "import numpy as np\n",
    "import seaborn as sns\n",
    "from PIL import Image\n",
    "import matplotlib.pyplot as plt\n",
    "\n",
    "import torch\n",
    "import torch.nn as nn\n",
    "import torch.nn.functional as F\n",
    "from torchvision import transforms, datasets\n",
    "from torchvision.datasets import FashionMNIST\n",
    "\n",
    "\n",
    "from pytorch_impl.estimators import SgdEstimator\n",
    "from pytorch_impl.nns import Myrtle5, Myrtle7, Myrtle10\n",
    "from pytorch_impl import ClassifierTraining\n",
    "from pytorch_impl.matrix_exp import matrix_exp, compute_exp_term\n",
    "from pytorch_impl.nns.utils import to_one_hot, print_sizes\n",
    "from from_neural_kernels import to_zca, CustomTensorDataset, get_cifar_zca"
   ]
  },
  {
   "cell_type": "code",
   "execution_count": 5,
   "metadata": {},
   "outputs": [
    {
     "data": {
      "text/plain": [
       "device(type='cuda', index=0)"
      ]
     },
     "execution_count": 5,
     "metadata": {},
     "output_type": "execute_result"
    }
   ],
   "source": [
    "device = torch.device('cuda:0') if (torch.cuda.is_available()) else torch.device('cpu')\n",
    "device"
   ]
  },
  {
   "cell_type": "markdown",
   "metadata": {
    "colab_type": "text",
    "id": "o57Es5Z9ST6b"
   },
   "source": [
    "## Cifar10"
   ]
  },
  {
   "cell_type": "markdown",
   "metadata": {},
   "source": [
    "## Empirical kernel on Cifar10"
   ]
  },
  {
   "cell_type": "code",
   "execution_count": 24,
   "metadata": {
    "colab": {
     "base_uri": "https://localhost:8080/",
     "height": 90
    },
    "colab_type": "code",
    "id": "l6lV0QkGBg-8",
    "outputId": "08a39365-a527-47fc-dbd4-feddb393e805"
   },
   "outputs": [
    {
     "name": "stdout",
     "output_type": "stream",
     "text": [
      "Files already downloaded and verified\n",
      "Files already downloaded and verified\n",
      "CPU times: user 3min 51s, sys: 1min 2s, total: 4min 53s\n",
      "Wall time: 44.1 s\n"
     ]
    }
   ],
   "source": [
    "%%time\n",
    "\n",
    "X_train, labels_train, X_test, labels_test = get_cifar_zca()"
   ]
  },
  {
   "cell_type": "code",
   "execution_count": 25,
   "metadata": {
    "colab": {},
    "colab_type": "code",
    "id": "aUiYk3vjZ4tQ"
   },
   "outputs": [],
   "source": [
    "N = 1280\n",
    "\n",
    "X_train      = torch.tensor(X_train[:N]).float()\n",
    "X_test       = torch.tensor(X_test[:N]).float()\n",
    "labels_train = torch.tensor(labels_train[:N], dtype=torch.long)\n",
    "labels_test  = torch.tensor(labels_test[:N],  dtype=torch.long)\n",
    "\n",
    "num_classes = 10\n",
    "\n",
    "y_train = to_one_hot(labels_train, num_classes).to(device)\n",
    "y_test  = to_one_hot(labels_test,  num_classes).to(device)"
   ]
  },
  {
   "cell_type": "code",
   "execution_count": 8,
   "metadata": {
    "colab": {},
    "colab_type": "code",
    "id": "sriHlV_-ILz5"
   },
   "outputs": [],
   "source": [
    "def compute_kernels(models, X_train, X_test, device):\n",
    "    with torch.no_grad():\n",
    "        X_train = X_train.to(device)\n",
    "        X_test  = X_test.to(device)\n",
    "\n",
    "        n_train = len(X_train)\n",
    "        n_test  = len(X_test)\n",
    "\n",
    "        train_kernel = torch.zeros([n_train, n_train]).to(device)\n",
    "        test_kernel  = torch.zeros([n_test,  n_train]).to(device)\n",
    "\n",
    "        scale = np.sqrt(.5 / 0.0156249953)\n",
    "\n",
    "        m = 0\n",
    "        start_time = time.time()\n",
    "\n",
    "        for model_i, model in enumerate(models):\n",
    "            model = model.to(device)\n",
    "            if model_i & (model_i - 1) == 0:\n",
    "                print(f\"{model_i} models done. time {time.time() - start_time:.0f}s\")\n",
    "\n",
    "            train_features = scale * model.readout(X_train) \n",
    "            test_features  = scale * model.readout(X_test)\n",
    "\n",
    "            m += train_features.size()[1]\n",
    "\n",
    "            train_kernel += torch.matmul(train_features, train_features.T)\n",
    "            test_kernel  += torch.matmul(test_features,  train_features.T)\n",
    "\n",
    "        train_kernel /= m\n",
    "        test_kernel  /= m\n",
    "\n",
    "        return train_kernel, test_kernel"
   ]
  },
  {
   "cell_type": "code",
   "execution_count": 32,
   "metadata": {
    "colab": {},
    "colab_type": "code",
    "id": "DFK4RZoU2-OP"
   },
   "outputs": [],
   "source": [
    "torch.manual_seed(0)\n",
    "\n",
    "n_models = 5000\n",
    "\n",
    "# 5000 * 32 = 160k\n",
    "\n",
    "models = [Myrtle10(num_filters=32) for _ in range(n_models)]"
   ]
  },
  {
   "cell_type": "code",
   "execution_count": 33,
   "metadata": {
    "colab": {
     "base_uri": "https://localhost:8080/",
     "height": 308
    },
    "colab_type": "code",
    "id": "gfoLvIho77hY",
    "outputId": "24b15ef9-dbb8-401b-e1ba-9e47ab24567f"
   },
   "outputs": [
    {
     "name": "stdout",
     "output_type": "stream",
     "text": [
      "0 models done. time 0s\n",
      "1 models done. time 0s\n",
      "2 models done. time 0s\n",
      "4 models done. time 0s\n",
      "8 models done. time 0s\n",
      "16 models done. time 1s\n",
      "32 models done. time 1s\n",
      "64 models done. time 2s\n",
      "128 models done. time 5s\n",
      "256 models done. time 9s\n",
      "512 models done. time 19s\n",
      "1024 models done. time 37s\n",
      "2048 models done. time 74s\n",
      "4096 models done. time 148s\n",
      "CPU times: user 2min 16s, sys: 44.2 s, total: 3min\n",
      "Wall time: 3min\n"
     ]
    }
   ],
   "source": [
    "%%time\n",
    "\n",
    "train_kernel, test_kernel = compute_kernels(models, X_train, X_test, device)"
   ]
  },
  {
   "cell_type": "code",
   "execution_count": 34,
   "metadata": {
    "colab": {
     "base_uri": "https://localhost:8080/",
     "height": 108
    },
    "colab_type": "code",
    "id": "r_4o9XWILTWP",
    "outputId": "1983743d-ab2b-4e18-d660-f91ef6777600"
   },
   "outputs": [
    {
     "data": {
      "text/plain": [
       "tensor([[1.0000, 0.9970, 0.9938, 0.9978, 0.9968],\n",
       "        [0.9970, 1.0000, 0.9927, 0.9974, 0.9955],\n",
       "        [0.9938, 0.9927, 1.0000, 0.9929, 0.9928],\n",
       "        [0.9978, 0.9974, 0.9929, 1.0000, 0.9961],\n",
       "        [0.9968, 0.9955, 0.9928, 0.9961, 1.0000]], device='cuda:0')"
      ]
     },
     "execution_count": 34,
     "metadata": {},
     "output_type": "execute_result"
    }
   ],
   "source": [
    "train_kernel[:5,:5]"
   ]
  },
  {
   "cell_type": "code",
   "execution_count": 35,
   "metadata": {
    "colab": {
     "base_uri": "https://localhost:8080/",
     "height": 108
    },
    "colab_type": "code",
    "id": "57eWORmdLwei",
    "outputId": "1e892aad-4485-48c4-a024-edc5bd726f40"
   },
   "outputs": [
    {
     "data": {
      "text/plain": [
       "tensor([[0.9969, 0.9973, 0.9938, 0.9971, 0.9953],\n",
       "        [0.9955, 0.9958, 0.9908, 0.9955, 0.9964],\n",
       "        [0.9958, 0.9962, 0.9956, 0.9950, 0.9943],\n",
       "        [0.9960, 0.9966, 0.9941, 0.9955, 0.9951],\n",
       "        [0.9974, 0.9973, 0.9920, 0.9971, 0.9954]], device='cuda:0')"
      ]
     },
     "execution_count": 35,
     "metadata": {},
     "output_type": "execute_result"
    }
   ],
   "source": [
    "test_kernel[:5,:5]"
   ]
  },
  {
   "cell_type": "code",
   "execution_count": 36,
   "metadata": {
    "colab": {
     "base_uri": "https://localhost:8080/",
     "height": 35
    },
    "colab_type": "code",
    "id": "3KBjPusiBD8r",
    "outputId": "8ed4b0a6-c640-45bc-b63a-a82be61a314a"
   },
   "outputs": [
    {
     "data": {
      "text/plain": [
       "tensor(0.6125, device='cuda:0')"
      ]
     },
     "execution_count": 36,
     "metadata": {},
     "output_type": "execute_result"
    }
   ],
   "source": [
    "lr = 3e4\n",
    "\n",
    "n = len(train_kernel)\n",
    "reg = torch.eye(n).to(device) * 3e-4\n",
    "\n",
    "exp_term = - lr * compute_exp_term(- lr * (train_kernel + reg), device)\n",
    "y_pred = torch.matmul(test_kernel, torch.matmul(exp_term, - y_train))\n",
    "(y_pred.argmax(dim=1) == labels_test.to(device)).float().mean()"
   ]
  },
  {
   "cell_type": "markdown",
   "metadata": {},
   "source": [
    "## Neural networks"
   ]
  },
  {
   "cell_type": "code",
   "execution_count": 14,
   "metadata": {},
   "outputs": [
    {
     "name": "stdout",
     "output_type": "stream",
     "text": [
      "Files already downloaded and verified\n",
      "Files already downloaded and verified\n",
      "CPU times: user 3min 53s, sys: 1min 4s, total: 4min 58s\n",
      "Wall time: 44.8 s\n"
     ]
    }
   ],
   "source": [
    "%%time\n",
    "\n",
    "X_train, y_train, X_test, y_test = get_cifar_zca()"
   ]
  },
  {
   "cell_type": "code",
   "execution_count": 15,
   "metadata": {},
   "outputs": [
    {
     "data": {
      "text/plain": [
       "device(type='cuda', index=0)"
      ]
     },
     "execution_count": 15,
     "metadata": {},
     "output_type": "execute_result"
    }
   ],
   "source": [
    "torch.manual_seed(0)\n",
    "\n",
    "cifar_train = CustomTensorDataset(torch.tensor(X_train), torch.tensor(y_train, dtype=torch.long), transform='all')\n",
    "cifar_test  = CustomTensorDataset(torch.tensor(X_test), torch.tensor(y_test, dtype=torch.long), transform=None)\n",
    "\n",
    "train_loader = torch.utils.data.DataLoader(cifar_train, batch_size=128, shuffle=True)\n",
    "test_loader  = torch.utils.data.DataLoader(cifar_test,  batch_size=128, shuffle=True)\n",
    "\n",
    "device"
   ]
  },
  {
   "cell_type": "code",
   "execution_count": 16,
   "metadata": {},
   "outputs": [],
   "source": [
    "model = Myrtle10(num_filters=256).to(device)\n",
    "learning_rate = 0.07\n",
    "\n",
    "estimator = SgdEstimator(model, nn.CrossEntropyLoss(), learning_rate)\n",
    "training  = ClassifierTraining(estimator, device)\n",
    "\n",
    "# training.train(train_loader, test_loader, num_epochs=30, learning_rate=learning_rate)"
   ]
  },
  {
   "cell_type": "code",
   "execution_count": 17,
   "metadata": {},
   "outputs": [],
   "source": [
    "# ClassifierTraining(estimator, device).get_accuracy(test_loader)"
   ]
  },
  {
   "cell_type": "markdown",
   "metadata": {},
   "source": [
    "## Extra stats"
   ]
  },
  {
   "cell_type": "code",
   "execution_count": 18,
   "metadata": {
    "colab": {
     "base_uri": "https://localhost:8080/",
     "height": 284
    },
    "colab_type": "code",
    "id": "zPAY9M9OBACI",
    "outputId": "5f66443b-e4bd-46a3-cd39-a8832358270d"
   },
   "outputs": [
    {
     "data": {
      "text/plain": [
       "0.051094893"
      ]
     },
     "execution_count": 18,
     "metadata": {},
     "output_type": "execute_result"
    },
    {
     "data": {
      "image/png": "[encoded data removed]",
      "text/plain": [
       "<Figure size 432x288 with 1 Axes>"
      ]
     },
     "metadata": {
      "needs_background": "light"
     },
     "output_type": "display_data"
    }
   ],
   "source": [
    "model = Myrtle10(num_filters=128, groups=2).to(device)\n",
    "for batch_id, (X, y) in enumerate(train_loader):\n",
    "    if batch_id > 20:\n",
    "        break\n",
    "    X, y = X.to(device), y.to(device)\n",
    "    model.readout(X)\n",
    "\n",
    "_, (X, y) = next(enumerate(train_loader))\n",
    "X, y = X.to(device), y.to(device)\n",
    "\n",
    "\n",
    "output = model.readout(X).detach().cpu().numpy()\n",
    "sns.distplot(output.reshape(-1))\n",
    "\n",
    "np.std(output.reshape(-1))"
   ]
  },
  {
   "cell_type": "code",
   "execution_count": 19,
   "metadata": {},
   "outputs": [
    {
     "name": "stdout",
     "output_type": "stream",
     "text": [
      "torch.Size([32, 3, 3, 3])\n",
      "torch.Size([32, 32, 3, 3])\n",
      "torch.Size([32, 32, 3, 3])\n",
      "torch.Size([32, 32, 3, 3])\n",
      "torch.Size([32, 32, 3, 3])\n",
      "torch.Size([32, 32, 3, 3])\n",
      "torch.Size([32, 32, 3, 3])\n",
      "torch.Size([32, 32, 3, 3])\n",
      "torch.Size([32, 32, 3, 3])\n",
      "torch.Size([10, 32])\n",
      "torch.Size([10])\n",
      "74922\n"
     ]
    },
    {
     "data": {
      "text/plain": [
       "74922"
      ]
     },
     "execution_count": 19,
     "metadata": {},
     "output_type": "execute_result"
    }
   ],
   "source": [
    "print_sizes(Myrtle10(num_filters=32).to(device))"
   ]
  },
  {
   "cell_type": "code",
   "execution_count": 20,
   "metadata": {},
   "outputs": [
    {
     "data": {
      "text/plain": [
       "tensor([6, 9, 9, 4, 1, 1, 2, 7, 8, 3])"
      ]
     },
     "execution_count": 20,
     "metadata": {},
     "output_type": "execute_result"
    }
   ],
   "source": [
    "labels_train[:10]"
   ]
  },
  {
   "cell_type": "code",
   "execution_count": 21,
   "metadata": {},
   "outputs": [
    {
     "data": {
      "text/plain": [
       "tensor([3, 8, 8, 0, 6, 6, 1, 6, 3, 1])"
      ]
     },
     "execution_count": 21,
     "metadata": {},
     "output_type": "execute_result"
    }
   ],
   "source": [
    "labels_test[:10]"
   ]
  }
 ],
 "metadata": {
  "accelerator": "GPU",
  "colab": {
   "collapsed_sections": [],
   "name": "Myrtle10.ipynb",
   "provenance": []
  },
  "kernelspec": {
   "display_name": "Python 3",
   "language": "python",
   "name": "python3"
  },
  "language_info": {
   "codemirror_mode": {
    "name": "ipython",
    "version": 3
   },
   "file_extension": ".py",
   "mimetype": "text/x-python",
   "name": "python",
   "nbconvert_exporter": "python",
   "pygments_lexer": "ipython3",
   "version": "3.6.9"
  }
 },
 "nbformat": 4,
 "nbformat_minor": 4
}
