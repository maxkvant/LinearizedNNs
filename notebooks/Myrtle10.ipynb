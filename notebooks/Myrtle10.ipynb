{
  "nbformat": 4,
  "nbformat_minor": 0,
  "metadata": {
    "colab": {
      "name": "Myrtle10.ipynb",
      "provenance": [],
      "collapsed_sections": []
    },
    "kernelspec": {
      "name": "python3",
      "display_name": "Python 3"
    },
    "accelerator": "GPU"
  },
  "cells": [
    {
      "cell_type": "markdown",
      "metadata": {
        "id": "QO6TsBeCK5Sq",
        "colab_type": "text"
      },
      "source": [
        "## Download repo\n"
      ]
    },
    {
      "cell_type": "code",
      "metadata": {
        "id": "_Uua_GEmJuZJ",
        "colab_type": "code",
        "colab": {}
      },
      "source": [
        "import os\n",
        "import shutil\n",
        "import zipfile\n",
        "import urllib.request"
      ],
      "execution_count": 0,
      "outputs": []
    },
    {
      "cell_type": "code",
      "metadata": {
        "id": "z8gB3Yv3JuNh",
        "colab_type": "code",
        "colab": {}
      },
      "source": [
        "REPO_ZIP_FILE = 'LinearizedNNs-master.zip'\n",
        "urllib.request.urlretrieve('https://github.com/maxkvant/LinearizedNNs/archive/master.zip', REPO_ZIP_FILE)\n",
        "\n",
        "REPO_PATH = \"LinearizedNNs-master\"\n",
        "if os.path.exists(REPO_PATH):\n",
        "    shutil.rmtree(REPO_PATH)\n",
        "    \n",
        "with zipfile.ZipFile(REPO_ZIP_FILE, 'r') as zip_ref:\n",
        "    zip_ref.extractall('.')\n",
        "    \n",
        "assert os.path.exists(REPO_PATH)"
      ],
      "execution_count": 0,
      "outputs": []
    },
    {
      "cell_type": "markdown",
      "metadata": {
        "id": "WTefKYSkK97l",
        "colab_type": "text"
      },
      "source": [
        "## Imports"
      ]
    },
    {
      "cell_type": "code",
      "metadata": {
        "id": "2GUZzUEyJuA6",
        "colab_type": "code",
        "colab": {}
      },
      "source": [
        "import sys\n",
        "sys.path.append(f\"{REPO_PATH}/src\")"
      ],
      "execution_count": 0,
      "outputs": []
    },
    {
      "cell_type": "code",
      "metadata": {
        "id": "RucjmvnTKf9T",
        "colab_type": "code",
        "outputId": "c3d68fea-e033-4a76-e685-f0e670145b86",
        "colab": {
          "base_uri": "https://localhost:8080/",
          "height": 74
        }
      },
      "source": [
        "import time\n",
        "import numpy as np\n",
        "import seaborn as sns\n",
        "from PIL import Image\n",
        "import matplotlib.pyplot as plt\n",
        "\n",
        "import torch\n",
        "import torch.nn as nn\n",
        "import torch.nn.functional as F\n",
        "from torchvision import transforms, datasets\n",
        "from torchvision.datasets import FashionMNIST\n",
        "\n",
        "from xgboost import XGBClassifier\n",
        "\n",
        "from pytorch_impl.estimators import SgdEstimator\n",
        "from pytorch_impl.nns import warm_up_batch_norm\n",
        "from pytorch_impl import ClassifierTraining\n",
        "from pytorch_impl.matrix_exp import matrix_exp, compute_exp_term\n",
        "from pytorch_impl.nns.utils import to_one_hot\n",
        "from from_neural_kernels import to_zca, CustomTensorDataset"
      ],
      "execution_count": 4,
      "outputs": [
        {
          "output_type": "stream",
          "text": [
            "/usr/local/lib/python3.6/dist-packages/statsmodels/tools/_testing.py:19: FutureWarning: pandas.util.testing is deprecated. Use the functions in the public API at pandas.testing instead.\n",
            "  import pandas.util.testing as tm\n"
          ],
          "name": "stderr"
        }
      ]
    },
    {
      "cell_type": "code",
      "metadata": {
        "id": "yGDlFtGDJs9X",
        "colab_type": "code",
        "colab": {}
      },
      "source": [
        "class Flatten(nn.Module):\n",
        "    def forward(self, input):\n",
        "        return input.view(input.size(0), -1)\n",
        "\n",
        "def Conv(in_filters, out_filters, groups=1):\n",
        "    conv = nn.Conv2d(in_filters, out_filters, kernel_size=3, stride=1, padding=1, groups=groups, bias=False)\n",
        "    conv.weight.data *= np.sqrt(3)\n",
        "    return conv  \n",
        "\n",
        "class Normalize(nn.Module):\n",
        "    def forward(self, input):\n",
        "        return nn.functional.normalize(input, p=2, dim=1, eps=1e-8)  \n",
        "\n",
        "class ReLU2(nn.Module):\n",
        "    C = np.sqrt(2)\n",
        "\n",
        "    def forward(self, input):\n",
        "        return F.relu(input, inplace=True) * self.C\n",
        "\n",
        "class ResidualConnection(nn.Module):\n",
        "    def __init__(self, *layers):\n",
        "        super(ResidualConnection, self).__init__()\n",
        "        self.layers = nn.Sequential(*layers)\n",
        "    \n",
        "    def forward(self, input):\n",
        "        return (input + self.layers(input)) / 2.\n",
        "\n",
        "class Myrtle10(nn.Module):\n",
        "    def __init__(self, num_classes=10, input_filters=3, num_filters=256, groups=1):\n",
        "        super(Myrtle10, self).__init__()\n",
        "        filters = num_filters * groups\n",
        "\n",
        "        def Activation():\n",
        "          return ReLU2()\n",
        "\n",
        "        self.layers = nn.Sequential(\n",
        "            Conv(input_filters, filters),     Activation(),\n",
        "\n",
        "            #ResidualConnection(\n",
        "              Conv(filters, filters, groups), Activation(),\n",
        "              Conv(filters, filters, groups), Activation(),\n",
        "            #),\n",
        "            nn.AvgPool2d(kernel_size=2, stride=2),\n",
        "            \n",
        "            #ResidualConnection(\n",
        "              Conv(filters, filters, groups), Activation(),\n",
        "              Conv(filters, filters, groups), Activation(),\n",
        "            #),\n",
        "            Conv(filters, filters, groups),   Activation(),\n",
        "            nn.AvgPool2d(kernel_size=2, stride=2),\n",
        "            \n",
        "            #ResidualConnection(\n",
        "              Conv(filters, filters, groups), Activation(),\n",
        "              Conv(filters, filters, groups), Activation(),\n",
        "            #),\n",
        "            Conv(filters, filters, groups),   Activation(),\n",
        "            nn.AvgPool2d(kernel_size=8, stride=8),\n",
        "            \n",
        "            Normalize(),\n",
        "            Flatten()\n",
        "        )\n",
        "        self.classifier =  nn.Linear(num_filters, num_classes, bias=True)\n",
        "        \n",
        "    def readout(self, x):\n",
        "        return self.layers(x)\n",
        "\n",
        "    def forward(self, x):\n",
        "        x = self.readout(x)\n",
        "        return self.classifier(x)"
      ],
      "execution_count": 0,
      "outputs": []
    },
    {
      "cell_type": "code",
      "metadata": {
        "id": "bxXS-6Im9WI_",
        "colab_type": "code",
        "colab": {}
      },
      "source": [
        "class Myrtle5(nn.Module):\n",
        "    def __init__(self, num_classes=10, input_filters=3, num_filters=256, groups=1):\n",
        "        super(Myrtle5, self).__init__()\n",
        "        filters = num_filters * groups\n",
        "\n",
        "        def Activation():\n",
        "          return ReLU2()\n",
        "\n",
        "        self.layers = nn.Sequential(\n",
        "            Conv(input_filters, filters),   Activation(),\n",
        "            Conv(filters, filters, groups), Activation(),\n",
        "            nn.AvgPool2d(kernel_size=2, stride=2),\n",
        "            \n",
        "            Conv(filters, filters, groups), Activation(),\n",
        "            nn.AvgPool2d(kernel_size=2, stride=2),\n",
        "            \n",
        "            Conv(filters, filters, groups), Activation(),\n",
        "            nn.AvgPool2d(kernel_size=8, stride=8),\n",
        "            \n",
        "            Normalize(),\n",
        "            Flatten()\n",
        "        )\n",
        "        self.classifier =  nn.Linear(num_filters, num_classes, bias=True)\n",
        "        \n",
        "    def readout(self, x):\n",
        "        return self.layers(x)\n",
        "\n",
        "    def forward(self, x):\n",
        "        x = self.readout(x)\n",
        "        return self.classifier(x)"
      ],
      "execution_count": 0,
      "outputs": []
    },
    {
      "cell_type": "code",
      "metadata": {
        "id": "fB-JSFBGHn7A",
        "colab_type": "code",
        "colab": {}
      },
      "source": [
        "class Myrtle7(nn.Module):\n",
        "    def __init__(self, num_classes=10, input_filters=3, num_filters=256, groups=1):\n",
        "        super(Myrtle7, self).__init__()\n",
        "        filters = num_filters * groups\n",
        "\n",
        "        def Activation():\n",
        "          return ReLU2()\n",
        "\n",
        "        self.layers = nn.Sequential(\n",
        "            Conv(input_filters, filters),   Activation(),\n",
        "            Conv(filters, filters, groups), Activation(),\n",
        "            nn.AvgPool2d(kernel_size=2, stride=2),\n",
        "            \n",
        "\n",
        "            Conv(filters, filters, groups), Activation(),\n",
        "            Conv(filters, filters, groups), Activation(),\n",
        "            nn.AvgPool2d(kernel_size=2, stride=2),\n",
        "            \n",
        "            Conv(filters, filters, groups), Activation(),\n",
        "            Conv(filters, filters, groups), Activation(),\n",
        "            nn.AvgPool2d(kernel_size=8, stride=8),\n",
        "            \n",
        "            Normalize(),\n",
        "            Flatten()\n",
        "        )\n",
        "        self.classifier =  nn.Linear(num_filters, num_classes, bias=True)\n",
        "        \n",
        "    def readout(self, x):\n",
        "        return self.layers(x)\n",
        "\n",
        "    def forward(self, x):\n",
        "        x = self.readout(x)\n",
        "        return self.classifier(x)"
      ],
      "execution_count": 0,
      "outputs": []
    },
    {
      "cell_type": "markdown",
      "metadata": {
        "id": "o57Es5Z9ST6b",
        "colab_type": "text"
      },
      "source": [
        "## Cifar10"
      ]
    },
    {
      "cell_type": "code",
      "metadata": {
        "id": "JnRBr9JvvTXN",
        "colab_type": "code",
        "colab": {}
      },
      "source": [
        "def get_cifar_zca():\n",
        "  trainset = datasets.CIFAR10(root='./data', train=True, download=True, transform=None)\n",
        "  testset  = datasets.CIFAR10(root='./data', train=False, download=True, transform=None)\n",
        "\n",
        "  X_train = np.asarray(trainset.data).astype(np.float64)\n",
        "  y_train = np.asarray(trainset.targets)\n",
        "  X_test  = np.asarray(testset.data).astype(np.float64)\n",
        "  y_test  = np.asarray(testset.targets)\n",
        "\n",
        "  (X_train, X_test), global_ZCA = to_zca(X_train, X_test)\n",
        "\n",
        "  X_train = np.transpose(X_train, (0,3,1,2))\n",
        "  X_test  = np.transpose(X_test,  (0,3,1,2))\n",
        "\n",
        "  return X_train, y_train, X_test, y_test"
      ],
      "execution_count": 0,
      "outputs": []
    },
    {
      "cell_type": "code",
      "metadata": {
        "id": "W-q8tpxOvNz4",
        "colab_type": "code",
        "outputId": "0b23a6bd-0655-4946-b0c6-40bf68599def",
        "colab": {
          "base_uri": "https://localhost:8080/",
          "height": 90
        }
      },
      "source": [
        "%%time\n",
        "\n",
        "X_train, y_train, X_test, y_test = get_cifar_zca()"
      ],
      "execution_count": 9,
      "outputs": [
        {
          "output_type": "stream",
          "text": [
            "Files already downloaded and verified\n",
            "Files already downloaded and verified\n",
            "CPU times: user 2min 34s, sys: 12.7 s, total: 2min 47s\n",
            "Wall time: 1min 28s\n"
          ],
          "name": "stdout"
        }
      ]
    },
    {
      "cell_type": "code",
      "metadata": {
        "id": "q4dizhObYFyp",
        "colab_type": "code",
        "colab": {}
      },
      "source": [
        ""
      ],
      "execution_count": 0,
      "outputs": []
    },
    {
      "cell_type": "code",
      "metadata": {
        "id": "IsQiD_vMYrep",
        "colab_type": "code",
        "colab": {
          "base_uri": "https://localhost:8080/",
          "height": 35
        },
        "outputId": "72d0a95f-ab52-4c69-a7cb-8b344e82d0d0"
      },
      "source": [
        "torch.manual_seed(0)\n",
        "\n",
        "if torch.cuda.is_available():\n",
        "    device = torch.device('cuda:0')\n",
        "else:\n",
        "    device = torch.device('cpu')\n",
        "\n",
        "cifar_train = CustomTensorDataset(torch.tensor(X_train), torch.tensor(y_train, dtype=torch.long), transform='all')\n",
        "cifar_test  = CustomTensorDataset(torch.tensor(X_test), torch.tensor(y_test, dtype=torch.long), transform=None)\n",
        "\n",
        "train_loader = torch.utils.data.DataLoader(cifar_train, batch_size=128, shuffle=True)\n",
        "test_loader  = torch.utils.data.DataLoader(cifar_test,  batch_size=128, shuffle=True)\n",
        "\n",
        "device"
      ],
      "execution_count": 10,
      "outputs": [
        {
          "output_type": "execute_result",
          "data": {
            "text/plain": [
              "device(type='cuda', index=0)"
            ]
          },
          "metadata": {
            "tags": []
          },
          "execution_count": 10
        }
      ]
    },
    {
      "cell_type": "code",
      "metadata": {
        "id": "zPAY9M9OBACI",
        "colab_type": "code",
        "colab": {
          "base_uri": "https://localhost:8080/",
          "height": 284
        },
        "outputId": "5f66443b-e4bd-46a3-cd39-a8832358270d"
      },
      "source": [
        "model = Myrtle10(num_filters=128, groups=2).to(device)\n",
        "for batch_id, (X, y) in enumerate(train_loader):\n",
        "  if batch_id > 20:\n",
        "    break\n",
        "  X, y = X.to(device), y.to(device)\n",
        "  model.readout(X)\n",
        "\n",
        "_, (X, y) = next(enumerate(train_loader))\n",
        "X, y = X.to(device), y.to(device)\n",
        "\n",
        "\n",
        "output = model.readout(X).detach().cpu().numpy()\n",
        "sns.distplot(output.reshape(-1))\n",
        "\n",
        "np.std(output.reshape(-1))"
      ],
      "execution_count": 11,
      "outputs": [
        {
          "output_type": "execute_result",
          "data": {
            "text/plain": [
              "0.046048857"
            ]
          },
          "metadata": {
            "tags": []
          },
          "execution_count": 11
        },
        {
          "output_type": "display_data",
          "data": {
            "image/png": "[encoded data removed]",
            "text/plain": [
              "<Figure size 432x288 with 1 Axes>"
            ]
          },
          "metadata": {
            "tags": [],
            "needs_background": "light"
          }
        }
      ]
    },
    {
      "cell_type": "code",
      "metadata": {
        "id": "3UjKNNB55UcK",
        "colab_type": "code",
        "colab": {
          "base_uri": "https://localhost:8080/",
          "height": 254
        },
        "outputId": "fd172ec4-e69a-4dc2-b325-b6387bbb6bab"
      },
      "source": [
        "from pytorch_impl.nns.utils import print_sizes\n",
        "\n",
        "print_sizes(Myrtle10(num_filters=64).to(device))"
      ],
      "execution_count": 12,
      "outputs": [
        {
          "output_type": "stream",
          "text": [
            "torch.Size([64, 3, 3, 3])\n",
            "torch.Size([64, 64, 3, 3])\n",
            "torch.Size([64, 64, 3, 3])\n",
            "torch.Size([64, 64, 3, 3])\n",
            "torch.Size([64, 64, 3, 3])\n",
            "torch.Size([64, 64, 3, 3])\n",
            "torch.Size([64, 64, 3, 3])\n",
            "torch.Size([64, 64, 3, 3])\n",
            "torch.Size([64, 64, 3, 3])\n",
            "torch.Size([10, 64])\n",
            "torch.Size([10])\n",
            "297290\n"
          ],
          "name": "stdout"
        },
        {
          "output_type": "execute_result",
          "data": {
            "text/plain": [
              "297290"
            ]
          },
          "metadata": {
            "tags": []
          },
          "execution_count": 12
        }
      ]
    },
    {
      "cell_type": "code",
      "metadata": {
        "id": "mmwUlcrWPPQt",
        "colab_type": "code",
        "colab": {}
      },
      "source": [
        "model = Myrtle10(num_filters=256).to(device)\n",
        "\n",
        "learning_rate = 0.07\n",
        "\n",
        "estimator = SgdEstimator(model, nn.CrossEntropyLoss(), learning_rate)\n",
        "training  = ClassifierTraining(estimator, device)\n",
        "\n",
        "# training.train(train_loader, test_loader, num_epochs=30, learning_rate=learning_rate)"
      ],
      "execution_count": 0,
      "outputs": []
    },
    {
      "cell_type": "code",
      "metadata": {
        "id": "RCVsNNKdbaZh",
        "colab_type": "code",
        "colab": {}
      },
      "source": [
        "# ClassifierTraining(estimator, device).get_accuracy(test_loader)"
      ],
      "execution_count": 0,
      "outputs": []
    },
    {
      "cell_type": "code",
      "metadata": {
        "id": "l6lV0QkGBg-8",
        "colab_type": "code",
        "outputId": "08a39365-a527-47fc-dbd4-feddb393e805",
        "colab": {
          "base_uri": "https://localhost:8080/",
          "height": 90
        }
      },
      "source": [
        "%%time\n",
        "\n",
        "X_train, labels_train, X_test, labels_test = get_cifar_zca()"
      ],
      "execution_count": 15,
      "outputs": [
        {
          "output_type": "stream",
          "text": [
            "Files already downloaded and verified\n",
            "Files already downloaded and verified\n",
            "CPU times: user 2min 34s, sys: 15.8 s, total: 2min 50s\n",
            "Wall time: 1min 32s\n"
          ],
          "name": "stdout"
        }
      ]
    },
    {
      "cell_type": "code",
      "metadata": {
        "id": "aUiYk3vjZ4tQ",
        "colab_type": "code",
        "colab": {}
      },
      "source": [
        "N = 1280\n",
        "\n",
        "X_train      = torch.tensor(X_train[:N]).float()\n",
        "X_test       = torch.tensor(X_test[:N]).float()\n",
        "labels_train = torch.tensor(labels_train[:N], dtype=torch.long)\n",
        "labels_test  = torch.tensor(labels_test[:N],  dtype=torch.long)"
      ],
      "execution_count": 0,
      "outputs": []
    },
    {
      "cell_type": "code",
      "metadata": {
        "id": "HpGzq3CIZhWA",
        "colab_type": "code",
        "outputId": "5b3e2226-30ea-42b2-9671-e4f8dfe092d1",
        "colab": {
          "base_uri": "https://localhost:8080/",
          "height": 35
        }
      },
      "source": [
        "labels_train[:10]"
      ],
      "execution_count": 17,
      "outputs": [
        {
          "output_type": "execute_result",
          "data": {
            "text/plain": [
              "tensor([6, 9, 9, 4, 1, 1, 2, 7, 8, 3])"
            ]
          },
          "metadata": {
            "tags": []
          },
          "execution_count": 17
        }
      ]
    },
    {
      "cell_type": "code",
      "metadata": {
        "id": "V_jcnc_wZ8kE",
        "colab_type": "code",
        "outputId": "39b43ec2-dce7-4cf7-9537-26db2198d249",
        "colab": {
          "base_uri": "https://localhost:8080/",
          "height": 35
        }
      },
      "source": [
        "labels_test[:10]"
      ],
      "execution_count": 18,
      "outputs": [
        {
          "output_type": "execute_result",
          "data": {
            "text/plain": [
              "tensor([3, 8, 8, 0, 6, 6, 1, 6, 3, 1])"
            ]
          },
          "metadata": {
            "tags": []
          },
          "execution_count": 18
        }
      ]
    },
    {
      "cell_type": "code",
      "metadata": {
        "id": "vloo3zxHGmmo",
        "colab_type": "code",
        "outputId": "5d98b46e-0f03-4271-c6fc-8fb2d2ccaada",
        "colab": {
          "base_uri": "https://localhost:8080/",
          "height": 35
        }
      },
      "source": [
        "torch.manual_seed(0)\n",
        "device = torch.device('cuda:0') if (torch.cuda.is_available()) else torch.device('cpu')\n",
        "device"
      ],
      "execution_count": 75,
      "outputs": [
        {
          "output_type": "execute_result",
          "data": {
            "text/plain": [
              "device(type='cuda', index=0)"
            ]
          },
          "metadata": {
            "tags": []
          },
          "execution_count": 75
        }
      ]
    },
    {
      "cell_type": "code",
      "metadata": {
        "id": "u8_wyg-AZG6a",
        "colab_type": "code",
        "colab": {}
      },
      "source": [
        "def augment_X(X):\n",
        "  def aug(x):\n",
        "      return CustomTensorDataset.augment_x(x, 'flips') \n",
        "  return torch.stack([aug(x) for x in X])"
      ],
      "execution_count": 0,
      "outputs": []
    },
    {
      "cell_type": "code",
      "metadata": {
        "id": "Vjn8rnEsZlYG",
        "colab_type": "code",
        "colab": {
          "base_uri": "https://localhost:8080/",
          "height": 35
        },
        "outputId": "b47bf042-cc03-4ce1-a34f-05c5f85c9214"
      },
      "source": [
        "X_train[:2].size()"
      ],
      "execution_count": 77,
      "outputs": [
        {
          "output_type": "execute_result",
          "data": {
            "text/plain": [
              "torch.Size([2, 3, 32, 32])"
            ]
          },
          "metadata": {
            "tags": []
          },
          "execution_count": 77
        }
      ]
    },
    {
      "cell_type": "code",
      "metadata": {
        "id": "3Z4eePgkapNG",
        "colab_type": "code",
        "colab": {
          "base_uri": "https://localhost:8080/",
          "height": 35
        },
        "outputId": "00ef0a8d-12c3-4b36-fa64-afc4467dbfd5"
      },
      "source": [
        "augment_X(X_train[:2]).size()"
      ],
      "execution_count": 78,
      "outputs": [
        {
          "output_type": "execute_result",
          "data": {
            "text/plain": [
              "torch.Size([2, 3, 32, 32])"
            ]
          },
          "metadata": {
            "tags": []
          },
          "execution_count": 78
        }
      ]
    },
    {
      "cell_type": "code",
      "metadata": {
        "id": "sriHlV_-ILz5",
        "colab_type": "code",
        "colab": {}
      },
      "source": [
        "def compute_kernels(models, X_train, X_test, device):\n",
        "  with torch.no_grad():\n",
        "    X_train = X_train.to(device)\n",
        "    X_test  = X_test.to(device)\n",
        "    \n",
        "    n_train = len(X_train)\n",
        "    n_test  = len(X_test)\n",
        "\n",
        "    train_kernel = torch.zeros([n_train, n_train]).to(device)\n",
        "    test_kernel  = torch.zeros([n_test,  n_train]).to(device)\n",
        "\n",
        "    scale = np.sqrt(1. / 0.0156249953)\n",
        "\n",
        "    m = 0\n",
        "    start_time = time.time()\n",
        "\n",
        "    for model_i, model in enumerate(models):\n",
        "      model = model.to(device)\n",
        "      if model_i & (model_i - 1) == 0:\n",
        "        print(f\"{model_i} models done. time {time.time() - start_time:.0f}s\")\n",
        "\n",
        "      train_features = scale * model.readout(X_train) \n",
        "      test_features  = scale * model.readout(X_test)\n",
        "\n",
        "      m += train_features.size()[1]\n",
        "\n",
        "      train_kernel += torch.matmul(train_features, train_features.T)\n",
        "      test_kernel  += torch.matmul(test_features,  train_features.T)\n",
        "    \n",
        "    train_kernel /= m\n",
        "    test_kernel  /= m\n",
        "    \n",
        "    return train_kernel, test_kernel"
      ],
      "execution_count": 0,
      "outputs": []
    },
    {
      "cell_type": "code",
      "metadata": {
        "id": "DFK4RZoU2-OP",
        "colab_type": "code",
        "colab": {}
      },
      "source": [
        "n_models = 5000\n",
        "\n",
        "# 5000 * 32 = 160k\n",
        "\n",
        "models = [Myrtle5(num_filters=32) for _ in range(n_models)]"
      ],
      "execution_count": 0,
      "outputs": []
    },
    {
      "cell_type": "code",
      "metadata": {
        "id": "gfoLvIho77hY",
        "colab_type": "code",
        "outputId": "24b15ef9-dbb8-401b-e1ba-9e47ab24567f",
        "colab": {
          "base_uri": "https://localhost:8080/",
          "height": 308
        }
      },
      "source": [
        "%%time\n",
        "\n",
        "num_classes = 10\n",
        "\n",
        "y_train = to_one_hot(labels_train, num_classes).to(device)\n",
        "y_test  = to_one_hot(labels_test,  num_classes).to(device)\n",
        "\n",
        "train_kernel, test_kernel = compute_kernels(models, X_train, X_test, device)"
      ],
      "execution_count": 104,
      "outputs": [
        {
          "output_type": "stream",
          "text": [
            "0 models done. time 0s\n",
            "1 models done. time 0s\n",
            "2 models done. time 0s\n",
            "4 models done. time 1s\n",
            "8 models done. time 1s\n",
            "16 models done. time 2s\n",
            "32 models done. time 4s\n",
            "64 models done. time 8s\n",
            "128 models done. time 15s\n",
            "256 models done. time 30s\n",
            "512 models done. time 60s\n",
            "1024 models done. time 120s\n",
            "2048 models done. time 239s\n",
            "4096 models done. time 478s\n",
            "CPU times: user 5min 44s, sys: 3min 59s, total: 9min 43s\n",
            "Wall time: 9min 43s\n"
          ],
          "name": "stdout"
        }
      ]
    },
    {
      "cell_type": "code",
      "metadata": {
        "id": "r_4o9XWILTWP",
        "colab_type": "code",
        "outputId": "1983743d-ab2b-4e18-d660-f91ef6777600",
        "colab": {
          "base_uri": "https://localhost:8080/",
          "height": 108
        }
      },
      "source": [
        "train_kernel[:5,:5]"
      ],
      "execution_count": 105,
      "outputs": [
        {
          "output_type": "execute_result",
          "data": {
            "text/plain": [
              "tensor([[2.0000, 1.9893, 1.9845, 1.9930, 1.9878],\n",
              "        [1.9893, 2.0000, 1.9880, 1.9909, 1.9916],\n",
              "        [1.9845, 1.9880, 2.0000, 1.9837, 1.9915],\n",
              "        [1.9930, 1.9909, 1.9837, 2.0000, 1.9856],\n",
              "        [1.9878, 1.9916, 1.9915, 1.9856, 2.0000]], device='cuda:0')"
            ]
          },
          "metadata": {
            "tags": []
          },
          "execution_count": 105
        }
      ]
    },
    {
      "cell_type": "code",
      "metadata": {
        "id": "57eWORmdLwei",
        "colab_type": "code",
        "outputId": "1e892aad-4485-48c4-a024-edc5bd726f40",
        "colab": {
          "base_uri": "https://localhost:8080/",
          "height": 108
        }
      },
      "source": [
        "test_kernel[:5,:5]"
      ],
      "execution_count": 106,
      "outputs": [
        {
          "output_type": "execute_result",
          "data": {
            "text/plain": [
              "tensor([[1.9903, 1.9895, 1.9847, 1.9897, 1.9899],\n",
              "        [1.9835, 1.9902, 1.9844, 1.9808, 1.9897],\n",
              "        [1.9868, 1.9950, 1.9902, 1.9888, 1.9926],\n",
              "        [1.9847, 1.9888, 1.9854, 1.9796, 1.9906],\n",
              "        [1.9912, 1.9904, 1.9832, 1.9920, 1.9875]], device='cuda:0')"
            ]
          },
          "metadata": {
            "tags": []
          },
          "execution_count": 106
        }
      ]
    },
    {
      "cell_type": "code",
      "metadata": {
        "id": "3KBjPusiBD8r",
        "colab_type": "code",
        "outputId": "8ed4b0a6-c640-45bc-b63a-a82be61a314a",
        "colab": {
          "base_uri": "https://localhost:8080/",
          "height": 35
        }
      },
      "source": [
        "lr = 1e5\n",
        "\n",
        "n = len(train_kernel)\n",
        "reg = torch.eye(n).to(device) * 1e-3\n",
        "\n",
        "exp_term = - lr * compute_exp_term(- lr * (train_kernel + reg), device)\n",
        "y_pred = torch.matmul(test_kernel, torch.matmul(exp_term, - y_train))\n",
        "(y_pred.argmax(dim=1) == labels_test.to(device)).float().mean()"
      ],
      "execution_count": 112,
      "outputs": [
        {
          "output_type": "execute_result",
          "data": {
            "text/plain": [
              "tensor(0.6156, device='cuda:0')"
            ]
          },
          "metadata": {
            "tags": []
          },
          "execution_count": 112
        }
      ]
    },
    {
      "cell_type": "code",
      "metadata": {
        "id": "_cPWAOrKy5N-",
        "colab_type": "code",
        "outputId": "9792c82b-ff8a-4a71-b3bc-2bb6028ed872",
        "colab": {
          "base_uri": "https://localhost:8080/",
          "height": 35
        }
      },
      "source": [
        "\"\"\"\n",
        "TODO experiments:\n",
        "1. ZCA ✔️\n",
        "2. random features ✔️\n",
        "\"\"\""
      ],
      "execution_count": 108,
      "outputs": [
        {
          "output_type": "execute_result",
          "data": {
            "text/plain": [
              "'\\nTODO experiments:\\n1. ZCA ✔️\\n2. random features ✔️\\n'"
            ]
          },
          "metadata": {
            "tags": []
          },
          "execution_count": 108
        }
      ]
    }
  ]
}