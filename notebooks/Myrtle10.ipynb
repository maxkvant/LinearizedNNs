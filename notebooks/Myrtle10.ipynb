{
  "nbformat": 4,
  "nbformat_minor": 0,
  "metadata": {
    "colab": {
      "name": "Myrtle10.ipynb",
      "provenance": [],
      "collapsed_sections": [],
      "toc_visible": true
    },
    "kernelspec": {
      "name": "python3",
      "display_name": "Python 3"
    },
    "accelerator": "GPU"
  },
  "cells": [
    {
      "cell_type": "markdown",
      "metadata": {
        "id": "QO6TsBeCK5Sq",
        "colab_type": "text"
      },
      "source": [
        "## Download repo\n"
      ]
    },
    {
      "cell_type": "code",
      "metadata": {
        "id": "_Uua_GEmJuZJ",
        "colab_type": "code",
        "colab": {}
      },
      "source": [
        "import os\n",
        "import shutil\n",
        "import zipfile\n",
        "import urllib.request"
      ],
      "execution_count": 0,
      "outputs": []
    },
    {
      "cell_type": "code",
      "metadata": {
        "id": "z8gB3Yv3JuNh",
        "colab_type": "code",
        "colab": {}
      },
      "source": [
        "REPO_ZIP_FILE = 'LinearizedNNs-master.zip'\n",
        "urllib.request.urlretrieve('https://github.com/maxkvant/LinearizedNNs/archive/master.zip', REPO_ZIP_FILE)\n",
        "\n",
        "REPO_PATH = \"LinearizedNNs-master\"\n",
        "if os.path.exists(REPO_PATH):\n",
        "    shutil.rmtree(REPO_PATH)\n",
        "    \n",
        "with zipfile.ZipFile(REPO_ZIP_FILE, 'r') as zip_ref:\n",
        "    zip_ref.extractall('.')\n",
        "    \n",
        "assert os.path.exists(REPO_PATH)"
      ],
      "execution_count": 0,
      "outputs": []
    },
    {
      "cell_type": "markdown",
      "metadata": {
        "id": "WTefKYSkK97l",
        "colab_type": "text"
      },
      "source": [
        "## Imports"
      ]
    },
    {
      "cell_type": "code",
      "metadata": {
        "id": "2GUZzUEyJuA6",
        "colab_type": "code",
        "colab": {}
      },
      "source": [
        "import sys\n",
        "sys.path.append(f\"{REPO_PATH}/src\")"
      ],
      "execution_count": 0,
      "outputs": []
    },
    {
      "cell_type": "code",
      "metadata": {
        "id": "RucjmvnTKf9T",
        "colab_type": "code",
        "outputId": "0a9bb234-2377-4d4b-d8a1-c88015bc85dc",
        "colab": {
          "base_uri": "https://localhost:8080/",
          "height": 70
        }
      },
      "source": [
        "import numpy as np\n",
        "import seaborn as sns\n",
        "from PIL import Image\n",
        "import matplotlib.pyplot as plt\n",
        "\n",
        "import torch\n",
        "import torch.nn as nn\n",
        "from torchvision import transforms, datasets\n",
        "from torchvision.datasets import FashionMNIST\n",
        "\n",
        "from xgboost import XGBClassifier\n",
        "\n",
        "from pytorch_impl.estimators import SgdEstimator\n",
        "from pytorch_impl.nns import warm_up_batch_norm\n",
        "from pytorch_impl import ClassifierTraining\n",
        "from pytorch_impl.matrix_exp import matrix_exp, compute_exp_term\n",
        "from pytorch_impl.nns.utils import to_one_hot"
      ],
      "execution_count": 4,
      "outputs": [
        {
          "output_type": "stream",
          "text": [
            "/usr/local/lib/python3.6/dist-packages/statsmodels/tools/_testing.py:19: FutureWarning: pandas.util.testing is deprecated. Use the functions in the public API at pandas.testing instead.\n",
            "  import pandas.util.testing as tm\n"
          ],
          "name": "stderr"
        }
      ]
    },
    {
      "cell_type": "code",
      "metadata": {
        "id": "T5qJLjb-Okc2",
        "colab_type": "code",
        "colab": {}
      },
      "source": [
        "def to_zca(train, test, min_divisor=1e-8, zca_bias=0.0001, return_weights=True):\n",
        "    origTrainShape = train.shape\n",
        "    origTestShape = test.shape\n",
        "\n",
        "    train = np.ascontiguousarray(train, dtype=np.float32).reshape(train.shape[0], -1).astype('float64')\n",
        "    test = np.ascontiguousarray(test, dtype=np.float32).reshape(test.shape[0], -1).astype('float64')\n",
        "\n",
        "\n",
        "    nTrain = train.shape[0]\n",
        "\n",
        "    # Zero mean every feature\n",
        "    train = train - np.mean(train, axis=1)[:,np.newaxis]\n",
        "    test = test - np.mean(test, axis=1)[:,np.newaxis]\n",
        "\n",
        "    # Normalize\n",
        "    train_norms = np.linalg.norm(train, axis=1)\n",
        "    test_norms = np.linalg.norm(test, axis=1)\n",
        "\n",
        "    # Make features unit norm\n",
        "    train = train/train_norms[:,np.newaxis]\n",
        "    test = test/test_norms[:,np.newaxis]\n",
        "\n",
        "    data_means = np.mean(train, axis=1)\n",
        "\n",
        "\n",
        "    trainCovMat = 1.0/nTrain * train.T.dot(train)\n",
        "\n",
        "    (E,V) = np.linalg.eig(trainCovMat)\n",
        "\n",
        "    E += zca_bias\n",
        "    sqrt_zca_eigs = np.sqrt(E)\n",
        "    inv_sqrt_zca_eigs = np.diag(np.power(sqrt_zca_eigs, -1))\n",
        "    global_ZCA = V.dot(inv_sqrt_zca_eigs).dot(V.T)\n",
        "\n",
        "    train = (train).dot(global_ZCA)\n",
        "    test = (test).dot(global_ZCA)\n",
        "    if return_weights:\n",
        "        return (train.reshape(origTrainShape).astype('float64'), test.reshape(origTestShape).astype('float64')), global_ZCA\n",
        "    else:\n",
        "        return (train.reshape(origTrainShape).astype('float64'), test.reshape(origTestShape).astype('float64'))"
      ],
      "execution_count": 0,
      "outputs": []
    },
    {
      "cell_type": "code",
      "metadata": {
        "id": "yGDlFtGDJs9X",
        "colab_type": "code",
        "colab": {}
      },
      "source": [
        "class Flatten(nn.Module):\n",
        "    def forward(self, input):\n",
        "        return input.view(input.size(0), -1)\n",
        "\n",
        "def Conv(in_filters, out_filters):\n",
        "    conv = nn.Conv2d(in_filters, out_filters, kernel_size=3, stride=1, padding=1, bias=False)\n",
        "    conv.weight.data *= np.sqrt(3)\n",
        "    return conv  \n",
        "\n",
        "def BatchNorm(num_filters):\n",
        "    return nn.BatchNorm2d(num_filters)   \n",
        "\n",
        "class Myrtle10(nn.Module):\n",
        "    def __init__(self, num_classes=10, input_filters=3, num_filters=256):\n",
        "        super(Myrtle10, self).__init__()\n",
        "\n",
        "        self.layers = nn.Sequential(\n",
        "            Conv(input_filters, num_filters), BatchNorm(num_filters), nn.ReLU(),\n",
        "\n",
        "            Conv(num_filters, num_filters),   BatchNorm(num_filters), nn.ReLU(),\n",
        "            Conv(num_filters, num_filters),   BatchNorm(num_filters), nn.ReLU(),\n",
        "            nn.AvgPool2d(kernel_size=2, stride=2),\n",
        "            \n",
        "            Conv(num_filters, num_filters), BatchNorm(num_filters), nn.ReLU(),\n",
        "            Conv(num_filters, num_filters), BatchNorm(num_filters), nn.ReLU(),\n",
        "            Conv(num_filters, num_filters), BatchNorm(num_filters), nn.ReLU(),\n",
        "            nn.AvgPool2d(kernel_size=2, stride=2),\n",
        "            \n",
        "            Conv(num_filters, num_filters), BatchNorm(num_filters), nn.ReLU(),\n",
        "            Conv(num_filters, num_filters), BatchNorm(num_filters), nn.ReLU(),\n",
        "            Conv(num_filters, num_filters), BatchNorm(num_filters), nn.ReLU(),\n",
        "            nn.AvgPool2d(kernel_size=8, stride=8),\n",
        "            Flatten()\n",
        "        )\n",
        "        self.classifier =  nn.Linear(num_filters, num_classes, bias=True)\n",
        "        self.classifier.weight.data *= np.sqrt(3)\n",
        "        \n",
        "        self.to_readout = nn.Linear(num_filters, num_filters, bias=False)\n",
        "        self.to_readout.weight.data *= np.sqrt(3)\n",
        "\n",
        "    def readout(self, x):\n",
        "        x = self.layers(x)\n",
        "        return x * np.sqrt(2)\n",
        "\n",
        "    def forward(self, x):\n",
        "        x = self.readout(x)\n",
        "        return self.classifier(x)"
      ],
      "execution_count": 0,
      "outputs": []
    },
    {
      "cell_type": "markdown",
      "metadata": {
        "id": "o57Es5Z9ST6b",
        "colab_type": "text"
      },
      "source": [
        "## Cifar10"
      ]
    },
    {
      "cell_type": "code",
      "metadata": {
        "id": "E79JnWrB0Yoy",
        "colab_type": "code",
        "colab": {}
      },
      "source": [
        "class CustomImageDataset(torch.utils.data.Dataset):\n",
        "    def __init__(self, data, targets, transform=None, zca=None):\n",
        "        assert len(data) == len(targets)\n",
        "        self.data = data\n",
        "        self.targets = targets\n",
        "        self.transform = transform\n",
        "        self.zca       = zca\n",
        "\n",
        "    def __getitem__(self, idx):\n",
        "        img, y = self.data[idx], self.targets[idx]\n",
        "        img = Image.fromarray(img, \"RGB\")\n",
        "        \n",
        "        if self.transform:\n",
        "            img = self.transform(img)\n",
        "\n",
        "        if self.zca:\n",
        "          original_shape = img.shape\n",
        "          img_zca = np.dot(img.astype(np.float64).reshape(-1), zca)\n",
        "        return .reshape(original_shape), y\n",
        "\n",
        "    def __len__(self):\n",
        "        return len(self.data)"
      ],
      "execution_count": 0,
      "outputs": []
    },
    {
      "cell_type": "code",
      "metadata": {
        "id": "mWymd5B6_Bfb",
        "colab_type": "code",
        "colab": {}
      },
      "source": [
        "class DatasetZCA(torch.utils.data.Dataset):\n",
        "  def __init__(self, dataset, zca):\n",
        "    self.dataset = dataset\n",
        "    self.zca = torch.tensor(zca)\n",
        "  \n",
        "  def __getitem__(self, idx):\n",
        "    x, y = self.dataset(x)\n",
        "    x_zca = x.view(-1).dot(self.zca) \n",
        "    return x.view(-1).dot(self.zca), y\n",
        "\n",
        "  def "
      ],
      "execution_count": 0,
      "outputs": []
    },
    {
      "cell_type": "code",
      "metadata": {
        "id": "JnRBr9JvvTXN",
        "colab_type": "code",
        "colab": {}
      },
      "source": [
        "def cifar_zca():\n",
        "  trainset = datasets.CIFAR10(root='./data', train=True, download=True, transform=None)\n",
        "  testset  = datasets.CIFAR10(root='./data', train=False, download=True, transform=None)\n",
        "\n",
        "  X_train = np.asarray(trainset.data).astype(np.float64)\n",
        "  y_train = np.asarray(trainset.targets)\n",
        "  X_test  = np.asarray(testset.data).astype(np.float64)\n",
        "  y_test  = np.asarray(testset.targets)\n",
        "\n",
        "  (X_train, X_test), global_ZCA = to_zca(X_train, X_test)\n",
        "  return X_train, y_train, X_test, y_test"
      ],
      "execution_count": 0,
      "outputs": []
    },
    {
      "cell_type": "code",
      "metadata": {
        "id": "W-q8tpxOvNz4",
        "colab_type": "code",
        "colab": {
          "base_uri": "https://localhost:8080/",
          "height": 404
        },
        "outputId": "8bf64953-85c4-4373-d962-3bd582a316f2"
      },
      "source": [
        "%%time\n",
        "\n",
        "X_train, y_train, X_test, y_test = cifar_zca()"
      ],
      "execution_count": 61,
      "outputs": [
        {
          "output_type": "stream",
          "text": [
            "Files already downloaded and verified\n",
            "Files already downloaded and verified\n"
          ],
          "name": "stdout"
        },
        {
          "output_type": "error",
          "ename": "ValueError",
          "evalue": "ignored",
          "traceback": [
            "\u001b[0;31m---------------------------------------------------------------------------\u001b[0m",
            "\u001b[0;31mValueError\u001b[0m                                Traceback (most recent call last)",
            "\u001b[0;32m<ipython-input-61-d1360a8c04ab>\u001b[0m in \u001b[0;36m<module>\u001b[0;34m()\u001b[0m\n\u001b[0;32m----> 1\u001b[0;31m \u001b[0mget_ipython\u001b[0m\u001b[0;34m(\u001b[0m\u001b[0;34m)\u001b[0m\u001b[0;34m.\u001b[0m\u001b[0mrun_cell_magic\u001b[0m\u001b[0;34m(\u001b[0m\u001b[0;34m'time'\u001b[0m\u001b[0;34m,\u001b[0m \u001b[0;34m''\u001b[0m\u001b[0;34m,\u001b[0m \u001b[0;34m'\\nX_train, y_train, X_test, y_test, global_ZCA = cifar_zca()'\u001b[0m\u001b[0;34m)\u001b[0m\u001b[0;34m\u001b[0m\u001b[0;34m\u001b[0m\u001b[0m\n\u001b[0m",
            "\u001b[0;32m/usr/local/lib/python3.6/dist-packages/IPython/core/interactiveshell.py\u001b[0m in \u001b[0;36mrun_cell_magic\u001b[0;34m(self, magic_name, line, cell)\u001b[0m\n\u001b[1;32m   2115\u001b[0m             \u001b[0mmagic_arg_s\u001b[0m \u001b[0;34m=\u001b[0m \u001b[0mself\u001b[0m\u001b[0;34m.\u001b[0m\u001b[0mvar_expand\u001b[0m\u001b[0;34m(\u001b[0m\u001b[0mline\u001b[0m\u001b[0;34m,\u001b[0m \u001b[0mstack_depth\u001b[0m\u001b[0;34m)\u001b[0m\u001b[0;34m\u001b[0m\u001b[0;34m\u001b[0m\u001b[0m\n\u001b[1;32m   2116\u001b[0m             \u001b[0;32mwith\u001b[0m \u001b[0mself\u001b[0m\u001b[0;34m.\u001b[0m\u001b[0mbuiltin_trap\u001b[0m\u001b[0;34m:\u001b[0m\u001b[0;34m\u001b[0m\u001b[0;34m\u001b[0m\u001b[0m\n\u001b[0;32m-> 2117\u001b[0;31m                 \u001b[0mresult\u001b[0m \u001b[0;34m=\u001b[0m \u001b[0mfn\u001b[0m\u001b[0;34m(\u001b[0m\u001b[0mmagic_arg_s\u001b[0m\u001b[0;34m,\u001b[0m \u001b[0mcell\u001b[0m\u001b[0;34m)\u001b[0m\u001b[0;34m\u001b[0m\u001b[0;34m\u001b[0m\u001b[0m\n\u001b[0m\u001b[1;32m   2118\u001b[0m             \u001b[0;32mreturn\u001b[0m \u001b[0mresult\u001b[0m\u001b[0;34m\u001b[0m\u001b[0;34m\u001b[0m\u001b[0m\n\u001b[1;32m   2119\u001b[0m \u001b[0;34m\u001b[0m\u001b[0m\n",
            "\u001b[0;32m<decorator-gen-60>\u001b[0m in \u001b[0;36mtime\u001b[0;34m(self, line, cell, local_ns)\u001b[0m\n",
            "\u001b[0;32m/usr/local/lib/python3.6/dist-packages/IPython/core/magic.py\u001b[0m in \u001b[0;36m<lambda>\u001b[0;34m(f, *a, **k)\u001b[0m\n\u001b[1;32m    186\u001b[0m     \u001b[0;31m# but it's overkill for just that one bit of state.\u001b[0m\u001b[0;34m\u001b[0m\u001b[0;34m\u001b[0m\u001b[0;34m\u001b[0m\u001b[0m\n\u001b[1;32m    187\u001b[0m     \u001b[0;32mdef\u001b[0m \u001b[0mmagic_deco\u001b[0m\u001b[0;34m(\u001b[0m\u001b[0marg\u001b[0m\u001b[0;34m)\u001b[0m\u001b[0;34m:\u001b[0m\u001b[0;34m\u001b[0m\u001b[0;34m\u001b[0m\u001b[0m\n\u001b[0;32m--> 188\u001b[0;31m         \u001b[0mcall\u001b[0m \u001b[0;34m=\u001b[0m \u001b[0;32mlambda\u001b[0m \u001b[0mf\u001b[0m\u001b[0;34m,\u001b[0m \u001b[0;34m*\u001b[0m\u001b[0ma\u001b[0m\u001b[0;34m,\u001b[0m \u001b[0;34m**\u001b[0m\u001b[0mk\u001b[0m\u001b[0;34m:\u001b[0m \u001b[0mf\u001b[0m\u001b[0;34m(\u001b[0m\u001b[0;34m*\u001b[0m\u001b[0ma\u001b[0m\u001b[0;34m,\u001b[0m \u001b[0;34m**\u001b[0m\u001b[0mk\u001b[0m\u001b[0;34m)\u001b[0m\u001b[0;34m\u001b[0m\u001b[0;34m\u001b[0m\u001b[0m\n\u001b[0m\u001b[1;32m    189\u001b[0m \u001b[0;34m\u001b[0m\u001b[0m\n\u001b[1;32m    190\u001b[0m         \u001b[0;32mif\u001b[0m \u001b[0mcallable\u001b[0m\u001b[0;34m(\u001b[0m\u001b[0marg\u001b[0m\u001b[0;34m)\u001b[0m\u001b[0;34m:\u001b[0m\u001b[0;34m\u001b[0m\u001b[0;34m\u001b[0m\u001b[0m\n",
            "\u001b[0;32m/usr/local/lib/python3.6/dist-packages/IPython/core/magics/execution.py\u001b[0m in \u001b[0;36mtime\u001b[0;34m(self, line, cell, local_ns)\u001b[0m\n\u001b[1;32m   1191\u001b[0m         \u001b[0;32melse\u001b[0m\u001b[0;34m:\u001b[0m\u001b[0;34m\u001b[0m\u001b[0;34m\u001b[0m\u001b[0m\n\u001b[1;32m   1192\u001b[0m             \u001b[0mst\u001b[0m \u001b[0;34m=\u001b[0m \u001b[0mclock2\u001b[0m\u001b[0;34m(\u001b[0m\u001b[0;34m)\u001b[0m\u001b[0;34m\u001b[0m\u001b[0;34m\u001b[0m\u001b[0m\n\u001b[0;32m-> 1193\u001b[0;31m             \u001b[0mexec\u001b[0m\u001b[0;34m(\u001b[0m\u001b[0mcode\u001b[0m\u001b[0;34m,\u001b[0m \u001b[0mglob\u001b[0m\u001b[0;34m,\u001b[0m \u001b[0mlocal_ns\u001b[0m\u001b[0;34m)\u001b[0m\u001b[0;34m\u001b[0m\u001b[0;34m\u001b[0m\u001b[0m\n\u001b[0m\u001b[1;32m   1194\u001b[0m             \u001b[0mend\u001b[0m \u001b[0;34m=\u001b[0m \u001b[0mclock2\u001b[0m\u001b[0;34m(\u001b[0m\u001b[0;34m)\u001b[0m\u001b[0;34m\u001b[0m\u001b[0;34m\u001b[0m\u001b[0m\n\u001b[1;32m   1195\u001b[0m             \u001b[0mout\u001b[0m \u001b[0;34m=\u001b[0m \u001b[0;32mNone\u001b[0m\u001b[0;34m\u001b[0m\u001b[0;34m\u001b[0m\u001b[0m\n",
            "\u001b[0;32m<timed exec>\u001b[0m in \u001b[0;36m<module>\u001b[0;34m()\u001b[0m\n",
            "\u001b[0;31mValueError\u001b[0m: not enough values to unpack (expected 5, got 4)"
          ]
        }
      ]
    },
    {
      "cell_type": "code",
      "metadata": {
        "id": "fI5i0NkkSTFc",
        "colab_type": "code",
        "outputId": "5173b0d1-97c4-4ff2-dcc6-73840b616976",
        "colab": {
          "base_uri": "https://localhost:8080/",
          "height": 34
        }
      },
      "source": [
        "torch.manual_seed(0)\n",
        "\n",
        "if torch.cuda.is_available():\n",
        "    device = torch.device('cuda:0')\n",
        "else:\n",
        "    device = torch.device('cpu')\n",
        "\n",
        "transform_train = transforms.Compose([\n",
        "    transforms.RandomCrop(32, padding=4),\n",
        "    transforms.RandomHorizontalFlip(),\n",
        "    transforms.ToTensor(),\n",
        "])\n",
        "\n",
        "transform_test = transforms.Compose([\n",
        "    transforms.Lambda(lambda x: np.asarray(x)),\n",
        "    transforms.ToTensor(),\n",
        "])\n",
        "\n",
        "trainset = datasets.CIFAR10(root='./data', train=True, download=True, transform=transform_train)\n",
        "testset  = datasets.CIFAR10(root='./data', train=False, download=True, transform=transfrom_test)\n",
        "\n",
        "cifar_train = CustomImageDataset(X_train, y_train, transform_train)\n",
        "cifar_test  = CustomImageDataset(X_train, y_train, transform_test)\n",
        "\n",
        "train_loader = torch.utils.data.DataLoader(cifar_train, batch_size=512, shuffle=True, pin_memory=True)\n",
        "test_loader  = torch.utils.data.DataLoader(cifar_test,  batch_size=512, shuffle=True, pin_memory=True)\n",
        "\n",
        "device"
      ],
      "execution_count": 37,
      "outputs": [
        {
          "output_type": "execute_result",
          "data": {
            "text/plain": [
              "device(type='cuda', index=0)"
            ]
          },
          "metadata": {
            "tags": []
          },
          "execution_count": 37
        }
      ]
    },
    {
      "cell_type": "code",
      "metadata": {
        "id": "zPAY9M9OBACI",
        "colab_type": "code",
        "outputId": "deb27778-c4eb-40c8-9418-07c94a6b98eb",
        "colab": {
          "base_uri": "https://localhost:8080/",
          "height": 634
        }
      },
      "source": [
        "model = Myrtle10().to(device)\n",
        "\n",
        "for batch_id, (X, y) in enumerate(train_loader):\n",
        "  if batch_id > 20:\n",
        "    break\n",
        "  X, y = X.to(device), y.to(device)\n",
        "  model.readout(X)\n",
        "\n",
        "_, (X, y) = next(enumerate(train_loader))\n",
        "X, y = X.to(device), y.to(device)\n",
        "\n",
        "\n",
        "output = model.readout(X).detach().cpu().numpy()\n",
        "sns.distplot(output.reshape(-1))\n",
        "\n",
        "np.std(output.reshape(-1))"
      ],
      "execution_count": 38,
      "outputs": [
        {
          "output_type": "stream",
          "text": [
            "torch.Size([512, 3, 32, 32])\n",
            "torch.Size([512, 3, 32, 32])\n",
            "torch.Size([512, 3, 32, 32])\n",
            "torch.Size([512, 3, 32, 32])\n",
            "torch.Size([512, 3, 32, 32])\n",
            "torch.Size([512, 3, 32, 32])\n",
            "torch.Size([512, 3, 32, 32])\n",
            "torch.Size([512, 3, 32, 32])\n",
            "torch.Size([512, 3, 32, 32])\n",
            "torch.Size([512, 3, 32, 32])\n",
            "torch.Size([512, 3, 32, 32])\n",
            "torch.Size([512, 3, 32, 32])\n",
            "torch.Size([512, 3, 32, 32])\n",
            "torch.Size([512, 3, 32, 32])\n",
            "torch.Size([512, 3, 32, 32])\n",
            "torch.Size([512, 3, 32, 32])\n",
            "torch.Size([512, 3, 32, 32])\n",
            "torch.Size([512, 3, 32, 32])\n",
            "torch.Size([512, 3, 32, 32])\n",
            "torch.Size([512, 3, 32, 32])\n",
            "torch.Size([512, 3, 32, 32])\n"
          ],
          "name": "stdout"
        },
        {
          "output_type": "execute_result",
          "data": {
            "text/plain": [
              "0.13033949"
            ]
          },
          "metadata": {
            "tags": []
          },
          "execution_count": 38
        },
        {
          "output_type": "display_data",
          "data": {
            "image/png": "[encoded data removed]",
            "text/plain": [
              "<Figure size 432x288 with 1 Axes>"
            ]
          },
          "metadata": {
            "tags": [],
            "needs_background": "light"
          }
        }
      ]
    },
    {
      "cell_type": "code",
      "metadata": {
        "id": "f_sHp37X7Kvq",
        "colab_type": "code",
        "colab": {
          "base_uri": "https://localhost:8080/",
          "height": 34
        },
        "outputId": "eef8759d-12a0-4bd6-fa37-6c15bc2529f8"
      },
      "source": [
        "X_train.shape"
      ],
      "execution_count": 41,
      "outputs": [
        {
          "output_type": "execute_result",
          "data": {
            "text/plain": [
              "(50000, 32, 32, 3)"
            ]
          },
          "metadata": {
            "tags": []
          },
          "execution_count": 41
        }
      ]
    },
    {
      "cell_type": "code",
      "metadata": {
        "id": "FAURYrnB9G5C",
        "colab_type": "code",
        "colab": {
          "base_uri": "https://localhost:8080/",
          "height": 195
        },
        "outputId": "8867dc2e-fb07-476d-ef41-8bef0385b200"
      },
      "source": [
        "np.quantile(X_train.reshape(-1))"
      ],
      "execution_count": 60,
      "outputs": [
        {
          "output_type": "error",
          "ename": "TypeError",
          "evalue": "ignored",
          "traceback": [
            "\u001b[0;31m---------------------------------------------------------------------------\u001b[0m",
            "\u001b[0;31mTypeError\u001b[0m                                 Traceback (most recent call last)",
            "\u001b[0;32m<ipython-input-60-2d98c1113ebb>\u001b[0m in \u001b[0;36m<module>\u001b[0;34m()\u001b[0m\n\u001b[0;32m----> 1\u001b[0;31m \u001b[0mnp\u001b[0m\u001b[0;34m.\u001b[0m\u001b[0mquantile\u001b[0m\u001b[0;34m(\u001b[0m\u001b[0mX_train\u001b[0m\u001b[0;34m.\u001b[0m\u001b[0mreshape\u001b[0m\u001b[0;34m(\u001b[0m\u001b[0;34m-\u001b[0m\u001b[0;36m1\u001b[0m\u001b[0;34m)\u001b[0m\u001b[0;34m)\u001b[0m\u001b[0;34m\u001b[0m\u001b[0;34m\u001b[0m\u001b[0m\n\u001b[0m",
            "\u001b[0;32m<__array_function__ internals>\u001b[0m in \u001b[0;36mquantile\u001b[0;34m(*args, **kwargs)\u001b[0m\n",
            "\u001b[0;31mTypeError\u001b[0m: _quantile_dispatcher() missing 1 required positional argument: 'q'"
          ]
        }
      ]
    },
    {
      "cell_type": "code",
      "metadata": {
        "id": "W3gifElZ7NIG",
        "colab_type": "code",
        "colab": {
          "base_uri": "https://localhost:8080/",
          "height": 49
        },
        "outputId": "9682f077-4c1c-4f20-82f8-d53080a54ca4"
      },
      "source": [
        "Image.fromarray((np.floor(X_train[3] * 100. + 120.)).astype(np.int32), \"RGB\")"
      ],
      "execution_count": 58,
      "outputs": [
        {
          "output_type": "execute_result",
          "data": {
            "image/png": "[encoded data removed]",
            "text/plain": [
              "<PIL.Image.Image image mode=RGB size=32x32 at 0x7FC9E2043128>"
            ]
          },
          "metadata": {
            "tags": []
          },
          "execution_count": 58
        }
      ]
    },
    {
      "cell_type": "code",
      "metadata": {
        "id": "Ujwo27cn8zS1",
        "colab_type": "code",
        "colab": {
          "base_uri": "https://localhost:8080/",
          "height": 34
        },
        "outputId": "1df6c07c-0c2b-4db9-d6bf-d794fbaad05e"
      },
      "source": [
        "np.max(X_train[0])"
      ],
      "execution_count": 55,
      "outputs": [
        {
          "output_type": "execute_result",
          "data": {
            "text/plain": [
              "2.166186015763635"
            ]
          },
          "metadata": {
            "tags": []
          },
          "execution_count": 55
        }
      ]
    },
    {
      "cell_type": "code",
      "metadata": {
        "id": "Fy5oR8f87Qyt",
        "colab_type": "code",
        "colab": {}
      },
      "source": [
        ""
      ],
      "execution_count": 0,
      "outputs": []
    },
    {
      "cell_type": "code",
      "metadata": {
        "id": "usLqP4fCUVf9",
        "colab_type": "code",
        "outputId": "7d471ca6-e93e-4387-a7d4-2a1f43e5be29",
        "colab": {
          "base_uri": "https://localhost:8080/",
          "height": 879
        }
      },
      "source": [
        "model = Myrtle10(num_filters=32).to(device)\n",
        "\n",
        "learning_rate = 0.05\n",
        "\n",
        "estimator = SgdEstimator(model, nn.CrossEntropyLoss(), learning_rate)\n",
        "training  = ClassifierTraining(estimator, device)\n",
        "\n",
        "training.train(train_loader, test_loader, num_epochs=20, learning_rate=learning_rate)"
      ],
      "execution_count": 40,
      "outputs": [
        {
          "output_type": "stream",
          "text": [
            "epoch 0/20, 0s since start\n"
          ],
          "name": "stdout"
        },
        {
          "output_type": "display_data",
          "data": {
            "image/png": "[encoded data removed]",
            "text/plain": [
              "<Figure size 432x288 with 1 Axes>"
            ]
          },
          "metadata": {
            "tags": [],
            "needs_background": "light"
          }
        },
        {
          "output_type": "stream",
          "text": [
            "epoch 1/20, 187s since start\n"
          ],
          "name": "stdout"
        },
        {
          "output_type": "display_data",
          "data": {
            "image/png": "[encoded data removed]",
            "text/plain": [
              "<Figure size 432x288 with 1 Axes>"
            ]
          },
          "metadata": {
            "tags": [],
            "needs_background": "light"
          }
        },
        {
          "output_type": "stream",
          "text": [
            "epoch 2/20, 373s since start\n"
          ],
          "name": "stdout"
        },
        {
          "output_type": "error",
          "ename": "KeyboardInterrupt",
          "evalue": "ignored",
          "traceback": [
            "\u001b[0;31m---------------------------------------------------------------------------\u001b[0m",
            "\u001b[0;31mKeyboardInterrupt\u001b[0m                         Traceback (most recent call last)",
            "\u001b[0;32m<ipython-input-40-6a445a2eb7af>\u001b[0m in \u001b[0;36m<module>\u001b[0;34m()\u001b[0m\n\u001b[1;32m      6\u001b[0m \u001b[0mtraining\u001b[0m  \u001b[0;34m=\u001b[0m \u001b[0mClassifierTraining\u001b[0m\u001b[0;34m(\u001b[0m\u001b[0mestimator\u001b[0m\u001b[0;34m,\u001b[0m \u001b[0mdevice\u001b[0m\u001b[0;34m)\u001b[0m\u001b[0;34m\u001b[0m\u001b[0;34m\u001b[0m\u001b[0m\n\u001b[1;32m      7\u001b[0m \u001b[0;34m\u001b[0m\u001b[0m\n\u001b[0;32m----> 8\u001b[0;31m \u001b[0mtraining\u001b[0m\u001b[0;34m.\u001b[0m\u001b[0mtrain\u001b[0m\u001b[0;34m(\u001b[0m\u001b[0mtrain_loader\u001b[0m\u001b[0;34m,\u001b[0m \u001b[0mtest_loader\u001b[0m\u001b[0;34m,\u001b[0m \u001b[0mnum_epochs\u001b[0m\u001b[0;34m=\u001b[0m\u001b[0;36m20\u001b[0m\u001b[0;34m,\u001b[0m \u001b[0mlearning_rate\u001b[0m\u001b[0;34m=\u001b[0m\u001b[0mlearning_rate\u001b[0m\u001b[0;34m)\u001b[0m\u001b[0;34m\u001b[0m\u001b[0;34m\u001b[0m\u001b[0m\n\u001b[0m",
            "\u001b[0;32m/content/LinearizedNNs-master/src/pytorch_impl/classifier_training.py\u001b[0m in \u001b[0;36mtrain\u001b[0;34m(self, train_loader, test_loader, num_epochs, learning_rate)\u001b[0m\n\u001b[1;32m     30\u001b[0m                 \u001b[0mprev_len\u001b[0m \u001b[0;34m=\u001b[0m \u001b[0mlen\u001b[0m\u001b[0;34m(\u001b[0m\u001b[0mX\u001b[0m\u001b[0;34m)\u001b[0m\u001b[0;34m\u001b[0m\u001b[0;34m\u001b[0m\u001b[0m\n\u001b[1;32m     31\u001b[0m \u001b[0;34m\u001b[0m\u001b[0m\n\u001b[0;32m---> 32\u001b[0;31m                 \u001b[0mX\u001b[0m\u001b[0;34m,\u001b[0m \u001b[0my\u001b[0m \u001b[0;34m=\u001b[0m \u001b[0mX\u001b[0m\u001b[0;34m.\u001b[0m\u001b[0mto\u001b[0m\u001b[0;34m(\u001b[0m\u001b[0mself\u001b[0m\u001b[0;34m.\u001b[0m\u001b[0mdevice\u001b[0m\u001b[0;34m)\u001b[0m\u001b[0;34m,\u001b[0m \u001b[0my\u001b[0m\u001b[0;34m.\u001b[0m\u001b[0mto\u001b[0m\u001b[0;34m(\u001b[0m\u001b[0mself\u001b[0m\u001b[0;34m.\u001b[0m\u001b[0mdevice\u001b[0m\u001b[0;34m)\u001b[0m\u001b[0;34m\u001b[0m\u001b[0;34m\u001b[0m\u001b[0m\n\u001b[0m\u001b[1;32m     33\u001b[0m                 \u001b[0mself\u001b[0m\u001b[0;34m.\u001b[0m\u001b[0mestimator\u001b[0m\u001b[0;34m.\u001b[0m\u001b[0mfit_batch\u001b[0m\u001b[0;34m(\u001b[0m\u001b[0mX\u001b[0m\u001b[0;34m,\u001b[0m \u001b[0my\u001b[0m\u001b[0;34m)\u001b[0m\u001b[0;34m\u001b[0m\u001b[0;34m\u001b[0m\u001b[0m\n\u001b[1;32m     34\u001b[0m \u001b[0;34m\u001b[0m\u001b[0m\n",
            "\u001b[0;31mKeyboardInterrupt\u001b[0m: "
          ]
        }
      ]
    },
    {
      "cell_type": "code",
      "metadata": {
        "id": "RCVsNNKdbaZh",
        "colab_type": "code",
        "colab": {}
      },
      "source": [
        "ClassifierTraining(estimator, device).get_accuracy(test_loader)"
      ],
      "execution_count": 0,
      "outputs": []
    },
    {
      "cell_type": "code",
      "metadata": {
        "id": "_cPWAOrKy5N-",
        "colab_type": "code",
        "colab": {}
      },
      "source": [
        "\"\"\"\n",
        "TODO experiments:\n",
        "1. ZCA\n",
        "2. random features with/without batchnorm\n",
        "\"\"\""
      ],
      "execution_count": 0,
      "outputs": []
    }
  ]
}