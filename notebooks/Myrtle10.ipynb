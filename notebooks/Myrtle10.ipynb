{
 "cells": [
  {
   "cell_type": "markdown",
   "metadata": {
    "colab_type": "text",
    "id": "QO6TsBeCK5Sq"
   },
   "source": [
    "## Download repo\n"
   ]
  },
  {
   "cell_type": "code",
   "execution_count": 1,
   "metadata": {
    "colab": {},
    "colab_type": "code",
    "id": "_Uua_GEmJuZJ"
   },
   "outputs": [],
   "source": [
    "import os\n",
    "import shutil\n",
    "import zipfile\n",
    "import urllib.request"
   ]
  },
  {
   "cell_type": "code",
   "execution_count": 2,
   "metadata": {
    "colab": {},
    "colab_type": "code",
    "id": "z8gB3Yv3JuNh"
   },
   "outputs": [],
   "source": [
    "REPO_ZIP_FILE = 'LinearizedNNs-master.zip'\n",
    "urllib.request.urlretrieve('https://github.com/maxkvant/LinearizedNNs/archive/master.zip', REPO_ZIP_FILE)\n",
    "\n",
    "REPO_PATH = \"LinearizedNNs-master\"\n",
    "if os.path.exists(REPO_PATH):\n",
    "    shutil.rmtree(REPO_PATH)\n",
    "    \n",
    "with zipfile.ZipFile(REPO_ZIP_FILE, 'r') as zip_ref:\n",
    "    zip_ref.extractall('.')\n",
    "    \n",
    "assert os.path.exists(REPO_PATH)"
   ]
  },
  {
   "cell_type": "markdown",
   "metadata": {
    "colab_type": "text",
    "id": "WTefKYSkK97l"
   },
   "source": [
    "## Imports"
   ]
  },
  {
   "cell_type": "code",
   "execution_count": 3,
   "metadata": {
    "colab": {},
    "colab_type": "code",
    "id": "2GUZzUEyJuA6"
   },
   "outputs": [],
   "source": [
    "import sys\n",
    "sys.path.append(f\"{REPO_PATH}/src\")"
   ]
  },
  {
   "cell_type": "code",
   "execution_count": 5,
   "metadata": {
    "colab": {
     "base_uri": "https://localhost:8080/",
     "height": 74
    },
    "colab_type": "code",
    "id": "RucjmvnTKf9T",
    "outputId": "c3d68fea-e033-4a76-e685-f0e670145b86"
   },
   "outputs": [],
   "source": [
    "import time\n",
    "import numpy as np\n",
    "import seaborn as sns\n",
    "from PIL import Image\n",
    "import matplotlib.pyplot as plt\n",
    "\n",
    "import torch\n",
    "import torch.nn as nn\n",
    "import torch.nn.functional as F\n",
    "from torchvision import transforms, datasets\n",
    "from torchvision.datasets import FashionMNIST\n",
    "\n",
    "\n",
    "from pytorch_impl.estimators import SgdEstimator\n",
    "from pytorch_impl.nns import warm_up_batch_norm\n",
    "from pytorch_impl import ClassifierTraining\n",
    "from pytorch_impl.matrix_exp import matrix_exp, compute_exp_term\n",
    "from pytorch_impl.nns.utils import to_one_hot\n",
    "from from_neural_kernels import to_zca, CustomTensorDataset"
   ]
  },
  {
   "cell_type": "code",
   "execution_count": 6,
   "metadata": {
    "colab": {},
    "colab_type": "code",
    "id": "yGDlFtGDJs9X"
   },
   "outputs": [],
   "source": [
    "class Flatten(nn.Module):\n",
    "    def forward(self, input):\n",
    "        return input.view(input.size(0), -1)\n",
    "\n",
    "def Conv(in_filters, out_filters, groups=1):\n",
    "    conv = nn.Conv2d(in_filters, out_filters, kernel_size=3, stride=1, padding=1, groups=groups, bias=False)\n",
    "    conv.weight.data *= np.sqrt(3)\n",
    "    return conv  \n",
    "\n",
    "class Normalize(nn.Module):\n",
    "    def forward(self, input):\n",
    "        return nn.functional.normalize(input, p=2, dim=1, eps=1e-8)  \n",
    "\n",
    "class ReLU2(nn.Module):\n",
    "    C = np.sqrt(2)\n",
    "\n",
    "    def forward(self, input):\n",
    "        return F.relu(input, inplace=True) * self.C\n",
    "\n",
    "class ResidualConnection(nn.Module):\n",
    "    def __init__(self, *layers):\n",
    "        super(ResidualConnection, self).__init__()\n",
    "        self.layers = nn.Sequential(*layers)\n",
    "    \n",
    "    def forward(self, input):\n",
    "        return (input + self.layers(input)) / 2.\n",
    "\n",
    "class Myrtle10(nn.Module):\n",
    "    def __init__(self, num_classes=10, input_filters=3, num_filters=256, groups=1):\n",
    "        super(Myrtle10, self).__init__()\n",
    "        filters = num_filters * groups\n",
    "\n",
    "        def Activation():\n",
    "            return ReLU2()\n",
    "\n",
    "        self.layers = nn.Sequential(\n",
    "            Conv(input_filters, filters),     Activation(),\n",
    "\n",
    "            #ResidualConnection(\n",
    "              Conv(filters, filters, groups), Activation(),\n",
    "              Conv(filters, filters, groups), Activation(),\n",
    "            #),\n",
    "            nn.AvgPool2d(kernel_size=2, stride=2),\n",
    "            \n",
    "            #ResidualConnection(\n",
    "              Conv(filters, filters, groups), Activation(),\n",
    "              Conv(filters, filters, groups), Activation(),\n",
    "            #),\n",
    "            Conv(filters, filters, groups),   Activation(),\n",
    "            nn.AvgPool2d(kernel_size=2, stride=2),\n",
    "            \n",
    "            #ResidualConnection(\n",
    "              Conv(filters, filters, groups), Activation(),\n",
    "              Conv(filters, filters, groups), Activation(),\n",
    "            #),\n",
    "            Conv(filters, filters, groups),   Activation(),\n",
    "            nn.AvgPool2d(kernel_size=8, stride=8),\n",
    "            \n",
    "            Normalize(),\n",
    "            Flatten()\n",
    "        )\n",
    "        self.classifier =  nn.Linear(num_filters, num_classes, bias=True)\n",
    "        \n",
    "    def readout(self, x):\n",
    "        return self.layers(x)\n",
    "\n",
    "    def forward(self, x):\n",
    "        x = self.readout(x)\n",
    "        return self.classifier(x)"
   ]
  },
  {
   "cell_type": "code",
   "execution_count": 7,
   "metadata": {
    "colab": {},
    "colab_type": "code",
    "id": "bxXS-6Im9WI_"
   },
   "outputs": [],
   "source": [
    "class Myrtle5(nn.Module):\n",
    "    def __init__(self, num_classes=10, input_filters=3, num_filters=256, groups=1):\n",
    "        super(Myrtle5, self).__init__()\n",
    "        filters = num_filters * groups\n",
    "\n",
    "        def Activation():\n",
    "            return ReLU2()\n",
    "\n",
    "        self.layers = nn.Sequential(\n",
    "            Conv(input_filters, filters),   Activation(),\n",
    "            Conv(filters, filters, groups), Activation(),\n",
    "            nn.AvgPool2d(kernel_size=2, stride=2),\n",
    "            \n",
    "            Conv(filters, filters, groups), Activation(),\n",
    "            nn.AvgPool2d(kernel_size=2, stride=2),\n",
    "            \n",
    "            Conv(filters, filters, groups), Activation(),\n",
    "            nn.AvgPool2d(kernel_size=8, stride=8),\n",
    "            \n",
    "            Normalize(),\n",
    "            Flatten()\n",
    "        )\n",
    "        self.classifier =  nn.Linear(num_filters, num_classes, bias=True)\n",
    "        \n",
    "    def readout(self, x):\n",
    "        return self.layers(x)\n",
    "\n",
    "    def forward(self, x):\n",
    "        x = self.readout(x)\n",
    "        return self.classifier(x)"
   ]
  },
  {
   "cell_type": "code",
   "execution_count": 8,
   "metadata": {
    "colab": {},
    "colab_type": "code",
    "id": "fB-JSFBGHn7A"
   },
   "outputs": [],
   "source": [
    "class Myrtle7(nn.Module):\n",
    "    def __init__(self, num_classes=10, input_filters=3, num_filters=256, groups=1):\n",
    "        super(Myrtle7, self).__init__()\n",
    "        filters = num_filters * groups\n",
    "\n",
    "        def Activation():\n",
    "            return ReLU2()\n",
    "\n",
    "        self.layers = nn.Sequential(\n",
    "            Conv(input_filters, filters),   Activation(),\n",
    "            Conv(filters, filters, groups), Activation(),\n",
    "            nn.AvgPool2d(kernel_size=2, stride=2),\n",
    "            \n",
    "\n",
    "            Conv(filters, filters, groups), Activation(),\n",
    "            Conv(filters, filters, groups), Activation(),\n",
    "            nn.AvgPool2d(kernel_size=2, stride=2),\n",
    "            \n",
    "            Conv(filters, filters, groups), Activation(),\n",
    "            Conv(filters, filters, groups), Activation(),\n",
    "            nn.AvgPool2d(kernel_size=8, stride=8),\n",
    "            \n",
    "            Normalize(),\n",
    "            Flatten()\n",
    "        )\n",
    "        self.classifier =  nn.Linear(num_filters, num_classes, bias=True)\n",
    "        \n",
    "    def readout(self, x):\n",
    "        return self.layers(x)\n",
    "\n",
    "    def forward(self, x):\n",
    "        x = self.readout(x)\n",
    "        return self.classifier(x)"
   ]
  },
  {
   "cell_type": "markdown",
   "metadata": {
    "colab_type": "text",
    "id": "o57Es5Z9ST6b"
   },
   "source": [
    "## Cifar10"
   ]
  },
  {
   "cell_type": "code",
   "execution_count": 9,
   "metadata": {
    "colab": {},
    "colab_type": "code",
    "id": "JnRBr9JvvTXN"
   },
   "outputs": [],
   "source": [
    "def get_cifar_zca():\n",
    "    trainset = datasets.CIFAR10(root='./data', train=True, download=True, transform=None)\n",
    "    testset  = datasets.CIFAR10(root='./data', train=False, download=True, transform=None)\n",
    "\n",
    "    X_train = np.asarray(trainset.data).astype(np.float64)\n",
    "    y_train = np.asarray(trainset.targets)\n",
    "    X_test  = np.asarray(testset.data).astype(np.float64)\n",
    "    y_test  = np.asarray(testset.targets)\n",
    "\n",
    "    (X_train, X_test), global_ZCA = to_zca(X_train, X_test)\n",
    "\n",
    "    X_train = np.transpose(X_train, (0,3,1,2))\n",
    "    X_test  = np.transpose(X_test,  (0,3,1,2))\n",
    "\n",
    "    return X_train, y_train, X_test, y_test"
   ]
  },
  {
   "cell_type": "code",
   "execution_count": 10,
   "metadata": {
    "colab": {
     "base_uri": "https://localhost:8080/",
     "height": 90
    },
    "colab_type": "code",
    "id": "W-q8tpxOvNz4",
    "outputId": "0b23a6bd-0655-4946-b0c6-40bf68599def"
   },
   "outputs": [
    {
     "name": "stdout",
     "output_type": "stream",
     "text": [
      "Downloading https://www.cs.toronto.edu/~kriz/cifar-10-python.tar.gz to ./data/cifar-10-python.tar.gz\n"
     ]
    },
    {
     "name": "stderr",
     "output_type": "stream",
     "text": [
      "100.0%"
     ]
    },
    {
     "name": "stdout",
     "output_type": "stream",
     "text": [
      "Extracting ./data/cifar-10-python.tar.gz to ./data\n",
      "Files already downloaded and verified\n",
      "CPU times: user 4min 13s, sys: 1min 17s, total: 5min 30s\n",
      "Wall time: 1min 7s\n"
     ]
    }
   ],
   "source": [
    "%%time\n",
    "\n",
    "X_train, y_train, X_test, y_test = get_cifar_zca()"
   ]
  },
  {
   "cell_type": "code",
   "execution_count": 11,
   "metadata": {
    "colab": {
     "base_uri": "https://localhost:8080/",
     "height": 35
    },
    "colab_type": "code",
    "id": "IsQiD_vMYrep",
    "outputId": "72d0a95f-ab52-4c69-a7cb-8b344e82d0d0"
   },
   "outputs": [
    {
     "data": {
      "text/plain": [
       "device(type='cuda', index=0)"
      ]
     },
     "execution_count": 11,
     "metadata": {},
     "output_type": "execute_result"
    }
   ],
   "source": [
    "torch.manual_seed(0)\n",
    "\n",
    "if torch.cuda.is_available():\n",
    "    device = torch.device('cuda:0')\n",
    "else:\n",
    "    device = torch.device('cpu')\n",
    "\n",
    "cifar_train = CustomTensorDataset(torch.tensor(X_train), torch.tensor(y_train, dtype=torch.long), transform='all')\n",
    "cifar_test  = CustomTensorDataset(torch.tensor(X_test), torch.tensor(y_test, dtype=torch.long), transform=None)\n",
    "\n",
    "train_loader = torch.utils.data.DataLoader(cifar_train, batch_size=128, shuffle=True)\n",
    "test_loader  = torch.utils.data.DataLoader(cifar_test,  batch_size=128, shuffle=True)\n",
    "\n",
    "device"
   ]
  },
  {
   "cell_type": "code",
   "execution_count": 12,
   "metadata": {
    "colab": {
     "base_uri": "https://localhost:8080/",
     "height": 284
    },
    "colab_type": "code",
    "id": "zPAY9M9OBACI",
    "outputId": "5f66443b-e4bd-46a3-cd39-a8832358270d"
   },
   "outputs": [
    {
     "data": {
      "text/plain": [
       "0.04611601"
      ]
     },
     "execution_count": 12,
     "metadata": {},
     "output_type": "execute_result"
    },
    {
     "data": {
      "image/png": "[encoded data removed]",
      "text/plain": [
       "<Figure size 432x288 with 1 Axes>"
      ]
     },
     "metadata": {
      "needs_background": "light"
     },
     "output_type": "display_data"
    }
   ],
   "source": [
    "model = Myrtle10(num_filters=128, groups=2).to(device)\n",
    "for batch_id, (X, y) in enumerate(train_loader):\n",
    "    if batch_id > 20:\n",
    "        break\n",
    "    X, y = X.to(device), y.to(device)\n",
    "    model.readout(X)\n",
    "\n",
    "_, (X, y) = next(enumerate(train_loader))\n",
    "X, y = X.to(device), y.to(device)\n",
    "\n",
    "\n",
    "output = model.readout(X).detach().cpu().numpy()\n",
    "sns.distplot(output.reshape(-1))\n",
    "\n",
    "np.std(output.reshape(-1))"
   ]
  },
  {
   "cell_type": "code",
   "execution_count": 13,
   "metadata": {
    "colab": {
     "base_uri": "https://localhost:8080/",
     "height": 254
    },
    "colab_type": "code",
    "id": "3UjKNNB55UcK",
    "outputId": "fd172ec4-e69a-4dc2-b325-b6387bbb6bab"
   },
   "outputs": [
    {
     "name": "stdout",
     "output_type": "stream",
     "text": [
      "torch.Size([64, 3, 3, 3])\n",
      "torch.Size([64, 64, 3, 3])\n",
      "torch.Size([64, 64, 3, 3])\n",
      "torch.Size([64, 64, 3, 3])\n",
      "torch.Size([64, 64, 3, 3])\n",
      "torch.Size([64, 64, 3, 3])\n",
      "torch.Size([64, 64, 3, 3])\n",
      "torch.Size([64, 64, 3, 3])\n",
      "torch.Size([64, 64, 3, 3])\n",
      "torch.Size([10, 64])\n",
      "torch.Size([10])\n",
      "297290\n"
     ]
    },
    {
     "data": {
      "text/plain": [
       "297290"
      ]
     },
     "execution_count": 13,
     "metadata": {},
     "output_type": "execute_result"
    }
   ],
   "source": [
    "from pytorch_impl.nns.utils import print_sizes\n",
    "\n",
    "print_sizes(Myrtle10(num_filters=64).to(device))"
   ]
  },
  {
   "cell_type": "code",
   "execution_count": 14,
   "metadata": {
    "colab": {},
    "colab_type": "code",
    "id": "mmwUlcrWPPQt"
   },
   "outputs": [],
   "source": [
    "model = Myrtle10(num_filters=256).to(device)\n",
    "\n",
    "learning_rate = 0.07\n",
    "\n",
    "estimator = SgdEstimator(model, nn.CrossEntropyLoss(), learning_rate)\n",
    "training  = ClassifierTraining(estimator, device)\n",
    "\n",
    "# training.train(train_loader, test_loader, num_epochs=30, learning_rate=learning_rate)"
   ]
  },
  {
   "cell_type": "code",
   "execution_count": 15,
   "metadata": {
    "colab": {},
    "colab_type": "code",
    "id": "RCVsNNKdbaZh"
   },
   "outputs": [],
   "source": [
    "# ClassifierTraining(estimator, device).get_accuracy(test_loader)"
   ]
  },
  {
   "cell_type": "code",
   "execution_count": 16,
   "metadata": {
    "colab": {
     "base_uri": "https://localhost:8080/",
     "height": 90
    },
    "colab_type": "code",
    "id": "l6lV0QkGBg-8",
    "outputId": "08a39365-a527-47fc-dbd4-feddb393e805"
   },
   "outputs": [
    {
     "name": "stdout",
     "output_type": "stream",
     "text": [
      "Files already downloaded and verified\n",
      "Files already downloaded and verified\n",
      "CPU times: user 3min 50s, sys: 1min 4s, total: 4min 54s\n",
      "Wall time: 45 s\n"
     ]
    }
   ],
   "source": [
    "%%time\n",
    "\n",
    "X_train, labels_train, X_test, labels_test = get_cifar_zca()"
   ]
  },
  {
   "cell_type": "code",
   "execution_count": 17,
   "metadata": {
    "colab": {},
    "colab_type": "code",
    "id": "aUiYk3vjZ4tQ"
   },
   "outputs": [],
   "source": [
    "N = 1280\n",
    "\n",
    "X_train      = torch.tensor(X_train[:N]).float()\n",
    "X_test       = torch.tensor(X_test[:N]).float()\n",
    "labels_train = torch.tensor(labels_train[:N], dtype=torch.long)\n",
    "labels_test  = torch.tensor(labels_test[:N],  dtype=torch.long)"
   ]
  },
  {
   "cell_type": "code",
   "execution_count": 18,
   "metadata": {
    "colab": {
     "base_uri": "https://localhost:8080/",
     "height": 35
    },
    "colab_type": "code",
    "id": "HpGzq3CIZhWA",
    "outputId": "5b3e2226-30ea-42b2-9671-e4f8dfe092d1"
   },
   "outputs": [
    {
     "data": {
      "text/plain": [
       "tensor([6, 9, 9, 4, 1, 1, 2, 7, 8, 3])"
      ]
     },
     "execution_count": 18,
     "metadata": {},
     "output_type": "execute_result"
    }
   ],
   "source": [
    "labels_train[:10]"
   ]
  },
  {
   "cell_type": "code",
   "execution_count": 19,
   "metadata": {
    "colab": {
     "base_uri": "https://localhost:8080/",
     "height": 35
    },
    "colab_type": "code",
    "id": "V_jcnc_wZ8kE",
    "outputId": "39b43ec2-dce7-4cf7-9537-26db2198d249"
   },
   "outputs": [
    {
     "data": {
      "text/plain": [
       "tensor([3, 8, 8, 0, 6, 6, 1, 6, 3, 1])"
      ]
     },
     "execution_count": 19,
     "metadata": {},
     "output_type": "execute_result"
    }
   ],
   "source": [
    "labels_test[:10]"
   ]
  },
  {
   "cell_type": "code",
   "execution_count": 20,
   "metadata": {
    "colab": {
     "base_uri": "https://localhost:8080/",
     "height": 35
    },
    "colab_type": "code",
    "id": "vloo3zxHGmmo",
    "outputId": "5d98b46e-0f03-4271-c6fc-8fb2d2ccaada"
   },
   "outputs": [
    {
     "data": {
      "text/plain": [
       "device(type='cuda', index=0)"
      ]
     },
     "execution_count": 20,
     "metadata": {},
     "output_type": "execute_result"
    }
   ],
   "source": [
    "torch.manual_seed(0)\n",
    "device = torch.device('cuda:0') if (torch.cuda.is_available()) else torch.device('cpu')\n",
    "device"
   ]
  },
  {
   "cell_type": "code",
   "execution_count": 21,
   "metadata": {
    "colab": {},
    "colab_type": "code",
    "id": "u8_wyg-AZG6a"
   },
   "outputs": [],
   "source": [
    "def augment_X(X):\n",
    "    def aug(x):\n",
    "        return CustomTensorDataset.augment_x(x, 'flips') \n",
    "    return torch.stack([aug(x) for x in X])"
   ]
  },
  {
   "cell_type": "code",
   "execution_count": 22,
   "metadata": {
    "colab": {
     "base_uri": "https://localhost:8080/",
     "height": 35
    },
    "colab_type": "code",
    "id": "Vjn8rnEsZlYG",
    "outputId": "b47bf042-cc03-4ce1-a34f-05c5f85c9214"
   },
   "outputs": [
    {
     "data": {
      "text/plain": [
       "torch.Size([2, 3, 32, 32])"
      ]
     },
     "execution_count": 22,
     "metadata": {},
     "output_type": "execute_result"
    }
   ],
   "source": [
    "X_train[:2].size()"
   ]
  },
  {
   "cell_type": "code",
   "execution_count": 23,
   "metadata": {
    "colab": {
     "base_uri": "https://localhost:8080/",
     "height": 35
    },
    "colab_type": "code",
    "id": "3Z4eePgkapNG",
    "outputId": "00ef0a8d-12c3-4b36-fa64-afc4467dbfd5"
   },
   "outputs": [
    {
     "data": {
      "text/plain": [
       "torch.Size([2, 3, 32, 32])"
      ]
     },
     "execution_count": 23,
     "metadata": {},
     "output_type": "execute_result"
    }
   ],
   "source": [
    "augment_X(X_train[:2]).size()"
   ]
  },
  {
   "cell_type": "code",
   "execution_count": 24,
   "metadata": {
    "colab": {},
    "colab_type": "code",
    "id": "sriHlV_-ILz5"
   },
   "outputs": [],
   "source": [
    "def compute_kernels(models, X_train, X_test, device):\n",
    "    with torch.no_grad():\n",
    "        X_train = X_train.to(device)\n",
    "        X_test  = X_test.to(device)\n",
    "\n",
    "        n_train = len(X_train)\n",
    "        n_test  = len(X_test)\n",
    "\n",
    "        train_kernel = torch.zeros([n_train, n_train]).to(device)\n",
    "        test_kernel  = torch.zeros([n_test,  n_train]).to(device)\n",
    "\n",
    "        scale = np.sqrt(1. / 0.0156249953)\n",
    "\n",
    "        m = 0\n",
    "        start_time = time.time()\n",
    "\n",
    "        for model_i, model in enumerate(models):\n",
    "            model = model.to(device)\n",
    "            if model_i & (model_i - 1) == 0:\n",
    "                print(f\"{model_i} models done. time {time.time() - start_time:.0f}s\")\n",
    "\n",
    "                train_features = scale * model.readout(X_train) \n",
    "                test_features  = scale * model.readout(X_test)\n",
    "\n",
    "                m += train_features.size()[1]\n",
    "\n",
    "                train_kernel += torch.matmul(train_features, train_features.T)\n",
    "                test_kernel  += torch.matmul(test_features,  train_features.T)\n",
    "\n",
    "        train_kernel /= m\n",
    "        test_kernel  /= m\n",
    "\n",
    "        return train_kernel, test_kernel"
   ]
  },
  {
   "cell_type": "code",
   "execution_count": 30,
   "metadata": {
    "colab": {},
    "colab_type": "code",
    "id": "DFK4RZoU2-OP"
   },
   "outputs": [],
   "source": [
    "n_models = 5000\n",
    "\n",
    "# 5000 * 32 = 160k\n",
    "\n",
    "models = [Myrtle7(num_filters=32) for _ in range(n_models)]"
   ]
  },
  {
   "cell_type": "code",
   "execution_count": 31,
   "metadata": {
    "colab": {
     "base_uri": "https://localhost:8080/",
     "height": 308
    },
    "colab_type": "code",
    "id": "gfoLvIho77hY",
    "outputId": "24b15ef9-dbb8-401b-e1ba-9e47ab24567f"
   },
   "outputs": [
    {
     "name": "stdout",
     "output_type": "stream",
     "text": [
      "0 models done. time 0s\n",
      "1 models done. time 0s\n",
      "2 models done. time 0s\n",
      "4 models done. time 0s\n",
      "8 models done. time 0s\n",
      "16 models done. time 0s\n",
      "32 models done. time 1s\n",
      "64 models done. time 1s\n",
      "128 models done. time 3s\n",
      "256 models done. time 6s\n",
      "512 models done. time 11s\n",
      "1024 models done. time 23s\n",
      "2048 models done. time 45s\n",
      "4096 models done. time 90s\n",
      "CPU times: user 1min 24s, sys: 25.6 s, total: 1min 50s\n",
      "Wall time: 1min 50s\n"
     ]
    }
   ],
   "source": [
    "%%time\n",
    "\n",
    "num_classes = 10\n",
    "\n",
    "y_train = to_one_hot(labels_train, num_classes).to(device)\n",
    "y_test  = to_one_hot(labels_test,  num_classes).to(device)\n",
    "\n",
    "train_kernel, test_kernel = compute_kernels(models, X_train, X_test, device)"
   ]
  },
  {
   "cell_type": "code",
   "execution_count": 32,
   "metadata": {
    "colab": {
     "base_uri": "https://localhost:8080/",
     "height": 108
    },
    "colab_type": "code",
    "id": "r_4o9XWILTWP",
    "outputId": "1983743d-ab2b-4e18-d660-f91ef6777600"
   },
   "outputs": [
    {
     "data": {
      "text/plain": [
       "tensor([[2.0000, 1.9919, 1.9859, 1.9944, 1.9915],\n",
       "        [1.9919, 2.0000, 1.9860, 1.9930, 1.9909],\n",
       "        [1.9859, 1.9860, 2.0000, 1.9849, 1.9886],\n",
       "        [1.9944, 1.9930, 1.9849, 2.0000, 1.9894],\n",
       "        [1.9915, 1.9909, 1.9886, 1.9894, 2.0000]], device='cuda:0')"
      ]
     },
     "execution_count": 32,
     "metadata": {},
     "output_type": "execute_result"
    }
   ],
   "source": [
    "train_kernel[:5,:5]"
   ]
  },
  {
   "cell_type": "code",
   "execution_count": 33,
   "metadata": {
    "colab": {
     "base_uri": "https://localhost:8080/",
     "height": 108
    },
    "colab_type": "code",
    "id": "57eWORmdLwei",
    "outputId": "1e892aad-4485-48c4-a024-edc5bd726f40"
   },
   "outputs": [
    {
     "data": {
      "text/plain": [
       "tensor([[1.9923, 1.9925, 1.9868, 1.9925, 1.9905],\n",
       "        [1.9874, 1.9901, 1.9821, 1.9857, 1.9911],\n",
       "        [1.9897, 1.9934, 1.9902, 1.9897, 1.9904],\n",
       "        [1.9886, 1.9906, 1.9872, 1.9859, 1.9903],\n",
       "        [1.9934, 1.9924, 1.9828, 1.9932, 1.9894]], device='cuda:0')"
      ]
     },
     "execution_count": 33,
     "metadata": {},
     "output_type": "execute_result"
    }
   ],
   "source": [
    "test_kernel[:5,:5]"
   ]
  },
  {
   "cell_type": "code",
   "execution_count": 34,
   "metadata": {
    "colab": {
     "base_uri": "https://localhost:8080/",
     "height": 35
    },
    "colab_type": "code",
    "id": "3KBjPusiBD8r",
    "outputId": "8ed4b0a6-c640-45bc-b63a-a82be61a314a"
   },
   "outputs": [
    {
     "data": {
      "text/plain": [
       "tensor(0.6070, device='cuda:0')"
      ]
     },
     "execution_count": 34,
     "metadata": {},
     "output_type": "execute_result"
    }
   ],
   "source": [
    "lr = 1e5\n",
    "\n",
    "n = len(train_kernel)\n",
    "reg = torch.eye(n).to(device) * 1e-3\n",
    "\n",
    "exp_term = - lr * compute_exp_term(- lr * (train_kernel + reg), device)\n",
    "y_pred = torch.matmul(test_kernel, torch.matmul(exp_term, - y_train))\n",
    "(y_pred.argmax(dim=1) == labels_test.to(device)).float().mean()"
   ]
  }
 ],
 "metadata": {
  "accelerator": "GPU",
  "colab": {
   "collapsed_sections": [],
   "name": "Myrtle10.ipynb",
   "provenance": []
  },
  "kernelspec": {
   "display_name": "Python 3",
   "language": "python",
   "name": "python3"
  },
  "language_info": {
   "codemirror_mode": {
    "name": "ipython",
    "version": 3
   },
   "file_extension": ".py",
   "mimetype": "text/x-python",
   "name": "python",
   "nbconvert_exporter": "python",
   "pygments_lexer": "ipython3",
   "version": "3.6.9"
  }
 },
 "nbformat": 4,
 "nbformat_minor": 4
}
