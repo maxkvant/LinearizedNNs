{
 "cells": [
  {
   "cell_type": "code",
   "execution_count": 1,
   "metadata": {},
   "outputs": [],
   "source": [
    "import sys\n",
    "sys.path.append(\"../src\")"
   ]
  },
  {
   "cell_type": "code",
   "execution_count": 2,
   "metadata": {},
   "outputs": [],
   "source": [
    "%load_ext autoreload"
   ]
  },
  {
   "cell_type": "code",
   "execution_count": 3,
   "metadata": {},
   "outputs": [],
   "source": [
    "%autoreload 2\n",
    "\n",
    "import sys\n",
    "import numpy as np\n",
    "from PIL import Image\n",
    "\n",
    "import torch\n",
    "import torch.nn as nn\n",
    "from torchvision import transforms, datasets\n",
    "\n",
    "import matplotlib.pyplot as plt\n",
    "from pytorch_impl.nns import ResNet\n",
    "from pytorch_impl.nns import warm_up_batch_norm\n",
    "from pytorch_impl.estimators import LinearizedSgdEstimator\n",
    "from pytorch_impl import ClassifierTraining"
   ]
  },
  {
   "cell_type": "code",
   "execution_count": null,
   "metadata": {},
   "outputs": [
    {
     "name": "stdout",
     "output_type": "stream",
     "text": [
      "Files already downloaded and verified\n",
      "Files already downloaded and verified\n"
     ]
    },
    {
     "data": {
      "text/plain": [
       "device(type='cuda', index=0)"
      ]
     },
     "execution_count": 4,
     "metadata": {},
     "output_type": "execute_result"
    }
   ],
   "source": [
    "num_classes = 10\n",
    "\n",
    "if torch.cuda.is_available():\n",
    "    device = torch.device('cuda:0')\n",
    "else:\n",
    "    device = torch.device('cpu')\n",
    "\n",
    "cifar10_stats = {\n",
    "    \"mean\" : (0.4914, 0.4822, 0.4465),\n",
    "    \"std\"  : (0.24705882352941178, 0.24352941176470588, 0.2615686274509804),\n",
    "}\n",
    "\n",
    "transform_train = transforms.Compose([\n",
    "    transforms.Lambda(lambda x: np.asarray(x)),\n",
    "    transforms.Lambda(lambda x: np.pad(x, [(4, 4), (4, 4), (0, 0)], mode='reflect')),\n",
    "    transforms.Lambda(lambda x: Image.fromarray(x)),\n",
    "    transforms.RandomCrop(32),\n",
    "    \n",
    "    transforms.RandomHorizontalFlip(),\n",
    "    transforms.ToTensor(),\n",
    "    transforms.Normalize(cifar10_stats['mean'], cifar10_stats['std']),\n",
    "])\n",
    "\n",
    "transform_test = transforms.Compose([\n",
    "    transforms.ToTensor(),\n",
    "    transforms.Normalize(cifar10_stats['mean'], cifar10_stats['std']),\n",
    "])\n",
    "\n",
    "train_loader = torch.utils.data.DataLoader(\n",
    "                  datasets.CIFAR10(root='./data', train=True, download=True, transform=transform_train),\n",
    "               batch_size=8, shuffle=True, pin_memory=True)\n",
    "\n",
    "test_loader  = torch.utils.data.DataLoader(\n",
    "                  datasets.CIFAR10(root='./data', train=False, download=True, transform=transform_test),\n",
    "               batch_size=8, shuffle=True, pin_memory=True)\n",
    "\n",
    "device"
   ]
  },
  {
   "cell_type": "code",
   "execution_count": null,
   "metadata": {},
   "outputs": [
    {
     "name": "stdout",
     "output_type": "stream",
     "text": [
      "BatchNorm2d\n",
      "BatchNorm2d\n",
      "BatchNorm2d\n",
      "BatchNorm2d\n",
      "BatchNorm2d\n",
      "BatchNorm2d\n",
      "BatchNorm2d\n",
      "BatchNorm2d\n",
      "BatchNorm2d\n",
      "BatchNorm2d\n",
      "BatchNorm2d\n",
      "BatchNorm2d\n",
      "BatchNorm2d\n",
      "BatchNorm2d\n",
      "BatchNorm2d\n",
      "BatchNorm2d\n",
      "BatchNorm2d\n"
     ]
    }
   ],
   "source": [
    "model = ResNet(1).to(device)\n",
    "model = warm_up_batch_norm(model, train_loader, device, limit=30)"
   ]
  },
  {
   "cell_type": "code",
   "execution_count": null,
   "metadata": {},
   "outputs": [],
   "source": [
    "estimator = LinearizedSgdEstimator(model, num_classes, nn.CrossEntropyLoss(), 0.01)\n",
    "training  = ClassifierTraining(estimator, device)"
   ]
  },
  {
   "cell_type": "code",
   "execution_count": null,
   "metadata": {},
   "outputs": [
    {
     "name": "stdout",
     "output_type": "stream",
     "text": [
      "epoch 0/5, 0s since start\n"
     ]
    },
    {
     "data": {
      "image/png": "[encoded data removed]",
      "text/plain": [
       "<Figure size 432x288 with 1 Axes>"
      ]
     },
     "metadata": {
      "needs_background": "light"
     },
     "output_type": "display_data"
    },
    {
     "name": "stdout",
     "output_type": "stream",
     "text": [
      "epoch 1/5, 150s since start\n"
     ]
    },
    {
     "data": {
      "image/png": "[encoded data removed]",
      "text/plain": [
       "<Figure size 432x288 with 1 Axes>"
      ]
     },
     "metadata": {
      "needs_background": "light"
     },
     "output_type": "display_data"
    },
    {
     "name": "stdout",
     "output_type": "stream",
     "text": [
      "epoch 2/5, 295s since start\n"
     ]
    }
   ],
   "source": [
    "training.train(train_loader, test_loader, num_epochs=5, learning_rate=0.01)"
   ]
  }
 ],
 "metadata": {
  "kernelspec": {
   "display_name": "Python 3",
   "language": "python",
   "name": "python3"
  },
  "language_info": {
   "codemirror_mode": {
    "name": "ipython",
    "version": 3
   },
   "file_extension": ".py",
   "mimetype": "text/x-python",
   "name": "python",
   "nbconvert_exporter": "python",
   "pygments_lexer": "ipython3",
   "version": "3.6.7"
  }
 },
 "nbformat": 4,
 "nbformat_minor": 2
}
